{
 "cells": [
  {
   "cell_type": "code",
   "execution_count": 3,
   "metadata": {},
   "outputs": [],
   "source": [
    "import numpy as np\n",
    "import pandas as pd\n",
    "import matplotlib.pyplot as plt\n",
    "\n"
   ]
  },
  {
   "attachments": {},
   "cell_type": "markdown",
   "metadata": {},
   "source": [
    "### what does the axis argument do in numpy.mean() ?"
   ]
  },
  {
   "cell_type": "code",
   "execution_count": 16,
   "metadata": {},
   "outputs": [
    {
     "name": "stdout",
     "output_type": "stream",
     "text": [
      "arr.shape=(5, 10)\n",
      "arr.mean()=5.5\n",
      "arr.mean(axis=0)=array([ 1.,  2.,  3.,  4.,  5.,  6.,  7.,  8.,  9., 10.])\n",
      "arr.mean(axis=1)=array([5.5, 5.5, 5.5, 5.5, 5.5])\n",
      "arr.mean().shape=()\n",
      "arr.mean(axis=0).shape=(10,)\n",
      "arr.mean(axis=1).shape=(5,)\n"
     ]
    }
   ],
   "source": [
    "# 2D array\n",
    "arr = np.array([[1, 2, 3, 4, 5, 6, 7, 8, 9, 10],\n",
    "               [1, 2, 3, 4, 5, 6, 7, 8, 9, 10],\n",
    "               [1, 2, 3, 4, 5, 6, 7, 8, 9, 10],\n",
    "               [1, 2, 3, 4, 5, 6, 7, 8, 9, 10],\n",
    "               [1, 2, 3, 4, 5, 6, 7, 8, 9, 10]]\n",
    "               )\n",
    "            \n",
    "print(f\"{arr.shape=}\",\n",
    "        f\"{arr.mean().shape=}\",\n",
    "        f\"{arr.mean(axis=0).shape=}\",\n",
    "        f\"{arr.mean(axis=1).shape=}\",\n",
    "        f\"{arr.mean()=}\",\n",
    "        f\"{arr.mean(axis=0)=}\",\n",
    "        f\"{arr.mean(axis=1)=}\",\n",
    "        sep=\"\\n\")"
   ]
  },
  {
   "cell_type": "code",
   "execution_count": 20,
   "metadata": {},
   "outputs": [
    {
     "name": "stdout",
     "output_type": "stream",
     "text": [
      "arr2.shape=(5, 2, 5)\n",
      "arr2 = \n",
      " [[[ 1  2  3  4  5]\n",
      "  [ 6  7  8  9 10]]\n",
      "\n",
      " [[ 1  2  3  4  5]\n",
      "  [ 6  7  8  9 10]]\n",
      "\n",
      " [[ 1  2  3  4  5]\n",
      "  [ 6  7  8  9 10]]\n",
      "\n",
      " [[ 1  2  3  4  5]\n",
      "  [ 6  7  8  9 10]]\n",
      "\n",
      " [[ 1  2  3  4  5]\n",
      "  [ 6  7  8  9 10]]]\n",
      "arr2.mean().shape=()\n",
      "arr2.mean(axis=0).shape=(2, 5)\n",
      "arr2.mean(axis=1).shape=(5, 5)\n",
      "arr2.mean(axis=2).shape=(5, 2)\n",
      "arr2.mean()=5.5\n",
      "arr2.mean(axis=0)=array([[ 1.,  2.,  3.,  4.,  5.],\n",
      "       [ 6.,  7.,  8.,  9., 10.]])\n",
      "arr2.mean(axis=1)=array([[3.5, 4.5, 5.5, 6.5, 7.5],\n",
      "       [3.5, 4.5, 5.5, 6.5, 7.5],\n",
      "       [3.5, 4.5, 5.5, 6.5, 7.5],\n",
      "       [3.5, 4.5, 5.5, 6.5, 7.5],\n",
      "       [3.5, 4.5, 5.5, 6.5, 7.5]])\n",
      "arr2.mean(axis=2)=array([[3., 8.],\n",
      "       [3., 8.],\n",
      "       [3., 8.],\n",
      "       [3., 8.],\n",
      "       [3., 8.]])\n"
     ]
    }
   ],
   "source": [
    "# reshape into 3D array\n",
    "arr2 = arr.reshape(5, 2, 5)\n",
    "\n",
    "print(f\"{arr2.shape=}\",\n",
    "        f\"arr2 = \\n {arr2}\",\n",
    "        f\"{arr2.mean().shape=}\",\n",
    "        f\"{arr2.mean(axis=0).shape=}\",\n",
    "        f\"{arr2.mean(axis=1).shape=}\",\n",
    "        f\"{arr2.mean(axis=2).shape=}\",\n",
    "        f\"{arr2.mean()=}\",\n",
    "        f\"{arr2.mean(axis=0)=}\",\n",
    "        f\"{arr2.mean(axis=1)=}\",\n",
    "        f\"{arr2.mean(axis=2)=}\",\n",
    "        sep=\"\\n\")"
   ]
  },
  {
   "cell_type": "code",
   "execution_count": null,
   "metadata": {},
   "outputs": [],
   "source": []
  },
  {
   "cell_type": "code",
   "execution_count": null,
   "metadata": {},
   "outputs": [],
   "source": []
  },
  {
   "cell_type": "code",
   "execution_count": null,
   "metadata": {},
   "outputs": [],
   "source": []
  },
  {
   "cell_type": "code",
   "execution_count": null,
   "metadata": {},
   "outputs": [],
   "source": []
  }
 ],
 "metadata": {
  "kernelspec": {
   "display_name": "base",
   "language": "python",
   "name": "python3"
  },
  "language_info": {
   "codemirror_mode": {
    "name": "ipython",
    "version": 3
   },
   "file_extension": ".py",
   "mimetype": "text/x-python",
   "name": "python",
   "nbconvert_exporter": "python",
   "pygments_lexer": "ipython3",
   "version": "3.9.13"
  },
  "orig_nbformat": 4,
  "vscode": {
   "interpreter": {
    "hash": "e4cce46d6be9934fbd27f9ca0432556941ea5bdf741d4f4d64c6cd7f8dfa8fba"
   }
  }
 },
 "nbformat": 4,
 "nbformat_minor": 2
}
