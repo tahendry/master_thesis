{
 "cells": [
  {
   "attachments": {},
   "cell_type": "markdown",
   "metadata": {},
   "source": [
    "Date: 05.01.2023 \\\n",
    "Author: Reto Hendry"
   ]
  },
  {
   "attachments": {},
   "cell_type": "markdown",
   "metadata": {},
   "source": [
    "This notebook was used for the training of CNNs. \\\n",
    "It does not show any usable results since it was still in a try and error phase. "
   ]
  },
  {
   "attachments": {},
   "cell_type": "markdown",
   "metadata": {},
   "source": [
    "### Import libraries and load data"
   ]
  },
  {
   "cell_type": "code",
   "execution_count": 4,
   "metadata": {},
   "outputs": [],
   "source": [
    "import nibabel as nib\n",
    "import nilearn as nil\n",
    "import scipy.ndimage as ndi\n",
    "import matplotlib.pyplot as plt\n",
    "import os\n",
    "import pandas as pd\n",
    "import numpy as np\n",
    "import sys\n",
    "\n",
    "from sklearn.model_selection import train_test_split, KFold, StratifiedKFold\n",
    "import tensorflow as tf\n",
    "from tensorflow import keras\n",
    "from tensorflow.keras import layers, regularizers, callbacks, initializers\n",
    "import keras_tuner as kt\n",
    "\n",
    "sys.path.append(os.path.abspath(os.path.join(os.getcwd(), os.pardir)))\n",
    "from functions.function_get_label_df import get_label_df\n",
    "from functions.function_get_feature_positions import get_feature_positions"
   ]
  },
  {
   "cell_type": "code",
   "execution_count": 2,
   "metadata": {},
   "outputs": [
    {
     "name": "stdout",
     "output_type": "stream",
     "text": [
      "posix.uname_result(sysname='Linux', nodename='dalcowks', release='5.13.0-40-generic', version='#45~20.04.1-Ubuntu SMP Mon Apr 4 09:38:31 UTC 2022', machine='x86_64')\n"
     ]
    }
   ],
   "source": [
    "# path to data\n",
    "#  - on Windows: C:/Users/tahendry/Desktop/Masterthesis_Reto/\n",
    "#  - on Linux:   ../data/\n",
    "\n",
    "try:\n",
    "    print(os.uname())\n",
    "    data_path = \"../data/\"\n",
    "except:\n",
    "    print(\"Windows\")\n",
    "    data_path = \"C:/Users/tahendry/Desktop/Masterthesis_Reto/\""
   ]
  },
  {
   "cell_type": "code",
   "execution_count": 7,
   "metadata": {},
   "outputs": [
    {
     "name": "stderr",
     "output_type": "stream",
     "text": [
      "/tmp/ipykernel_4151760/4283937719.py:7: FutureWarning: Defining usecols with out of bounds indices is deprecated and will raise a ParserError in a future version.\n",
      "  df_label = (pd.read_excel(os.path.join(data_path, label_file),\n"
     ]
    },
    {
     "data": {
      "text/html": [
       "<div>\n",
       "<style scoped>\n",
       "    .dataframe tbody tr th:only-of-type {\n",
       "        vertical-align: middle;\n",
       "    }\n",
       "\n",
       "    .dataframe tbody tr th {\n",
       "        vertical-align: top;\n",
       "    }\n",
       "\n",
       "    .dataframe thead th {\n",
       "        text-align: right;\n",
       "    }\n",
       "</style>\n",
       "<table border=\"1\" class=\"dataframe\">\n",
       "  <thead>\n",
       "    <tr style=\"text-align: right;\">\n",
       "      <th></th>\n",
       "      <th>Conn_SubjNr</th>\n",
       "      <th>Cond</th>\n",
       "    </tr>\n",
       "  </thead>\n",
       "  <tbody>\n",
       "    <tr>\n",
       "      <th>0</th>\n",
       "      <td>1</td>\n",
       "      <td>1</td>\n",
       "    </tr>\n",
       "    <tr>\n",
       "      <th>1</th>\n",
       "      <td>2</td>\n",
       "      <td>1</td>\n",
       "    </tr>\n",
       "    <tr>\n",
       "      <th>2</th>\n",
       "      <td>3</td>\n",
       "      <td>1</td>\n",
       "    </tr>\n",
       "    <tr>\n",
       "      <th>3</th>\n",
       "      <td>4</td>\n",
       "      <td>0</td>\n",
       "    </tr>\n",
       "    <tr>\n",
       "      <th>4</th>\n",
       "      <td>5</td>\n",
       "      <td>1</td>\n",
       "    </tr>\n",
       "  </tbody>\n",
       "</table>\n",
       "</div>"
      ],
      "text/plain": [
       "   Conn_SubjNr Cond\n",
       "0            1    1\n",
       "1            2    1\n",
       "2            3    1\n",
       "3            4    0\n",
       "4            5    1"
      ]
     },
     "execution_count": 7,
     "metadata": {},
     "output_type": "execute_result"
    }
   ],
   "source": [
    "# read in the excel-file with the labels\n",
    "data_path = \"../../data/\"\n",
    "label_file = \"Conn_IDs_Matching_90_subjects.xlsx\"\n",
    "\n",
    "# read excel with only the first three columns\n",
    "# Sham = 1, Verum = 2\n",
    "df_label = (pd.read_excel(os.path.join(data_path, label_file),\n",
    "                            usecols=[0, 1, 2])\n",
    "            .replace({\"Cond\": {1: 0}})\n",
    "            .replace({\"Cond\": {2: 1}})\n",
    "            )\n",
    "\n",
    "df_label[\"Cond\"] = df_label[\"Cond\"].astype(\"category\")\n",
    "\n",
    "label_df = df_label.copy()\n",
    "\n",
    "label_df.head()"
   ]
  },
  {
   "cell_type": "code",
   "execution_count": 13,
   "metadata": {},
   "outputs": [
    {
     "name": "stdout",
     "output_type": "stream",
     "text": [
      "['BETA_Subject001_Condition001_Measure001_Component001.nii', 'BETA_Subject002_Condition001_Measure001_Component001.nii', 'BETA_Subject003_Condition001_Measure001_Component001.nii', 'BETA_Subject004_Condition001_Measure001_Component001.nii', 'BETA_Subject005_Condition001_Measure001_Component001.nii']\n",
      "['BETA_Subject001_Condition002_Measure001_Component001.nii', 'BETA_Subject002_Condition002_Measure001_Component001.nii', 'BETA_Subject003_Condition002_Measure001_Component001.nii', 'BETA_Subject004_Condition002_Measure001_Component001.nii', 'BETA_Subject005_Condition002_Measure001_Component001.nii']\n"
     ]
    }
   ],
   "source": [
    "# read MVPA data\n",
    "path_content = os.listdir(os.path.join(data_path, \"Denoised_MVPA_8mm\"))\n",
    "\n",
    "# make two lists with pre (Condition002) and post (Condition003) data of first component\n",
    "comp1_pre = sorted([x for x in path_content \n",
    "                    if \"Component001\" in x \n",
    "                    and \"Condition001\" in x])\n",
    "comp1_post = sorted([x for x in path_content \n",
    "                    if \"Component001\" in x \n",
    "                    and \"Condition002\" in x])\n",
    "\n",
    "print(comp1_pre[:5])\n",
    "print(comp1_post[:5])"
   ]
  },
  {
   "attachments": {},
   "cell_type": "markdown",
   "metadata": {},
   "source": [
    "### Prepare data for keras"
   ]
  },
  {
   "cell_type": "code",
   "execution_count": 15,
   "metadata": {},
   "outputs": [
    {
     "name": "stdout",
     "output_type": "stream",
     "text": [
      "(91, 109, 91)\n",
      "<class 'numpy.ndarray'>\n"
     ]
    }
   ],
   "source": [
    "# create a dataset with the difference of pre and post data\n",
    "comp1_diff = []\n",
    "for pre, post in zip(comp1_pre, comp1_post):\n",
    "    pre_vol = nib.load(os.path.join(data_path, \"Denoised_MVPA_8mm\", pre))\n",
    "    post_vol = nib.load(os.path.join(data_path, \"Denoised_MVPA_8mm\", post))\n",
    "    pre_vol_data = pre_vol.get_fdata()\n",
    "    post_vol_data = post_vol.get_fdata()\n",
    "    diff_vol_data = post_vol_data - pre_vol_data\n",
    "    comp1_diff.append(diff_vol_data)\n",
    "\n",
    "# check the shape of the data\n",
    "print(comp1_diff[0].shape)\n",
    "\n",
    "# check the type of the data\n",
    "print(type(comp1_diff[0]))\n",
    "\n",
    "# takes about 4 mins to run on Dell"
   ]
  },
  {
   "cell_type": "code",
   "execution_count": 16,
   "metadata": {},
   "outputs": [
    {
     "name": "stdout",
     "output_type": "stream",
     "text": [
      "shape of one list element before stacking: comp1_diff[0].shape=(91, 109, 91)\n",
      "inpt_comp1_diff.shape=(90, 91, 109, 91, 1)\n",
      "inpt_comp1_diff.mean()=-2.538993041528751e-16\n",
      "inpt_comp1_diff.std()=0.999999999999968\n"
     ]
    }
   ],
   "source": [
    "# stack the data to later use it as input for the CNN\n",
    "# note: the first dimension is the number of samples\n",
    "print(f\"shape of one list element before stacking: {comp1_diff[0].shape=}\")\n",
    "inpt_comp1_diff = np.stack(comp1_diff, axis=0)\n",
    "\n",
    "# expand the dimensions to fit the input shape of the CNN\n",
    "# note: the last dimension is the number of channels\n",
    "inpt_comp1_diff = np.expand_dims(inpt_comp1_diff, axis=-1)\n",
    "\n",
    "# normalize the input data (zero mean, unit variance)\n",
    "# note: a CNN works best with normalized data\n",
    "inpt_comp1_diff = (inpt_comp1_diff - inpt_comp1_diff.mean()) / inpt_comp1_diff.std()\n",
    "\n",
    "print(f\"{inpt_comp1_diff.shape=}\",\n",
    "      f\"{inpt_comp1_diff.mean()=}\",\n",
    "      f\"{inpt_comp1_diff.std()=}\", sep=\"\\n\")"
   ]
  },
  {
   "cell_type": "code",
   "execution_count": 19,
   "metadata": {},
   "outputs": [
    {
     "name": "stdout",
     "output_type": "stream",
     "text": [
      "x_train.shape=(72, 91, 109, 91, 1)\n",
      "x_test.shape=(18, 91, 109, 91, 1)\n",
      "y_train.shape=(72,)\n",
      "y_test.shape=(18,)\n"
     ]
    }
   ],
   "source": [
    "# split the data into training and test data\n",
    "# use 80% of the data for training and 20% for testing\n",
    "x_train, x_test, y_train, y_test = train_test_split(inpt_comp1_diff, \n",
    "                                                    label_df[\"Cond\"], \n",
    "                                                    test_size=0.2,\n",
    "                                                    random_state=42,\n",
    "                                                    stratify=label_df[\"Cond\"]\n",
    "                                                    )\n",
    "\n",
    "# check the shape of the data\n",
    "print(f\"{x_train.shape=}\",\n",
    "        f\"{x_test.shape=}\",\n",
    "        f\"{y_train.shape=}\",\n",
    "        f\"{y_test.shape=}\", sep=\"\\n\")\n",
    "\n",
    "# prepare for k-fold cross-validation\n",
    "# note: StratifiedKFold ensures that the proportion of samples of each class is the same in each fold\n",
    "nbr_of_folds = 9\n",
    "kfold = StratifiedKFold(n_splits=nbr_of_folds, shuffle=True, random_state=42)"
   ]
  },
  {
   "attachments": {},
   "cell_type": "markdown",
   "metadata": {},
   "source": [
    "### Built some models"
   ]
  },
  {
   "attachments": {},
   "cell_type": "markdown",
   "metadata": {},
   "source": [
    "#### 3D-CNN"
   ]
  },
  {
   "cell_type": "code",
   "execution_count": 20,
   "metadata": {},
   "outputs": [
    {
     "name": "stderr",
     "output_type": "stream",
     "text": [
      "2023-05-14 15:19:59.359030: W tensorflow/compiler/xla/stream_executor/platform/default/dso_loader.cc:64] Could not load dynamic library 'libcusolver.so.11'; dlerror: libcusolver.so.11: cannot open shared object file: No such file or directory\n",
      "2023-05-14 15:19:59.481701: W tensorflow/core/common_runtime/gpu/gpu_device.cc:1934] Cannot dlopen some GPU libraries. Please make sure the missing libraries mentioned above are installed properly if you would like to use GPU. Follow the guide at https://www.tensorflow.org/install/gpu for how to download and setup the required libraries for your platform.\n",
      "Skipping registering GPU devices...\n",
      "2023-05-14 15:19:59.484321: I tensorflow/core/platform/cpu_feature_guard.cc:193] This TensorFlow binary is optimized with oneAPI Deep Neural Network Library (oneDNN) to use the following CPU instructions in performance-critical operations:  AVX2 AVX512F AVX512_VNNI FMA\n",
      "To enable them in other operations, rebuild TensorFlow with the appropriate compiler flags.\n"
     ]
    },
    {
     "name": "stdout",
     "output_type": "stream",
     "text": [
      "Model: \"model\"\n",
      "_________________________________________________________________\n",
      " Layer (type)                Output Shape              Param #   \n",
      "=================================================================\n",
      " input_1 (InputLayer)        [(None, 91, 109, 91, 1)]  0         \n",
      "                                                                 \n",
      " conv3d (Conv3D)             (None, 89, 107, 89, 16)   448       \n",
      "                                                                 \n",
      " leaky_re_lu (LeakyReLU)     (None, 89, 107, 89, 16)   0         \n",
      "                                                                 \n",
      " max_pooling3d (MaxPooling3D  (None, 44, 53, 44, 16)   0         \n",
      " )                                                               \n",
      "                                                                 \n",
      " batch_normalization (BatchN  (None, 44, 53, 44, 16)   64        \n",
      " ormalization)                                                   \n",
      "                                                                 \n",
      " conv3d_1 (Conv3D)           (None, 42, 51, 42, 32)    13856     \n",
      "                                                                 \n",
      " leaky_re_lu_1 (LeakyReLU)   (None, 42, 51, 42, 32)    0         \n",
      "                                                                 \n",
      " max_pooling3d_1 (MaxPooling  (None, 21, 25, 21, 32)   0         \n",
      " 3D)                                                             \n",
      "                                                                 \n",
      " batch_normalization_1 (Batc  (None, 21, 25, 21, 32)   128       \n",
      " hNormalization)                                                 \n",
      "                                                                 \n",
      " flatten (Flatten)           (None, 352800)            0         \n",
      "                                                                 \n",
      " dense (Dense)               (None, 128)               45158528  \n",
      "                                                                 \n",
      " leaky_re_lu_2 (LeakyReLU)   (None, 128)               0         \n",
      "                                                                 \n",
      " batch_normalization_2 (Batc  (None, 128)              512       \n",
      " hNormalization)                                                 \n",
      "                                                                 \n",
      " dropout (Dropout)           (None, 128)               0         \n",
      "                                                                 \n",
      " dense_1 (Dense)             (None, 1)                 129       \n",
      "                                                                 \n",
      "=================================================================\n",
      "Total params: 45,173,665\n",
      "Trainable params: 45,173,313\n",
      "Non-trainable params: 352\n",
      "_________________________________________________________________\n"
     ]
    },
    {
     "data": {
      "text/plain": [
       "<keras.engine.functional.Functional at 0x7fcbcc7eeb90>"
      ]
     },
     "execution_count": 20,
     "metadata": {},
     "output_type": "execute_result"
    }
   ],
   "source": [
    "# identical model to the M2DCNN Paper\n",
    "\n",
    "# built a keras CNN model with functional API\n",
    "def build_compile_3DCNN(summary=False):\n",
    "\n",
    "    # layer 1\n",
    "    inputs = keras.Input(shape=(inpt_comp1_diff.shape[1:]))\n",
    "    x = layers.Conv3D(filters=16, \n",
    "                      kernel_size=3, \n",
    "                      strides=1,\n",
    "                      kernel_initializer=initializers.glorot_normal()) (inputs)\n",
    "    x = keras.layers.LeakyReLU() (x)\n",
    "    x = layers.MaxPooling3D(pool_size=2, \n",
    "                            strides=2, \n",
    "                            padding='valid') (x)\n",
    "    x = keras.layers.BatchNormalization() (x)\n",
    "\n",
    "    # layer 2\n",
    "    x = layers.Conv3D(filters=32, \n",
    "                      kernel_size=3, \n",
    "                      strides=1,\n",
    "                      kernel_initializer=initializers.glorot_normal()) (x)\n",
    "    x = keras.layers.LeakyReLU() (x)\n",
    "    x = layers.MaxPooling3D(pool_size=2, \n",
    "                            strides=2, \n",
    "                            padding='valid') (x)\n",
    "    x = keras.layers.BatchNormalization()  (x)\n",
    "\n",
    "    # flatten and create dense layer\n",
    "    x = layers.Flatten() (x)\n",
    "    x = layers.Dense(units=128,\n",
    "                     kernel_initializer=initializers.glorot_normal()) (x)\n",
    "    x = keras.layers.LeakyReLU() (x)\n",
    "    x = keras.layers.BatchNormalization() (x)\n",
    "    x = keras.layers.Dropout(0.5) (x)\n",
    "    outputs = layers.Dense(1, activation=\"sigmoid\") (x)\n",
    "\n",
    "    # define the model\n",
    "    model = keras.Model(inputs=inputs, outputs=outputs)\n",
    "\n",
    "    if summary == True:\n",
    "        model.summary()\n",
    "\n",
    "    # compile the model\n",
    "    my_adam = keras.optimizers.Adam(learning_rate=0.0025, beta_1=0.9, beta_2=0.999, amsgrad=True)\n",
    "    model.compile(optimizer=my_adam,\n",
    "                    loss='binary_crossentropy',\n",
    "                    metrics=[keras.metrics.Accuracy(name=\"Accuracy\")])\n",
    "\n",
    "    return model\n",
    "\n",
    "build_compile_3DCNN(summary=True)"
   ]
  },
  {
   "attachments": {},
   "cell_type": "markdown",
   "metadata": {},
   "source": [
    "#### s2D-CNN"
   ]
  },
  {
   "cell_type": "code",
   "execution_count": 21,
   "metadata": {},
   "outputs": [
    {
     "ename": "ValueError",
     "evalue": "Input 0 of layer \"max_pooling2d\" is incompatible with the layer: expected ndim=4, found ndim=5. Full shape received: (None, 91, 107, 89, 16)",
     "output_type": "error",
     "traceback": [
      "\u001b[0;31m---------------------------------------------------------------------------\u001b[0m",
      "\u001b[0;31mValueError\u001b[0m                                Traceback (most recent call last)",
      "Cell \u001b[0;32mIn[21], line 52\u001b[0m\n\u001b[1;32m     46\u001b[0m     model\u001b[39m.\u001b[39mcompile(optimizer\u001b[39m=\u001b[39mmy_adam,\n\u001b[1;32m     47\u001b[0m                     loss\u001b[39m=\u001b[39m\u001b[39m'\u001b[39m\u001b[39mbinary_crossentropy\u001b[39m\u001b[39m'\u001b[39m,\n\u001b[1;32m     48\u001b[0m                     metrics\u001b[39m=\u001b[39m[keras\u001b[39m.\u001b[39mmetrics\u001b[39m.\u001b[39mAccuracy(name\u001b[39m=\u001b[39m\u001b[39m\"\u001b[39m\u001b[39mAccuracy\u001b[39m\u001b[39m\"\u001b[39m)])\n\u001b[1;32m     50\u001b[0m     \u001b[39mreturn\u001b[39;00m model\n\u001b[0;32m---> 52\u001b[0m build_compile_s2DCNN(summary\u001b[39m=\u001b[39;49m\u001b[39mTrue\u001b[39;49;00m)\n",
      "Cell \u001b[0;32mIn[21], line 13\u001b[0m, in \u001b[0;36mbuild_compile_s2DCNN\u001b[0;34m(summary)\u001b[0m\n\u001b[1;32m      8\u001b[0m x \u001b[39m=\u001b[39m layers\u001b[39m.\u001b[39mConv2D(filters\u001b[39m=\u001b[39m\u001b[39m16\u001b[39m, \n\u001b[1;32m      9\u001b[0m                   kernel_size\u001b[39m=\u001b[39m\u001b[39m3\u001b[39m, \n\u001b[1;32m     10\u001b[0m                   strides\u001b[39m=\u001b[39m\u001b[39m1\u001b[39m,\n\u001b[1;32m     11\u001b[0m                   kernel_initializer\u001b[39m=\u001b[39minitializers\u001b[39m.\u001b[39mglorot_normal()) (inputs)\n\u001b[1;32m     12\u001b[0m x \u001b[39m=\u001b[39m keras\u001b[39m.\u001b[39mlayers\u001b[39m.\u001b[39mLeakyReLU() (x)\n\u001b[0;32m---> 13\u001b[0m x \u001b[39m=\u001b[39m layers\u001b[39m.\u001b[39;49mMaxPooling2D(pool_size\u001b[39m=\u001b[39;49m\u001b[39m2\u001b[39;49m, \n\u001b[1;32m     14\u001b[0m                         strides\u001b[39m=\u001b[39;49m\u001b[39m2\u001b[39;49m, \n\u001b[1;32m     15\u001b[0m                         padding\u001b[39m=\u001b[39;49m\u001b[39m'\u001b[39;49m\u001b[39mvalid\u001b[39;49m\u001b[39m'\u001b[39;49m) (x)\n\u001b[1;32m     16\u001b[0m x \u001b[39m=\u001b[39m keras\u001b[39m.\u001b[39mlayers\u001b[39m.\u001b[39mBatchNormalization() (x)\n\u001b[1;32m     18\u001b[0m \u001b[39m# layer 2\u001b[39;00m\n",
      "File \u001b[0;32m~/Documents/master_thesis/env_tensorflow/lib/python3.10/site-packages/keras/utils/traceback_utils.py:70\u001b[0m, in \u001b[0;36mfilter_traceback.<locals>.error_handler\u001b[0;34m(*args, **kwargs)\u001b[0m\n\u001b[1;32m     67\u001b[0m     filtered_tb \u001b[39m=\u001b[39m _process_traceback_frames(e\u001b[39m.\u001b[39m__traceback__)\n\u001b[1;32m     68\u001b[0m     \u001b[39m# To get the full stack trace, call:\u001b[39;00m\n\u001b[1;32m     69\u001b[0m     \u001b[39m# `tf.debugging.disable_traceback_filtering()`\u001b[39;00m\n\u001b[0;32m---> 70\u001b[0m     \u001b[39mraise\u001b[39;00m e\u001b[39m.\u001b[39mwith_traceback(filtered_tb) \u001b[39mfrom\u001b[39;00m \u001b[39mNone\u001b[39m\n\u001b[1;32m     71\u001b[0m \u001b[39mfinally\u001b[39;00m:\n\u001b[1;32m     72\u001b[0m     \u001b[39mdel\u001b[39;00m filtered_tb\n",
      "File \u001b[0;32m~/Documents/master_thesis/env_tensorflow/lib/python3.10/site-packages/keras/engine/input_spec.py:232\u001b[0m, in \u001b[0;36massert_input_compatibility\u001b[0;34m(input_spec, inputs, layer_name)\u001b[0m\n\u001b[1;32m    230\u001b[0m     ndim \u001b[39m=\u001b[39m shape\u001b[39m.\u001b[39mrank\n\u001b[1;32m    231\u001b[0m     \u001b[39mif\u001b[39;00m ndim \u001b[39m!=\u001b[39m spec\u001b[39m.\u001b[39mndim:\n\u001b[0;32m--> 232\u001b[0m         \u001b[39mraise\u001b[39;00m \u001b[39mValueError\u001b[39;00m(\n\u001b[1;32m    233\u001b[0m             \u001b[39mf\u001b[39m\u001b[39m'\u001b[39m\u001b[39mInput \u001b[39m\u001b[39m{\u001b[39;00minput_index\u001b[39m}\u001b[39;00m\u001b[39m of layer \u001b[39m\u001b[39m\"\u001b[39m\u001b[39m{\u001b[39;00mlayer_name\u001b[39m}\u001b[39;00m\u001b[39m\"\u001b[39m\u001b[39m \u001b[39m\u001b[39m'\u001b[39m\n\u001b[1;32m    234\u001b[0m             \u001b[39m\"\u001b[39m\u001b[39mis incompatible with the layer: \u001b[39m\u001b[39m\"\u001b[39m\n\u001b[1;32m    235\u001b[0m             \u001b[39mf\u001b[39m\u001b[39m\"\u001b[39m\u001b[39mexpected ndim=\u001b[39m\u001b[39m{\u001b[39;00mspec\u001b[39m.\u001b[39mndim\u001b[39m}\u001b[39;00m\u001b[39m, found ndim=\u001b[39m\u001b[39m{\u001b[39;00mndim\u001b[39m}\u001b[39;00m\u001b[39m. \u001b[39m\u001b[39m\"\u001b[39m\n\u001b[1;32m    236\u001b[0m             \u001b[39mf\u001b[39m\u001b[39m\"\u001b[39m\u001b[39mFull shape received: \u001b[39m\u001b[39m{\u001b[39;00m\u001b[39mtuple\u001b[39m(shape)\u001b[39m}\u001b[39;00m\u001b[39m\"\u001b[39m\n\u001b[1;32m    237\u001b[0m         )\n\u001b[1;32m    238\u001b[0m \u001b[39mif\u001b[39;00m spec\u001b[39m.\u001b[39mmax_ndim \u001b[39mis\u001b[39;00m \u001b[39mnot\u001b[39;00m \u001b[39mNone\u001b[39;00m:\n\u001b[1;32m    239\u001b[0m     ndim \u001b[39m=\u001b[39m x\u001b[39m.\u001b[39mshape\u001b[39m.\u001b[39mrank\n",
      "\u001b[0;31mValueError\u001b[0m: Input 0 of layer \"max_pooling2d\" is incompatible with the layer: expected ndim=4, found ndim=5. Full shape received: (None, 91, 107, 89, 16)"
     ]
    }
   ],
   "source": [
    "# identical model to the M2DCNN Paper\n",
    "\n",
    "# built a keras CNN model with functional API\n",
    "def build_compile_s2DCNN(summary=False):\n",
    "\n",
    "    # layer 1\n",
    "    inputs = keras.Input(shape=(inpt_comp1_diff.shape[1:]))\n",
    "    x = layers.Conv2D(filters=16, \n",
    "                      kernel_size=3, \n",
    "                      strides=1,\n",
    "                      kernel_initializer=initializers.glorot_normal()) (inputs)\n",
    "    x = keras.layers.LeakyReLU() (x)\n",
    "    x = layers.MaxPooling2D(pool_size=2, \n",
    "                            strides=2, \n",
    "                            padding='valid') (x)\n",
    "    x = keras.layers.BatchNormalization() (x)\n",
    "\n",
    "    # layer 2\n",
    "    x = layers.Conv2D(filters=32, \n",
    "                      kernel_size=3, \n",
    "                      strides=1,\n",
    "                      kernel_initializer=initializers.glorot_normal()) (x)\n",
    "    x = keras.layers.LeakyReLU() (x)\n",
    "    x = layers.MaxPooling2D(pool_size=2, \n",
    "                            strides=2, \n",
    "                            padding='valid') (x)\n",
    "    x = keras.layers.BatchNormalization()  (x)\n",
    "\n",
    "    # flatten and create dense layer\n",
    "    x = layers.Flatten() (x)\n",
    "    x = layers.Dense(units=128,\n",
    "                     kernel_initializer=initializers.glorot_normal()) (x)\n",
    "    x = keras.layers.LeakyReLU() (x)\n",
    "    x = keras.layers.BatchNormalization() (x)\n",
    "    x = keras.layers.Dropout(0.5) (x)\n",
    "    outputs = layers.Dense(1, activation=\"sigmoid\") (x)\n",
    "\n",
    "    # define the model\n",
    "    model = keras.Model(inputs=inputs, outputs=outputs)\n",
    "\n",
    "    if summary == True:\n",
    "        model.summary()\n",
    "\n",
    "    # compile the model\n",
    "    my_adam = keras.optimizers.Adam(learning_rate=0.0025, beta_1=0.9, beta_2=0.999, amsgrad=True)\n",
    "    model.compile(optimizer=my_adam,\n",
    "                    loss='binary_crossentropy',\n",
    "                    metrics=[keras.metrics.Accuracy(name=\"Accuracy\")])\n",
    "\n",
    "    return model\n",
    "\n",
    "build_compile_s2DCNN(summary=True)"
   ]
  },
  {
   "attachments": {},
   "cell_type": "markdown",
   "metadata": {},
   "source": [
    "#### M2D-CNN"
   ]
  },
  {
   "cell_type": "code",
   "execution_count": 22,
   "metadata": {},
   "outputs": [
    {
     "ename": "ValueError",
     "evalue": "too many values to unpack (expected 3)",
     "output_type": "error",
     "traceback": [
      "\u001b[0;31m---------------------------------------------------------------------------\u001b[0m",
      "\u001b[0;31mValueError\u001b[0m                                Traceback (most recent call last)",
      "Cell \u001b[0;32mIn[22], line 125\u001b[0m\n\u001b[1;32m    119\u001b[0m     model\u001b[39m.\u001b[39mcompile(optimizer\u001b[39m=\u001b[39mmy_adam,\n\u001b[1;32m    120\u001b[0m                     loss\u001b[39m=\u001b[39m\u001b[39m'\u001b[39m\u001b[39mbinary_crossentropy\u001b[39m\u001b[39m'\u001b[39m,\n\u001b[1;32m    121\u001b[0m                     metrics\u001b[39m=\u001b[39m[keras\u001b[39m.\u001b[39mmetrics\u001b[39m.\u001b[39mAccuracy(name\u001b[39m=\u001b[39m\u001b[39m\"\u001b[39m\u001b[39mAccuracy\u001b[39m\u001b[39m\"\u001b[39m)])\n\u001b[1;32m    123\u001b[0m     \u001b[39mreturn\u001b[39;00m model\n\u001b[0;32m--> 125\u001b[0m build_compile_M2DCNN(summary\u001b[39m=\u001b[39;49m\u001b[39mTrue\u001b[39;49;00m)\n",
      "Cell \u001b[0;32mIn[22], line 6\u001b[0m, in \u001b[0;36mbuild_compile_M2DCNN\u001b[0;34m(summary)\u001b[0m\n\u001b[1;32m      4\u001b[0m \u001b[39mdef\u001b[39;00m \u001b[39mbuild_compile_M2DCNN\u001b[39m(summary\u001b[39m=\u001b[39m\u001b[39mFalse\u001b[39;00m):\n\u001b[0;32m----> 6\u001b[0m     DIMX, DIMY, DIMZ \u001b[39m=\u001b[39m inpt_comp1_diff\u001b[39m.\u001b[39mshape[\u001b[39m1\u001b[39m:]\n\u001b[1;32m      8\u001b[0m     \u001b[39mdef\u001b[39;00m \u001b[39mup_model\u001b[39m(input_tensor):\n\u001b[1;32m      9\u001b[0m         \u001b[39m# layer 1\u001b[39;00m\n\u001b[1;32m     10\u001b[0m         x \u001b[39m=\u001b[39m layers\u001b[39m.\u001b[39mConv2D(filters\u001b[39m=\u001b[39m\u001b[39m16\u001b[39m, \n\u001b[1;32m     11\u001b[0m                         kernel_size\u001b[39m=\u001b[39m\u001b[39m3\u001b[39m, \n\u001b[1;32m     12\u001b[0m                         strides\u001b[39m=\u001b[39m\u001b[39m1\u001b[39m,\n\u001b[1;32m     13\u001b[0m                         kernel_initializer\u001b[39m=\u001b[39minitializers\u001b[39m.\u001b[39mglorot_normal()) (input_tensor)\n",
      "\u001b[0;31mValueError\u001b[0m: too many values to unpack (expected 3)"
     ]
    }
   ],
   "source": [
    "# identical model to the M2DCNN Paper\n",
    "\n",
    "# built a keras CNN model with functional API\n",
    "def build_compile_M2DCNN(summary=False):\n",
    "\n",
    "    DIMX, DIMY, DIMZ = inpt_comp1_diff.shape[1:]\n",
    "\n",
    "    def up_model(input_tensor):\n",
    "        # layer 1\n",
    "        x = layers.Conv2D(filters=16, \n",
    "                        kernel_size=3, \n",
    "                        strides=1,\n",
    "                        kernel_initializer=initializers.glorot_normal()) (input_tensor)\n",
    "        x = layers.LeakyReLU() (x)\n",
    "        x = layers.MaxPooling2D(pool_size=2, \n",
    "                                strides=2, \n",
    "                                padding='valid') (x)\n",
    "        x = layers.BatchNormalization() (x)\n",
    "\n",
    "        # layer 2\n",
    "        x = layers.Conv2D(filters=32, \n",
    "                        kernel_size=3, \n",
    "                        strides=1,\n",
    "                        kernel_initializer=initializers.glorot_normal()) (x)\n",
    "        x = layers.LeakyReLU() (x)\n",
    "        x = layers.MaxPooling2D(pool_size=2, \n",
    "                                strides=2, \n",
    "                                padding='valid') (x)\n",
    "        x = layers.BatchNormalization()  (x)\n",
    "\n",
    "        # flatten and create dense layer\n",
    "        x = layers.Flatten() (x)\n",
    "        return x\n",
    "\n",
    "\n",
    "    def front_model(input_tensor):\n",
    "        # layer 1\n",
    "        x = layers.Conv2D(filters=16, \n",
    "                        kernel_size=3, \n",
    "                        strides=1,\n",
    "                        kernel_initializer=initializers.glorot_normal()) (input_tensor)\n",
    "        x = layers.LeakyReLU() (x)\n",
    "        x = layers.MaxPooling2D(pool_size=2, \n",
    "                                strides=2, \n",
    "                                padding='valid') (x)\n",
    "        x = layers.BatchNormalization() (x)\n",
    "\n",
    "        # layer 2\n",
    "        x = layers.Conv2D(filters=32, \n",
    "                        kernel_size=3, \n",
    "                        strides=1,\n",
    "                        kernel_initializer=initializers.glorot_normal()) (x)\n",
    "        x = layers.LeakyReLU() (x)\n",
    "        x = layers.MaxPooling2D(pool_size=2, \n",
    "                                strides=2, \n",
    "                                padding='valid') (x)\n",
    "        x = layers.BatchNormalization()  (x)\n",
    "\n",
    "        # flatten and create dense layer\n",
    "        x = layers.Flatten() (x)\n",
    "        return x\n",
    "\n",
    "\n",
    "    def left_model(input_tensor):\n",
    "        # layer 1\n",
    "        x = layers.Conv2D(filters=16, \n",
    "                        kernel_size=3, \n",
    "                        strides=1,\n",
    "                        kernel_initializer=initializers.glorot_normal()) (input_tensor)\n",
    "        x = layers.LeakyReLU() (x)\n",
    "        x = layers.MaxPooling2D(pool_size=2, \n",
    "                                strides=2, \n",
    "                                padding='valid') (x)\n",
    "        x = layers.BatchNormalization() (x)\n",
    "\n",
    "        # layer 2\n",
    "        x = layers.Conv2D(filters=32, \n",
    "                        kernel_size=3, \n",
    "                        strides=1,\n",
    "                        kernel_initializer=initializers.glorot_normal()) (x)\n",
    "        x = layers.LeakyReLU() (x)\n",
    "        x = layers.MaxPooling2D(pool_size=2, \n",
    "                                strides=2, \n",
    "                                padding='valid') (x)\n",
    "        x = layers.BatchNormalization()  (x)\n",
    "\n",
    "        # flatten and create dense layer\n",
    "        x = layers.Flatten() (x)\n",
    "        return x\n",
    "\n",
    "    # NOTE: eventually only works with keras.layers.Input\n",
    "    up_input = layers.Input(shape=(DIMX, DIMY, DIMZ))\n",
    "    front_input = layers.Input(shape=(DIMX, DIMZ, DIMY))\n",
    "    left_input = layers.Input(shape=(DIMY, DIMZ, DIMX))\n",
    "\n",
    "    up_output = up_model(up_input)\n",
    "    front_output = front_model(front_input)\n",
    "    left_output = left_model(left_input)\n",
    "\n",
    "    # concatenate the outputs of the multichannel model\n",
    "    merged = layers.Concatenate() ([up_output, front_output, left_output])\n",
    "    fm = layers.BatchNormalization() (merged)\n",
    "    fm = layers.Dense(units=128, \n",
    "                            kernel_initializer=initializers.glorot_normal()) (fm)\n",
    "    fm = layers.LeakyReLU() (fm)\n",
    "    fm = layers.BatchNormalization() (fm)\n",
    "    fm = layers.Dropout(0.5) (fm)\n",
    "    outputs = layers.Dense(units=1, activation='sigmoid') (fm)\n",
    "\n",
    "    # define the model\n",
    "    model = keras.Model(inputs=[up_input, front_input, left_input], outputs=outputs)\n",
    "\n",
    "    if summary == True:\n",
    "        model.summary()\n",
    "        keras.utils.plot_model(model, \"M2DCNN.png\", show_shapes=True)\n",
    "\n",
    "    # compile the model\n",
    "    my_adam = keras.optimizers.Adam(learning_rate=0.0025, beta_1=0.9, beta_2=0.999, amsgrad=True)\n",
    "    model.compile(optimizer=my_adam,\n",
    "                    loss='binary_crossentropy',\n",
    "                    metrics=[keras.metrics.Accuracy(name=\"Accuracy\")])\n",
    "\n",
    "    return model\n",
    "\n",
    "build_compile_M2DCNN(summary=True)"
   ]
  },
  {
   "attachments": {},
   "cell_type": "markdown",
   "metadata": {},
   "source": [
    "### cross validation"
   ]
  },
  {
   "cell_type": "code",
   "execution_count": 23,
   "metadata": {},
   "outputs": [
    {
     "name": "stdout",
     "output_type": "stream",
     "text": [
      "cross validation started...\n",
      "size of the training data: 64\n",
      "size of the test data: 8\n",
      "Fold 1 of 9\n"
     ]
    },
    {
     "ename": "NameError",
     "evalue": "name 'build_and_compile_model' is not defined",
     "output_type": "error",
     "traceback": [
      "\u001b[0;31m---------------------------------------------------------------------------\u001b[0m",
      "\u001b[0;31mNameError\u001b[0m                                 Traceback (most recent call last)",
      "Cell \u001b[0;32mIn[23], line 34\u001b[0m\n\u001b[1;32m     25\u001b[0m y_test_fold \u001b[39m=\u001b[39m y_train\u001b[39m.\u001b[39miloc[test_idx]\n\u001b[1;32m     27\u001b[0m \u001b[39m# print shape of the folds\u001b[39;00m\n\u001b[1;32m     28\u001b[0m \u001b[39m# print(f\"{x_train_fold.shape=}\",\u001b[39;00m\n\u001b[1;32m     29\u001b[0m \u001b[39m#     f\"{x_test_fold.shape=}\",\u001b[39;00m\n\u001b[0;32m   (...)\u001b[0m\n\u001b[1;32m     32\u001b[0m \n\u001b[1;32m     33\u001b[0m \u001b[39m# build and compile the model\u001b[39;00m\n\u001b[0;32m---> 34\u001b[0m model \u001b[39m=\u001b[39m build_and_compile_model()\n\u001b[1;32m     36\u001b[0m \u001b[39m# train the model\u001b[39;00m\n\u001b[1;32m     37\u001b[0m history \u001b[39m=\u001b[39m model\u001b[39m.\u001b[39mfit(x_train_fold, y_train_fold,\n\u001b[1;32m     38\u001b[0m                     epochs\u001b[39m=\u001b[39m\u001b[39m20\u001b[39m,\n\u001b[1;32m     39\u001b[0m                     batch_size\u001b[39m=\u001b[39m\u001b[39m4\u001b[39m,\n\u001b[1;32m     40\u001b[0m                     validation_data\u001b[39m=\u001b[39m(x_test_fold, y_test_fold),\n\u001b[1;32m     41\u001b[0m                     callbacks\u001b[39m=\u001b[39mcallback_list,\n\u001b[1;32m     42\u001b[0m                     verbose\u001b[39m=\u001b[39m\u001b[39m1\u001b[39m)\n",
      "\u001b[0;31mNameError\u001b[0m: name 'build_and_compile_model' is not defined"
     ]
    }
   ],
   "source": [
    "# callback to stop training when loss does not improve anymore and save the best model\n",
    "callback_list = [callbacks.EarlyStopping(monitor=\"val_loss\", patience=5),\n",
    "                 callbacks.ModelCheckpoint(filepath=\"./MVPA_CNN_model_cv.keras\", \n",
    "                                            monitor=\"val_loss\",\n",
    "                                            save_best_only=True)]\n",
    "\n",
    "# create empty lists to store the results of the k-fold cross-validation\n",
    "val_loss = []\n",
    "val_acc = []\n",
    "history_list = []\n",
    "\n",
    "# k-fold cross-validation\n",
    "for fold, (train_idx, test_idx) in enumerate(kfold.split(x_train, y_train)):\n",
    "    if fold == 0:\n",
    "        print(f\"cross validation started...\", \n",
    "                f\"size of the training data: {len(train_idx)}\",\n",
    "                f\"size of the test data: {len(test_idx)}\", \n",
    "                sep=\"\\n\")\n",
    "\n",
    "    # create the folds\n",
    "    print(f\"Fold {fold+1} of {nbr_of_folds}\")\n",
    "    x_train_fold = x_train[train_idx]\n",
    "    x_test_fold = x_train[test_idx]\n",
    "    y_train_fold = y_train.iloc[train_idx]\n",
    "    y_test_fold = y_train.iloc[test_idx]\n",
    "\n",
    "    # print shape of the folds\n",
    "    # print(f\"{x_train_fold.shape=}\",\n",
    "    #     f\"{x_test_fold.shape=}\",\n",
    "    #     f\"{y_train_fold.shape=}\",\n",
    "    #     f\"{y_test_fold.shape=}\", sep=\"\\n\")\n",
    "\n",
    "    # build and compile the model\n",
    "    model = build_and_compile_model()\n",
    "\n",
    "    # train the model\n",
    "    history = model.fit(x_train_fold, y_train_fold,\n",
    "                        epochs=20,\n",
    "                        batch_size=4,\n",
    "                        validation_data=(x_test_fold, y_test_fold),\n",
    "                        callbacks=callback_list,\n",
    "                        verbose=1)\n",
    "    history_list.append(history)\n",
    "\n",
    "    # evaluate the model\n",
    "    fold_loss = model.evaluate(x_test_fold, y_test_fold, verbose=0)[0]\n",
    "    fold_acc = model.evaluate(x_test_fold, y_test_fold, verbose=0)[1]\n",
    "    val_loss.append(fold_loss)\n",
    "    val_acc.append(fold_acc)\n",
    "    print(f\"Loss: {fold_loss}\", f\"Accuracy: {fold_acc}\", sep=\"\\n\")\n",
    "\n",
    "# print the mean of the validation loss and accuracy\n",
    "print(f\"Mean validation loss: {np.mean(val_loss)}\",\n",
    "        f\"Mean validation accuracy: {np.mean(val_acc)}\", sep=\"\\n\")\n",
    "        \n",
    "# save the model\n",
    "# model.save(\"X:/MasterThesis_Reto/3d_cnn_model\")"
   ]
  },
  {
   "cell_type": "code",
   "execution_count": 24,
   "metadata": {},
   "outputs": [
    {
     "data": {
      "text/plain": [
       "<matplotlib.legend.Legend at 0x7fcbcc685b10>"
      ]
     },
     "execution_count": 24,
     "metadata": {},
     "output_type": "execute_result"
    },
    {
     "data": {
      "image/png": "[encoded data removed]",
      "text/plain": [
       "<Figure size 1200x600 with 12 Axes>"
      ]
     },
     "metadata": {},
     "output_type": "display_data"
    }
   ],
   "source": [
    "# create subplot to show all folds from cross-validation\n",
    "fig, axs = plt.subplots(3, 4, figsize=(12, 6))\n",
    "axs = axs.ravel()\n",
    "for i, history in enumerate(history_list):\n",
    "    axs[i].plot(history.history[\"loss\"][1:])\n",
    "    axs[i].plot(history.history[\"val_loss\"][1:])\n",
    "    axs[i].plot(history.history[\"Accuracy\"][1:])\n",
    "    axs[i].plot(history.history[\"val_Accuracy\"][1:])\n",
    "    axs[i].set_title(f\"Fold {i+1}\")\n",
    "    axs[i].set_ylabel(\"loss\")\n",
    "    axs[i].set_xlabel(\"epoch\")\n",
    "    axs[i].grid()\n",
    "\n",
    "fig.tight_layout()\n",
    "fig.legend([\"loss\", \"val_loss\", \"accuracy\", \"val_Accuracy\"])\n"
   ]
  },
  {
   "attachments": {},
   "cell_type": "markdown",
   "metadata": {},
   "source": [
    "### train and evaluate model with the entire test data (no val. data)"
   ]
  },
  {
   "attachments": {},
   "cell_type": "markdown",
   "metadata": {},
   "source": [
    "#### 3D-CNN"
   ]
  },
  {
   "cell_type": "code",
   "execution_count": 45,
   "metadata": {},
   "outputs": [
    {
     "name": "stdout",
     "output_type": "stream",
     "text": [
      "Epoch 1/10\n",
      "14/14 [==============================] - ETA: 0s - loss: 1.3696 - Accuracy: 0.0000e+00\n",
      "Epoch 1: val_Accuracy improved from -inf to 0.14286, saving model to ./3DCNN.keras\n",
      "14/14 [==============================] - 8s 491ms/step - loss: 1.3696 - Accuracy: 0.0000e+00 - val_loss: 4.6870 - val_Accuracy: 0.1429\n",
      "Epoch 2/10\n",
      "14/14 [==============================] - ETA: 0s - loss: 0.9819 - Accuracy: 0.0000e+00\n",
      "Epoch 2: val_Accuracy did not improve from 0.14286\n",
      "14/14 [==============================] - 5s 340ms/step - loss: 0.9819 - Accuracy: 0.0000e+00 - val_loss: 1.9125 - val_Accuracy: 0.0714\n",
      "Epoch 3/10\n",
      "14/14 [==============================] - ETA: 0s - loss: 0.6956 - Accuracy: 0.0000e+00\n",
      "Epoch 3: val_Accuracy did not improve from 0.14286\n",
      "14/14 [==============================] - 5s 344ms/step - loss: 0.6956 - Accuracy: 0.0000e+00 - val_loss: 0.9242 - val_Accuracy: 0.0000e+00\n",
      "Epoch 4/10\n",
      "14/14 [==============================] - ETA: 0s - loss: 0.4499 - Accuracy: 0.0000e+00\n",
      "Epoch 4: val_Accuracy did not improve from 0.14286\n",
      "14/14 [==============================] - 5s 341ms/step - loss: 0.4499 - Accuracy: 0.0000e+00 - val_loss: 1.3668 - val_Accuracy: 0.0000e+00\n",
      "Epoch 5/10\n",
      "14/14 [==============================] - ETA: 0s - loss: 0.4949 - Accuracy: 0.0000e+00\n",
      "Epoch 5: val_Accuracy did not improve from 0.14286\n",
      "14/14 [==============================] - 5s 332ms/step - loss: 0.4949 - Accuracy: 0.0000e+00 - val_loss: 1.4565 - val_Accuracy: 0.0000e+00\n",
      "Epoch 6/10\n",
      "14/14 [==============================] - ETA: 0s - loss: 0.3086 - Accuracy: 0.0000e+00\n",
      "Epoch 6: val_Accuracy did not improve from 0.14286\n",
      "14/14 [==============================] - 5s 336ms/step - loss: 0.3086 - Accuracy: 0.0000e+00 - val_loss: 1.2242 - val_Accuracy: 0.0000e+00\n",
      "Epoch 7/10\n",
      "14/14 [==============================] - ETA: 0s - loss: 0.3120 - Accuracy: 0.0000e+00\n",
      "Epoch 7: val_Accuracy did not improve from 0.14286\n",
      "14/14 [==============================] - 5s 324ms/step - loss: 0.3120 - Accuracy: 0.0000e+00 - val_loss: 1.2477 - val_Accuracy: 0.0000e+00\n",
      "Epoch 8/10\n",
      "14/14 [==============================] - ETA: 0s - loss: 0.4588 - Accuracy: 0.0000e+00\n",
      "Epoch 8: val_Accuracy did not improve from 0.14286\n",
      "14/14 [==============================] - 5s 333ms/step - loss: 0.4588 - Accuracy: 0.0000e+00 - val_loss: 1.0648 - val_Accuracy: 0.0000e+00\n",
      "Epoch 9/10\n",
      "14/14 [==============================] - ETA: 0s - loss: 0.4936 - Accuracy: 0.0000e+00\n",
      "Epoch 9: val_Accuracy did not improve from 0.14286\n",
      "14/14 [==============================] - 5s 326ms/step - loss: 0.4936 - Accuracy: 0.0000e+00 - val_loss: 0.7392 - val_Accuracy: 0.0000e+00\n",
      "Epoch 10/10\n",
      "14/14 [==============================] - ETA: 0s - loss: 0.3189 - Accuracy: 0.0000e+00\n",
      "Epoch 10: val_Accuracy did not improve from 0.14286\n",
      "14/14 [==============================] - 5s 327ms/step - loss: 0.3189 - Accuracy: 0.0000e+00 - val_loss: 1.0400 - val_Accuracy: 0.0000e+00\n"
     ]
    }
   ],
   "source": [
    "# train with entire training data (no validation data)\n",
    "# callback to stop training when loss does not improve anymore and save the best model\n",
    "early_stop = callbacks.EarlyStopping(monitor=\"loss\", patience=6, mode=\"auto\")\n",
    "checkpoint = callbacks.ModelCheckpoint(filepath=\"./3DCNN.keras\", \n",
    "                                        monitor=\"val_Accuracy\",\n",
    "                                        save_best_only=True, mode=\"max\",\n",
    "                                        verbose=1)\n",
    "callback_list = [early_stop, checkpoint]\n",
    "\n",
    "# build and compile the model\n",
    "model = build_compile_3DCNN()\n",
    "\n",
    "# train the model\n",
    "history = model.fit(x_train, y_train,\n",
    "                    epochs=10,\n",
    "                    batch_size=4,\n",
    "                    callbacks=callback_list,\n",
    "                    verbose=1,\n",
    "                    validation_data=(x_test, y_test))\n"
   ]
  },
  {
   "cell_type": "code",
   "execution_count": 46,
   "metadata": {},
   "outputs": [
    {
     "name": "stdout",
     "output_type": "stream",
     "text": [
      "1/1 [==============================] - 0s 386ms/step - loss: 4.6870 - Accuracy: 0.1429\n"
     ]
    },
    {
     "data": {
      "image/png": "[encoded data removed]",
      "text/plain": [
       "<Figure size 800x400 with 1 Axes>"
      ]
     },
     "metadata": {},
     "output_type": "display_data"
    }
   ],
   "source": [
    "# load the best model\n",
    "model = keras.models.load_model(\"./3DCNN.keras\")\n",
    "\n",
    "# evaluate the model\n",
    "model.evaluate(x_test, y_test, verbose=1)\n",
    "\n",
    "# plot the training history\n",
    "fig = plt.figure(figsize=(8, 4))\n",
    "plt.plot(history.history[\"loss\"])\n",
    "# plt.plot(history.history[\"val_loss\"])\n",
    "plt.plot(history.history[\"Accuracy\"])\n",
    "# plt.plot(history.history[\"val_Accuracy\"])\n",
    "plt.title(\"training history\")\n",
    "plt.ylabel(\"loss\")\n",
    "plt.xlabel(\"epoch\")\n",
    "# plt.legend([\"loss\", \"val_loss\", \"accuracy\", \"val_Accuracy\"], loc=\"upper left\")\n",
    "plt.legend([\"loss\", \"accuracy\"], loc=\"upper left\")\n",
    "plt.grid()\n",
    "plt.show()"
   ]
  },
  {
   "attachments": {},
   "cell_type": "markdown",
   "metadata": {},
   "source": [
    "#### s2D-CNN"
   ]
  },
  {
   "cell_type": "code",
   "execution_count": 30,
   "metadata": {},
   "outputs": [
    {
     "name": "stdout",
     "output_type": "stream",
     "text": [
      "Epoch 1/50\n",
      "WARNING:tensorflow:Can save best model only with val_Accuracy available, skipping.\n",
      "14/14 - 1s - loss: 2.1635 - Accuracy: 0.0000e+00 - 1s/epoch - 106ms/step\n",
      "Epoch 2/50\n",
      "WARNING:tensorflow:Can save best model only with val_Accuracy available, skipping.\n",
      "14/14 - 0s - loss: 0.7435 - Accuracy: 0.0000e+00 - 378ms/epoch - 27ms/step\n",
      "Epoch 3/50\n",
      "WARNING:tensorflow:Can save best model only with val_Accuracy available, skipping.\n",
      "14/14 - 0s - loss: 0.5065 - Accuracy: 0.0000e+00 - 300ms/epoch - 21ms/step\n",
      "Epoch 4/50\n",
      "WARNING:tensorflow:Can save best model only with val_Accuracy available, skipping.\n",
      "14/14 - 0s - loss: 0.4357 - Accuracy: 0.0000e+00 - 299ms/epoch - 21ms/step\n",
      "Epoch 5/50\n",
      "WARNING:tensorflow:Can save best model only with val_Accuracy available, skipping.\n",
      "14/14 - 0s - loss: 0.5221 - Accuracy: 0.0000e+00 - 295ms/epoch - 21ms/step\n",
      "Epoch 6/50\n",
      "WARNING:tensorflow:Can save best model only with val_Accuracy available, skipping.\n",
      "14/14 - 0s - loss: 0.3135 - Accuracy: 0.0000e+00 - 297ms/epoch - 21ms/step\n",
      "Epoch 7/50\n",
      "WARNING:tensorflow:Can save best model only with val_Accuracy available, skipping.\n",
      "14/14 - 0s - loss: 0.2857 - Accuracy: 0.0000e+00 - 277ms/epoch - 20ms/step\n",
      "Epoch 8/50\n",
      "WARNING:tensorflow:Can save best model only with val_Accuracy available, skipping.\n",
      "14/14 - 0s - loss: 0.4259 - Accuracy: 0.0000e+00 - 280ms/epoch - 20ms/step\n",
      "Epoch 9/50\n",
      "WARNING:tensorflow:Can save best model only with val_Accuracy available, skipping.\n",
      "14/14 - 0s - loss: 0.3021 - Accuracy: 0.0000e+00 - 285ms/epoch - 20ms/step\n",
      "Epoch 10/50\n",
      "WARNING:tensorflow:Can save best model only with val_Accuracy available, skipping.\n",
      "14/14 - 0s - loss: 0.1978 - Accuracy: 0.0000e+00 - 293ms/epoch - 21ms/step\n",
      "Epoch 11/50\n",
      "WARNING:tensorflow:Can save best model only with val_Accuracy available, skipping.\n",
      "14/14 - 0s - loss: 0.2723 - Accuracy: 0.0000e+00 - 321ms/epoch - 23ms/step\n",
      "Epoch 12/50\n",
      "WARNING:tensorflow:Can save best model only with val_Accuracy available, skipping.\n",
      "14/14 - 0s - loss: 0.2286 - Accuracy: 0.0000e+00 - 305ms/epoch - 22ms/step\n",
      "Epoch 13/50\n",
      "WARNING:tensorflow:Can save best model only with val_Accuracy available, skipping.\n",
      "14/14 - 0s - loss: 0.1595 - Accuracy: 0.0000e+00 - 294ms/epoch - 21ms/step\n",
      "Epoch 14/50\n",
      "WARNING:tensorflow:Can save best model only with val_Accuracy available, skipping.\n",
      "14/14 - 0s - loss: 0.4203 - Accuracy: 0.0000e+00 - 289ms/epoch - 21ms/step\n",
      "Epoch 15/50\n",
      "WARNING:tensorflow:Can save best model only with val_Accuracy available, skipping.\n",
      "14/14 - 0s - loss: 0.2106 - Accuracy: 0.0000e+00 - 299ms/epoch - 21ms/step\n",
      "Epoch 16/50\n",
      "WARNING:tensorflow:Can save best model only with val_Accuracy available, skipping.\n",
      "14/14 - 0s - loss: 0.1128 - Accuracy: 0.0000e+00 - 301ms/epoch - 22ms/step\n",
      "Epoch 17/50\n",
      "WARNING:tensorflow:Can save best model only with val_Accuracy available, skipping.\n",
      "14/14 - 0s - loss: 0.2311 - Accuracy: 0.0000e+00 - 296ms/epoch - 21ms/step\n",
      "Epoch 18/50\n",
      "WARNING:tensorflow:Can save best model only with val_Accuracy available, skipping.\n",
      "14/14 - 0s - loss: 0.4096 - Accuracy: 0.0000e+00 - 303ms/epoch - 22ms/step\n",
      "Epoch 19/50\n",
      "WARNING:tensorflow:Can save best model only with val_Accuracy available, skipping.\n",
      "14/14 - 0s - loss: 0.3321 - Accuracy: 0.0000e+00 - 290ms/epoch - 21ms/step\n",
      "Epoch 20/50\n",
      "WARNING:tensorflow:Can save best model only with val_Accuracy available, skipping.\n",
      "14/14 - 0s - loss: 0.4071 - Accuracy: 0.0000e+00 - 299ms/epoch - 21ms/step\n",
      "Epoch 21/50\n",
      "WARNING:tensorflow:Can save best model only with val_Accuracy available, skipping.\n",
      "14/14 - 0s - loss: 0.2353 - Accuracy: 0.0000e+00 - 305ms/epoch - 22ms/step\n",
      "Epoch 22/50\n",
      "WARNING:tensorflow:Can save best model only with val_Accuracy available, skipping.\n",
      "14/14 - 0s - loss: 0.2679 - Accuracy: 0.0000e+00 - 291ms/epoch - 21ms/step\n"
     ]
    }
   ],
   "source": [
    "# train with entire training data (no validation data)\n",
    "# callback to stop training when loss does not improve anymore and save the best model\n",
    "early_stop = callbacks.EarlyStopping(monitor=\"loss\", patience=6, mode=\"auto\")\n",
    "checkpoint = callbacks.ModelCheckpoint(filepath=\"./s2DCNN.keras\", \n",
    "                                        monitor=\"val_Accuracy\",\n",
    "                                        save_best_only=True,\n",
    "                                        mode=\"auto\",\n",
    "                                        verbose=1)\n",
    "callback_list = [early_stop, checkpoint]\n",
    "\n",
    "# build and compile the model\n",
    "model = build_compile_s2DCNN()\n",
    "\n",
    "# train the model\n",
    "history = model.fit(x_train, y_train,\n",
    "                    epochs=50,\n",
    "                    batch_size=4,\n",
    "                    callbacks=callback_list,\n",
    "                    verbose=2)\n"
   ]
  },
  {
   "cell_type": "code",
   "execution_count": 31,
   "metadata": {},
   "outputs": [
    {
     "name": "stdout",
     "output_type": "stream",
     "text": [
      "1/1 [==============================] - 0s 159ms/step - loss: 2.5160 - Accuracy: 0.0000e+00\n"
     ]
    },
    {
     "data": {
      "image/png": "[encoded data removed]",
      "text/plain": [
       "<Figure size 800x400 with 1 Axes>"
      ]
     },
     "metadata": {},
     "output_type": "display_data"
    }
   ],
   "source": [
    "# load the best model\n",
    "# model = keras.models.load_model(\"./s2DCNN.keras\")\n",
    "\n",
    "# evaluate the model\n",
    "model.evaluate(x_test, y_test, verbose=1)\n",
    "\n",
    "# plot the training history\n",
    "fig = plt.figure(figsize=(8, 4))\n",
    "plt.plot(history.history[\"loss\"])\n",
    "# plt.plot(history.history[\"val_loss\"])\n",
    "plt.plot(history.history[\"Accuracy\"])\n",
    "# plt.plot(history.history[\"val_Accuracy\"])\n",
    "plt.title(\"training history\")\n",
    "plt.ylabel(\"loss\")\n",
    "plt.xlabel(\"epoch\")\n",
    "# plt.legend([\"loss\", \"val_loss\", \"accuracy\", \"val_Accuracy\"], loc=\"upper left\")\n",
    "plt.legend([\"loss\", \"accuracy\"], loc=\"upper left\")\n",
    "plt.grid()\n",
    "plt.show()"
   ]
  },
  {
   "attachments": {},
   "cell_type": "markdown",
   "metadata": {},
   "source": [
    "### hyperparameter tuning"
   ]
  },
  {
   "cell_type": "code",
   "execution_count": null,
   "metadata": {},
   "outputs": [],
   "source": [
    "# create a function to build and compile the model for hyperparameter tuning\n",
    "\n",
    "def build_and_compile_model_test(hp):\n",
    "    \"\"\"\n",
    "    Builds model and sets up hyperparameter space to search. Model is compiled.\n",
    "    \n",
    "    Parameters\n",
    "    ----------\n",
    "    hp : HyperParameter object\n",
    "        Configures hyperparameters to tune.\n",
    "        \n",
    "    Returns\n",
    "    -------\n",
    "    model : model\n",
    "        Compiled keras model with hyperparameters to tune.\n",
    "    \"\"\"\n",
    "    inputs = keras.Input(shape=(inpt_comp1_diff.shape[1:]))\n",
    "    \n",
    "    # Tune the number of hidden CNN layers (pair of Conv3D and MaxPool) and filters + kernel_size in each hidden layer.\n",
    "    # Number of hidden layers: 1 - 5\n",
    "    # Number of filters: 16 - 512 with stepsize of 32\n",
    "    # Kernel size: 3 - 5 with stepsize of 2\n",
    "        \n",
    "    x = keras.layers.Conv3D(\n",
    "        filters=hp.Int(\"filters\", min_value=16, max_value=512, step=32),\n",
    "        kernel_size=3,\n",
    "        activation=\"relu\", \n",
    "        padding=\"same\")(inputs)\n",
    "\n",
    "    x = keras.layers.MaxPooling3D(pool_size=(2, 2, 2))(x)\n",
    "    \n",
    "    # Flatten the output of the last hidden layer\n",
    "    x = keras.layers.Flatten()(x)\n",
    "\n",
    "    # Tune the number and units in the dense layer including dropout\n",
    "    # Number of dense layers: 1 - 3\n",
    "    # Number of units: 16 - 512 with stepsize of 32\n",
    "    x = keras.layers.Dense(units=64,\n",
    "                            activation=\"relu\")(x)\n",
    "\n",
    "    # Add output layer\n",
    "    outputs = keras.layers.Dense(1, activation=\"sigmoid\")(x)\n",
    "    # TODO: maybe try with a softmax activation function\n",
    "\n",
    "    # define the model\n",
    "    model = keras.Model(inputs=inputs, outputs=outputs)\n",
    "    \n",
    "    # Define optimizer, loss, and metrics\n",
    "    model.compile(optimizer=keras.optimizers.Adam(learning_rate=0.001),\n",
    "                  loss='binary_crossentropy',\n",
    "                  metrics=[\"Accuracy\"])\n",
    "    \n",
    "    return model"
   ]
  },
  {
   "cell_type": "code",
   "execution_count": null,
   "metadata": {},
   "outputs": [],
   "source": [
    "# create a function to build and compile the model for hyperparameter tuning\n",
    "\n",
    "def build_and_compile_model(hp):\n",
    "    \"\"\"\n",
    "    Builds model and sets up hyperparameter space to search. Model is compiled.\n",
    "    \n",
    "    Parameters\n",
    "    ----------\n",
    "    hp : HyperParameter object\n",
    "        Configures hyperparameters to tune.\n",
    "        \n",
    "    Returns\n",
    "    -------\n",
    "    model : model\n",
    "        Compiled keras model with hyperparameters to tune.\n",
    "    \"\"\"\n",
    "    inputs = keras.Input(shape=(inpt_comp1_diff.shape[1:]))\n",
    "    \n",
    "    # Tune the number of hidden CNN layers (pair of Conv3D and MaxPool) and filters + kernel_size in each hidden layer.\n",
    "    # Number of hidden layers: 1 - 5\n",
    "    # Number of filters: 16 - 512 with stepsize of 32\n",
    "    # Kernel size: 3 - 5 with stepsize of 2\n",
    "    for i in range(1, hp.Int(\"num_layers\", 2, 6)):\n",
    "        \n",
    "        x = keras.layers.Conv3D(\n",
    "            filters=hp.Int(\"filters_\" + str(i), min_value=16, max_value=512, step=32),\n",
    "            kernel_size=hp.Int(\"kernel_size_\" + str(i), min_value=3, max_value=5, step=2),\n",
    "            # kernel_regularizer=hp.Float(\"l2_regularization_\" + str(i), min_value=0.0001, max_value=0.01, step=0.0001),\n",
    "            activation=\"relu\", \n",
    "            padding=\"same\")(inputs)\n",
    "\n",
    "        x = keras.layers.MaxPooling3D(pool_size=(2, 2, 2))(x)\n",
    "\n",
    "        # tune dropout layer with values from 0 - 0.3 with stepsize of 0.1\n",
    "        x = keras.layers.Dropout(hp.Float(\"dropout_\" + str(i), \n",
    "                                    min_value=0, max_value=0.3, step=0.1))(x)\n",
    "    \n",
    "    # Flatten the output of the last hidden layer\n",
    "    x = keras.layers.Flatten()(x)\n",
    "\n",
    "    # Tune the number and units in the dense layer including dropout\n",
    "    # Number of dense layers: 1 - 3\n",
    "    # Number of units: 16 - 512 with stepsize of 32\n",
    "    for i in range(1, hp.Int(\"num_dense_layers\", 2, 4)):\n",
    "        x = keras.layers.Dense(units=hp.Int(\"units_\" + str(i), min_value=16, max_value=512, step=32),\n",
    "                               activation=\"relu\")(x)\n",
    "        \n",
    "        # tune dropout layer with values from 0 - 0.3 with stepsize of 0.1\n",
    "        x = keras.layers.Dropout(hp.Float(\"dense_dropout_\" + str(i), \n",
    "                                    min_value=0, max_value=0.3, step=0.1))(x)\n",
    "\n",
    "    # Add output layer\n",
    "    outputs = keras.layers.Dense(1, activation=\"sigmoid\")(x)\n",
    "    # TODO: maybe try with a softmax activation function\n",
    "\n",
    "    # define the model\n",
    "    model = keras.Model(inputs=inputs, outputs=outputs)\n",
    "\n",
    "    # Tune learning rate for Adam optimizer with values from 0.01, 0.001, or 0.00001\n",
    "    hp_learning_rate = hp.Choice(\"learning_rate\", values=[1e-2, 1e-3, 1e-5])\n",
    "    \n",
    "    # Define optimizer, loss, and metrics\n",
    "    model.compile(optimizer=keras.optimizers.Adam(learning_rate=hp_learning_rate),\n",
    "                  loss='binary_crossentropy',\n",
    "                  metrics=[\"Accuracy\"])\n",
    "    \n",
    "    return model"
   ]
  },
  {
   "cell_type": "code",
   "execution_count": null,
   "metadata": {},
   "outputs": [],
   "source": [
    "# Instantiate the tuner\n",
    "tuner = kt.BayesianOptimization(build_and_compile_model_test,\n",
    "                                objective=\"val_Accuracy\",\n",
    "                                max_trials=10,\n",
    "                                executions_per_trial=2,\n",
    "                                directory=\"kt_dir\",\n",
    "                                project_name=\"kt_BayesianOptimization\",\n",
    "                                overwrite=True)\n",
    "\n",
    "# Display search space summary\n",
    "tuner.search_space_summary()"
   ]
  },
  {
   "cell_type": "code",
   "execution_count": null,
   "metadata": {},
   "outputs": [],
   "source": [
    "# start the search for the best hyperparameters\n",
    "\n",
    "stop_early = tf.keras.callbacks.EarlyStopping(monitor='val_Accuracy', patience=5)\n",
    "\n",
    "tuner.search(x_train, y_train, \n",
    "                epochs=20, \n",
    "                batch_size=4,\n",
    "                validation_data=(x_test, y_test),\n",
    "                callbacks=[stop_early], \n",
    "                verbose=2)"
   ]
  },
  {
   "cell_type": "code",
   "execution_count": null,
   "metadata": {},
   "outputs": [],
   "source": [
    "# Get the optimal hyperparameters from the results\n",
    "best_hps = tuner.get_best_hyperparameters()[0]\n",
    "\n",
    "# Build model\n",
    "h_model = tuner.hypermodel.build(best_hps)\n",
    "\n",
    "# Train the hypertuned model\n",
    "h_model.fit(x_train, y_train, epochs=20, validation_split=0.2, callbacks=[stop_early], verbose=2)\n",
    "\n",
    "# Evaluate model on test set\n",
    "h_model.evaluate(x_test, y_test)\n"
   ]
  },
  {
   "cell_type": "code",
   "execution_count": null,
   "metadata": {},
   "outputs": [],
   "source": [
    "best_hps = tuner.get_best_hyperparameters()\n",
    "best_hps"
   ]
  },
  {
   "cell_type": "code",
   "execution_count": null,
   "metadata": {},
   "outputs": [],
   "source": [
    "# train with entire training data (no validation data)\n",
    "# callback to stop training when loss does not improve anymore and save the best model\n",
    "callback_list = [callbacks.EarlyStopping(monitor=\"loss\", patience=5),\n",
    "                 callbacks.ModelCheckpoint(filepath=\"./MVPA_CNN_model.keras\", \n",
    "                                            monitor=\"loss\",\n",
    "                                            save_best_only=True)]\n",
    "\n",
    "# build and compile the model\n",
    "model = build_and_compile_model()\n",
    "\n",
    "# train the model\n",
    "history = model.fit(x_train, y_train,\n",
    "                    epochs=20,\n",
    "                    batch_size=4,\n",
    "                    callbacks=callback_list,\n",
    "                    verbose=1)"
   ]
  },
  {
   "cell_type": "code",
   "execution_count": null,
   "metadata": {},
   "outputs": [],
   "source": []
  },
  {
   "cell_type": "code",
   "execution_count": null,
   "metadata": {},
   "outputs": [],
   "source": []
  },
  {
   "cell_type": "code",
   "execution_count": null,
   "metadata": {},
   "outputs": [],
   "source": []
  }
 ],
 "metadata": {
  "kernelspec": {
   "display_name": "Python 3",
   "language": "python",
   "name": "python3"
  },
  "language_info": {
   "codemirror_mode": {
    "name": "ipython",
    "version": 3
   },
   "file_extension": ".py",
   "mimetype": "text/x-python",
   "name": "python",
   "nbconvert_exporter": "python",
   "pygments_lexer": "ipython3",
   "version": "3.10.8"
  },
  "orig_nbformat": 4,
  "vscode": {
   "interpreter": {
    "hash": "695fa3b5085d3a33b386b9e0bb002d8067f80de939df75f6fbc1e8a95582c89a"
   }
  }
 },
 "nbformat": 4,
 "nbformat_minor": 2
}
