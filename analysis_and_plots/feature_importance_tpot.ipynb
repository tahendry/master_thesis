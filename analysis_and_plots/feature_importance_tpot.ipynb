{
 "cells": [
  {
   "attachments": {},
   "cell_type": "markdown",
   "metadata": {},
   "source": [
    "Date: 19.05.2023 \\\n",
    "Author: Reto Hendry\n",
    "\n",
    "This scripts is used to find out the feature importance of the best performing models on the parameter set which is best for all models.\n",
    "\n",
    "The best parameters are resample cube 3 and number of features 70. This can be seen in the script \"etric_analysis_autoML_tools.ipynb\""
   ]
  },
  {
   "cell_type": "code",
   "execution_count": 1,
   "metadata": {},
   "outputs": [],
   "source": [
    "import numpy as np\n",
    "import pandas as pd\n",
    "import os\n",
    "import sys\n",
    "\n",
    "from sklearn.model_selection import cross_val_score\n",
    "from sklearn.model_selection import StratifiedKFold\n",
    "from sklearn.model_selection import train_test_split, cross_val_score\n",
    "from sklearn.metrics import accuracy_score, f1_score, precision_score\n",
    "\n",
    "os.environ['PYDEVD_WARN_EVALUATION_TIMEOUT'] = '10.0'\n",
    "os.environ['PYDEVD_UNBLOCK_THREADS_TIMEOUT'] = '5.0'\n",
    "\n",
    "sys.path.append(os.path.abspath(os.path.join(os.getcwd(), os.pardir)))\n",
    "from functions.function_get_feature_positions import get_feature_positions\n",
    "from functions.function_export_feature_positions import export_feature_positions\n",
    "from functions.function_get_label_df import get_label_df\n",
    "from functions.function_get_component_array import get_component_array\n",
    "from functions.function_get_best_features import get_best_features_sorted\n",
    "from functions.function_resample_4d_array import resample_4d_array"
   ]
  },
  {
   "attachments": {},
   "cell_type": "markdown",
   "metadata": {},
   "source": [
    "## Prepare Data"
   ]
  },
  {
   "cell_type": "code",
   "execution_count": 2,
   "metadata": {},
   "outputs": [
    {
     "name": "stderr",
     "output_type": "stream",
     "text": [
      "/home/tahendry/Documents/master_thesis/master_thesis_repo/functions/function_get_label_df.py:42: FutureWarning: Defining usecols with out of bounds indices is deprecated and will raise a ParserError in a future version.\n",
      "  df_label = (pd.read_excel(os.path.join(data_path, label_file),\n"
     ]
    },
    {
     "name": "stdout",
     "output_type": "stream",
     "text": [
      "shape of component_array_5d: (1, 90, 91, 109, 91)\n",
      "Resampling in progress...\n"
     ]
    },
    {
     "name": "stderr",
     "output_type": "stream",
     "text": [
      "100%|██████████| 90/90 [00:00<00:00, 115.11it/s]\n"
     ]
    },
    {
     "name": "stdout",
     "output_type": "stream",
     "text": [
      "shape of resampled sample_array_4d: (90, 31, 37, 31)\n",
      "Calculating list of best features ...\n"
     ]
    },
    {
     "name": "stderr",
     "output_type": "stream",
     "text": [
      "100%|██████████| 35556/35556 [00:34<00:00, 1036.86it/s]\n"
     ]
    }
   ],
   "source": [
    "# parameters to define\n",
    "component = [1]\n",
    "resample_cube = 3\n",
    "number_of_features = 70\n",
    "\n",
    "##############################################\n",
    "\n",
    "# get the label data\n",
    "df_label = get_label_df(data_path_optional=\"../../data/\")\n",
    "\n",
    "# get the MVPA data arrays\n",
    "component_array_5d = get_component_array(component, data_path_optional=\"../../data/\")\n",
    "print(f\"shape of component_array_5d: {component_array_5d.shape}\")\n",
    "\n",
    "sample_array_4d = resample_4d_array(component_array_5d[0], resample_cube)\n",
    "print(f\"shape of resampled sample_array_4d: {sample_array_4d.shape}\")\n",
    "\n",
    "# get the sorted feature list\n",
    "best_feature_list = get_best_features_sorted(\n",
    "    sample_array_4d, df_label\n",
    ")\n",
    "\n",
    "# select desired number of features\n",
    "best_features = best_feature_list[:number_of_features]"
   ]
  },
  {
   "cell_type": "code",
   "execution_count": 3,
   "metadata": {},
   "outputs": [
    {
     "data": {
      "text/html": [
       "<div>\n",
       "<style scoped>\n",
       "    .dataframe tbody tr th:only-of-type {\n",
       "        vertical-align: middle;\n",
       "    }\n",
       "\n",
       "    .dataframe tbody tr th {\n",
       "        vertical-align: top;\n",
       "    }\n",
       "\n",
       "    .dataframe thead th {\n",
       "        text-align: right;\n",
       "    }\n",
       "</style>\n",
       "<table border=\"1\" class=\"dataframe\">\n",
       "  <thead>\n",
       "    <tr style=\"text-align: right;\">\n",
       "      <th></th>\n",
       "      <th>Conn_SubjNr</th>\n",
       "      <th>Cond</th>\n",
       "    </tr>\n",
       "  </thead>\n",
       "  <tbody>\n",
       "    <tr>\n",
       "      <th>0</th>\n",
       "      <td>1</td>\n",
       "      <td>1</td>\n",
       "    </tr>\n",
       "    <tr>\n",
       "      <th>1</th>\n",
       "      <td>2</td>\n",
       "      <td>1</td>\n",
       "    </tr>\n",
       "    <tr>\n",
       "      <th>2</th>\n",
       "      <td>3</td>\n",
       "      <td>1</td>\n",
       "    </tr>\n",
       "    <tr>\n",
       "      <th>3</th>\n",
       "      <td>4</td>\n",
       "      <td>0</td>\n",
       "    </tr>\n",
       "    <tr>\n",
       "      <th>4</th>\n",
       "      <td>5</td>\n",
       "      <td>1</td>\n",
       "    </tr>\n",
       "  </tbody>\n",
       "</table>\n",
       "</div>"
      ],
      "text/plain": [
       "   Conn_SubjNr Cond\n",
       "0            1    1\n",
       "1            2    1\n",
       "2            3    1\n",
       "3            4    0\n",
       "4            5    1"
      ]
     },
     "execution_count": 3,
     "metadata": {},
     "output_type": "execute_result"
    }
   ],
   "source": [
    "df_label.head()"
   ]
  },
  {
   "cell_type": "code",
   "execution_count": 4,
   "metadata": {},
   "outputs": [
    {
     "data": {
      "text/plain": [
       "(90, 31, 37, 31)"
      ]
     },
     "execution_count": 4,
     "metadata": {},
     "output_type": "execute_result"
    }
   ],
   "source": [
    "sample_array_4d.shape"
   ]
  },
  {
   "cell_type": "code",
   "execution_count": 5,
   "metadata": {},
   "outputs": [],
   "source": [
    "# reshape 4d array to dataframe\n",
    "sample_df = pd.DataFrame(\n",
    "    sample_array_4d.reshape(sample_array_4d.shape[0], -1)\n",
    "    ).iloc[:, best_features]    \n",
    "\n",
    "# split data into train and test\n",
    "x_train, x_test, y_train, y_test = train_test_split(\n",
    "    sample_df, \n",
    "    df_label[\"Cond\"], \n",
    "    test_size=0.2, \n",
    "    random_state=42,\n",
    "    stratify=df_label[\"Cond\"]\n",
    ")"
   ]
  },
  {
   "attachments": {},
   "cell_type": "markdown",
   "metadata": {},
   "source": [
    "## Load and deploy model"
   ]
  },
  {
   "cell_type": "code",
   "execution_count": 6,
   "metadata": {},
   "outputs": [],
   "source": [
    "import numpy as np\n",
    "import pandas as pd\n",
    "from sklearn.ensemble import GradientBoostingClassifier\n",
    "from sklearn.model_selection import train_test_split\n",
    "from matplotlib import pyplot as plt\n",
    "\n",
    "# Average CV score on the training set was: 0.8472222222222222\n",
    "best_model = GradientBoostingClassifier(learning_rate=0.1, max_depth=2, max_features=0.2, min_samples_leaf=1, min_samples_split=14, n_estimators=100, subsample=0.3)\n",
    "# Fix random state in exported estimator\n",
    "if hasattr(best_model, 'random_state'):\n",
    "    setattr(best_model, 'random_state', 1)\n",
    "\n",
    "best_model.fit(x_train, y_train)\n",
    "results = best_model.predict(x_test)"
   ]
  },
  {
   "cell_type": "code",
   "execution_count": 7,
   "metadata": {},
   "outputs": [
    {
     "data": {
      "text/html": [
       "<style>#sk-container-id-1 {color: black;background-color: white;}#sk-container-id-1 pre{padding: 0;}#sk-container-id-1 div.sk-toggleable {background-color: white;}#sk-container-id-1 label.sk-toggleable__label {cursor: pointer;display: block;width: 100%;margin-bottom: 0;padding: 0.3em;box-sizing: border-box;text-align: center;}#sk-container-id-1 label.sk-toggleable__label-arrow:before {content: \"▸\";float: left;margin-right: 0.25em;color: #696969;}#sk-container-id-1 label.sk-toggleable__label-arrow:hover:before {color: black;}#sk-container-id-1 div.sk-estimator:hover label.sk-toggleable__label-arrow:before {color: black;}#sk-container-id-1 div.sk-toggleable__content {max-height: 0;max-width: 0;overflow: hidden;text-align: left;background-color: #f0f8ff;}#sk-container-id-1 div.sk-toggleable__content pre {margin: 0.2em;color: black;border-radius: 0.25em;background-color: #f0f8ff;}#sk-container-id-1 input.sk-toggleable__control:checked~div.sk-toggleable__content {max-height: 200px;max-width: 100%;overflow: auto;}#sk-container-id-1 input.sk-toggleable__control:checked~label.sk-toggleable__label-arrow:before {content: \"▾\";}#sk-container-id-1 div.sk-estimator input.sk-toggleable__control:checked~label.sk-toggleable__label {background-color: #d4ebff;}#sk-container-id-1 div.sk-label input.sk-toggleable__control:checked~label.sk-toggleable__label {background-color: #d4ebff;}#sk-container-id-1 input.sk-hidden--visually {border: 0;clip: rect(1px 1px 1px 1px);clip: rect(1px, 1px, 1px, 1px);height: 1px;margin: -1px;overflow: hidden;padding: 0;position: absolute;width: 1px;}#sk-container-id-1 div.sk-estimator {font-family: monospace;background-color: #f0f8ff;border: 1px dotted black;border-radius: 0.25em;box-sizing: border-box;margin-bottom: 0.5em;}#sk-container-id-1 div.sk-estimator:hover {background-color: #d4ebff;}#sk-container-id-1 div.sk-parallel-item::after {content: \"\";width: 100%;border-bottom: 1px solid gray;flex-grow: 1;}#sk-container-id-1 div.sk-label:hover label.sk-toggleable__label {background-color: #d4ebff;}#sk-container-id-1 div.sk-serial::before {content: \"\";position: absolute;border-left: 1px solid gray;box-sizing: border-box;top: 0;bottom: 0;left: 50%;z-index: 0;}#sk-container-id-1 div.sk-serial {display: flex;flex-direction: column;align-items: center;background-color: white;padding-right: 0.2em;padding-left: 0.2em;position: relative;}#sk-container-id-1 div.sk-item {position: relative;z-index: 1;}#sk-container-id-1 div.sk-parallel {display: flex;align-items: stretch;justify-content: center;background-color: white;position: relative;}#sk-container-id-1 div.sk-item::before, #sk-container-id-1 div.sk-parallel-item::before {content: \"\";position: absolute;border-left: 1px solid gray;box-sizing: border-box;top: 0;bottom: 0;left: 50%;z-index: -1;}#sk-container-id-1 div.sk-parallel-item {display: flex;flex-direction: column;z-index: 1;position: relative;background-color: white;}#sk-container-id-1 div.sk-parallel-item:first-child::after {align-self: flex-end;width: 50%;}#sk-container-id-1 div.sk-parallel-item:last-child::after {align-self: flex-start;width: 50%;}#sk-container-id-1 div.sk-parallel-item:only-child::after {width: 0;}#sk-container-id-1 div.sk-dashed-wrapped {border: 1px dashed gray;margin: 0 0.4em 0.5em 0.4em;box-sizing: border-box;padding-bottom: 0.4em;background-color: white;}#sk-container-id-1 div.sk-label label {font-family: monospace;font-weight: bold;display: inline-block;line-height: 1.2em;}#sk-container-id-1 div.sk-label-container {text-align: center;}#sk-container-id-1 div.sk-container {/* jupyter's `normalize.less` sets `[hidden] { display: none; }` but bootstrap.min.css set `[hidden] { display: none !important; }` so we also need the `!important` here to be able to override the default hidden behavior on the sphinx rendered scikit-learn.org. See: https://github.com/scikit-learn/scikit-learn/issues/21755 */display: inline-block !important;position: relative;}#sk-container-id-1 div.sk-text-repr-fallback {display: none;}</style><div id=\"sk-container-id-1\" class=\"sk-top-container\"><div class=\"sk-text-repr-fallback\"><pre>GradientBoostingClassifier(max_depth=2, max_features=0.2, min_samples_split=14,\n",
       "                           random_state=1, subsample=0.3)</pre><b>In a Jupyter environment, please rerun this cell to show the HTML representation or trust the notebook. <br />On GitHub, the HTML representation is unable to render, please try loading this page with nbviewer.org.</b></div><div class=\"sk-container\" hidden><div class=\"sk-item\"><div class=\"sk-estimator sk-toggleable\"><input class=\"sk-toggleable__control sk-hidden--visually\" id=\"sk-estimator-id-1\" type=\"checkbox\" checked><label for=\"sk-estimator-id-1\" class=\"sk-toggleable__label sk-toggleable__label-arrow\">GradientBoostingClassifier</label><div class=\"sk-toggleable__content\"><pre>GradientBoostingClassifier(max_depth=2, max_features=0.2, min_samples_split=14,\n",
       "                           random_state=1, subsample=0.3)</pre></div></div></div></div></div>"
      ],
      "text/plain": [
       "GradientBoostingClassifier(max_depth=2, max_features=0.2, min_samples_split=14,\n",
       "                           random_state=1, subsample=0.3)"
      ]
     },
     "execution_count": 7,
     "metadata": {},
     "output_type": "execute_result"
    }
   ],
   "source": [
    "best_model"
   ]
  },
  {
   "cell_type": "code",
   "execution_count": 8,
   "metadata": {},
   "outputs": [
    {
     "data": {
      "text/plain": [
       "array([1, 0, 0, 0, 0, 0, 1, 1, 1, 0, 1, 1, 1, 1, 0, 1, 1, 0])"
      ]
     },
     "execution_count": 8,
     "metadata": {},
     "output_type": "execute_result"
    }
   ],
   "source": [
    "results\n"
   ]
  },
  {
   "cell_type": "code",
   "execution_count": 9,
   "metadata": {},
   "outputs": [
    {
     "data": {
      "text/plain": [
       "array([1, 0, 0, 0, 0, 1, 0, 1, 1, 0, 0, 1, 1, 1, 0, 1, 1, 0])"
      ]
     },
     "execution_count": 9,
     "metadata": {},
     "output_type": "execute_result"
    }
   ],
   "source": [
    "np.array(y_test)"
   ]
  },
  {
   "cell_type": "code",
   "execution_count": 10,
   "metadata": {},
   "outputs": [],
   "source": [
    "# Define the cross-validation strategy\n",
    "cv_stratified = StratifiedKFold(n_splits=9, shuffle=True, random_state=42)\n",
    "\n",
    "cv_scores = cross_val_score(best_model, x_train, y_train, cv=cv_stratified)\n",
    "cv_mean_accuracy = np.mean(cv_scores)\n",
    "cv_std = np.std(cv_scores)\n",
    "\n",
    "# Make predictions on the test set\n",
    "y_pred = best_model.predict(x_test)\n",
    "\n",
    "# Calculate the accuracy and F1 score on the test set\n",
    "test_accuracy = accuracy_score(y_test, y_pred)\n",
    "test_f1_score = f1_score(y_test, y_pred, average=\"weighted\")\n",
    "test_precision_score = precision_score(y_test, y_pred, average=\"weighted\")"
   ]
  },
  {
   "cell_type": "code",
   "execution_count": 11,
   "metadata": {},
   "outputs": [
    {
     "name": "stdout",
     "output_type": "stream",
     "text": [
      "cv_mean_accuracy: 0.8472222222222222\n",
      "cv_std: 0.1145307118227128\n",
      "test_accuracy: 0.8333333333333334\n",
      "test_f1_score: 0.8328173374613004\n",
      "test_precision_score: 0.8374999999999999\n"
     ]
    }
   ],
   "source": [
    "# print all the results\n",
    "print(f\"cv_mean_accuracy: {cv_mean_accuracy}\")\n",
    "print(f\"cv_std: {cv_std}\")\n",
    "print(f\"test_accuracy: {test_accuracy}\")\n",
    "print(f\"test_f1_score: {test_f1_score}\")\n",
    "print(f\"test_precision_score: {test_precision_score}\")"
   ]
  },
  {
   "attachments": {},
   "cell_type": "markdown",
   "metadata": {},
   "source": [
    "## get feature importance"
   ]
  },
  {
   "cell_type": "code",
   "execution_count": 12,
   "metadata": {},
   "outputs": [
    {
     "name": "stdout",
     "output_type": "stream",
     "text": [
      "         Relative_Importance  Scaled_Importance  Percentage\n",
      "Feature                                                    \n",
      "17926               0.000000           0.000000    0.000000\n",
      "13468               0.000000           0.000000    0.000000\n",
      "18080               0.000000           0.000000    0.000000\n",
      "14327               0.000000           0.000000    0.000000\n",
      "20437               0.000000           0.000000    0.000000\n",
      "...                      ...                ...         ...\n",
      "18925               0.041559           0.715840    0.041559\n",
      "11979               0.045564           0.784831    0.045564\n",
      "13181               0.048942           0.843012    0.048942\n",
      "13158               0.053092           0.914493    0.053092\n",
      "15351               0.058056           1.000000    0.058056\n",
      "\n",
      "[70 rows x 3 columns]\n"
     ]
    }
   ],
   "source": [
    "# Get feature importances\n",
    "importances = best_model.feature_importances_\n",
    "\n",
    "# Since we don't have original feature names due to reshaping and selecting best features\n",
    "# We'll use indices as names\n",
    "feature_names = sample_df.columns\n",
    "\n",
    "# Create a pandas dataframe to display feature importance\n",
    "feature_importance_df = pd.DataFrame()\n",
    "feature_importance_df['Feature'] = feature_names\n",
    "feature_importance_df['Relative_Importance'] = importances\n",
    "\n",
    "# Calculate the maximum of Relative Importance\n",
    "max_importance = feature_importance_df['Relative_Importance'].max()\n",
    "\n",
    "# Calculate the sum of Relative Importance\n",
    "sum_importance = feature_importance_df['Relative_Importance'].sum()\n",
    "\n",
    "# Add Scaled Importance to the dataframe\n",
    "feature_importance_df['Scaled_Importance'] = feature_importance_df['Relative_Importance'] / max_importance\n",
    "\n",
    "# Add Percentage to the dataframe\n",
    "feature_importance_df['Percentage'] = feature_importance_df['Relative_Importance'] / sum_importance\n",
    "\n",
    "feature_importance_df = (feature_importance_df.sort_values(by=['Scaled_Importance'], ascending=True)\n",
    "                        .set_index('Feature'))\n",
    "\n",
    "# display the dataframe\n",
    "print(feature_importance_df)"
   ]
  },
  {
   "cell_type": "code",
   "execution_count": 13,
   "metadata": {},
   "outputs": [
    {
     "data": {
      "image/png": "[encoded data removed]",
      "text/plain": [
       "<Figure size 1000x1500 with 1 Axes>"
      ]
     },
     "metadata": {},
     "output_type": "display_data"
    }
   ],
   "source": [
    "# Plot the importances\n",
    "feature_importance_df.plot(kind='barh', figsize=(10, 15))\n",
    "plt.show()"
   ]
  },
  {
   "cell_type": "code",
   "execution_count": 14,
   "metadata": {},
   "outputs": [],
   "source": [
    "# export to a csv file\n",
    "feature_importance_df.to_csv(\"feature_importance_tpot.csv\")"
   ]
  },
  {
   "cell_type": "code",
   "execution_count": null,
   "metadata": {},
   "outputs": [],
   "source": []
  },
  {
   "attachments": {},
   "cell_type": "markdown",
   "metadata": {},
   "source": [
    "## Export to NIfTI with feature importance"
   ]
  },
  {
   "cell_type": "code",
   "execution_count": 15,
   "metadata": {},
   "outputs": [
    {
     "data": {
      "text/html": [
       "<div>\n",
       "<style scoped>\n",
       "    .dataframe tbody tr th:only-of-type {\n",
       "        vertical-align: middle;\n",
       "    }\n",
       "\n",
       "    .dataframe tbody tr th {\n",
       "        vertical-align: top;\n",
       "    }\n",
       "\n",
       "    .dataframe thead th {\n",
       "        text-align: right;\n",
       "    }\n",
       "</style>\n",
       "<table border=\"1\" class=\"dataframe\">\n",
       "  <thead>\n",
       "    <tr style=\"text-align: right;\">\n",
       "      <th></th>\n",
       "      <th>Relative_Importance</th>\n",
       "      <th>Scaled_Importance</th>\n",
       "      <th>Percentage</th>\n",
       "    </tr>\n",
       "    <tr>\n",
       "      <th>Feature</th>\n",
       "      <th></th>\n",
       "      <th></th>\n",
       "      <th></th>\n",
       "    </tr>\n",
       "  </thead>\n",
       "  <tbody>\n",
       "    <tr>\n",
       "      <th>15351</th>\n",
       "      <td>0.058056</td>\n",
       "      <td>1.000000</td>\n",
       "      <td>0.058056</td>\n",
       "    </tr>\n",
       "    <tr>\n",
       "      <th>13158</th>\n",
       "      <td>0.053092</td>\n",
       "      <td>0.914493</td>\n",
       "      <td>0.053092</td>\n",
       "    </tr>\n",
       "    <tr>\n",
       "      <th>13181</th>\n",
       "      <td>0.048942</td>\n",
       "      <td>0.843012</td>\n",
       "      <td>0.048942</td>\n",
       "    </tr>\n",
       "    <tr>\n",
       "      <th>11979</th>\n",
       "      <td>0.045564</td>\n",
       "      <td>0.784831</td>\n",
       "      <td>0.045564</td>\n",
       "    </tr>\n",
       "    <tr>\n",
       "      <th>18925</th>\n",
       "      <td>0.041559</td>\n",
       "      <td>0.715840</td>\n",
       "      <td>0.041559</td>\n",
       "    </tr>\n",
       "    <tr>\n",
       "      <th>...</th>\n",
       "      <td>...</td>\n",
       "      <td>...</td>\n",
       "      <td>...</td>\n",
       "    </tr>\n",
       "    <tr>\n",
       "      <th>14327</th>\n",
       "      <td>0.000000</td>\n",
       "      <td>0.000000</td>\n",
       "      <td>0.000000</td>\n",
       "    </tr>\n",
       "    <tr>\n",
       "      <th>13468</th>\n",
       "      <td>0.000000</td>\n",
       "      <td>0.000000</td>\n",
       "      <td>0.000000</td>\n",
       "    </tr>\n",
       "    <tr>\n",
       "      <th>18792</th>\n",
       "      <td>0.000000</td>\n",
       "      <td>0.000000</td>\n",
       "      <td>0.000000</td>\n",
       "    </tr>\n",
       "    <tr>\n",
       "      <th>19227</th>\n",
       "      <td>0.000000</td>\n",
       "      <td>0.000000</td>\n",
       "      <td>0.000000</td>\n",
       "    </tr>\n",
       "    <tr>\n",
       "      <th>17926</th>\n",
       "      <td>0.000000</td>\n",
       "      <td>0.000000</td>\n",
       "      <td>0.000000</td>\n",
       "    </tr>\n",
       "  </tbody>\n",
       "</table>\n",
       "<p>70 rows × 3 columns</p>\n",
       "</div>"
      ],
      "text/plain": [
       "         Relative_Importance  Scaled_Importance  Percentage\n",
       "Feature                                                    \n",
       "15351               0.058056           1.000000    0.058056\n",
       "13158               0.053092           0.914493    0.053092\n",
       "13181               0.048942           0.843012    0.048942\n",
       "11979               0.045564           0.784831    0.045564\n",
       "18925               0.041559           0.715840    0.041559\n",
       "...                      ...                ...         ...\n",
       "14327               0.000000           0.000000    0.000000\n",
       "13468               0.000000           0.000000    0.000000\n",
       "18792               0.000000           0.000000    0.000000\n",
       "19227               0.000000           0.000000    0.000000\n",
       "17926               0.000000           0.000000    0.000000\n",
       "\n",
       "[70 rows x 3 columns]"
      ]
     },
     "execution_count": 15,
     "metadata": {},
     "output_type": "execute_result"
    }
   ],
   "source": [
    "feature_importance_df.sort_values(by=['Scaled_Importance'], ascending=False)"
   ]
  },
  {
   "cell_type": "code",
   "execution_count": 16,
   "metadata": {},
   "outputs": [
    {
     "name": "stdout",
     "output_type": "stream",
     "text": [
      "<class 'list'>\n",
      "[15351, 13158, 13181, 11979, 18925, 20072, 13211, 14615, 9720, 6424, 9689, 9957, 14359, 12252, 17957, 15413, 16779, 11105, 13336, 18018, 17738, 9925, 14614, 19073, 15849, 15505, 27875, 16591, 16748, 21278, 17895, 16933, 12781, 18756, 22356, 22357, 17863, 19104, 16560, 13367, 18852, 14358, 17649, 17705, 14328, 13212, 18788, 15444, 15786, 12034, 20071, 17987, 13127, 22326, 22304, 13368, 17706, 13928, 15445, 15474, 23504, 20131, 19935, 20437, 18080, 14327, 13468, 18792, 19227, 17926]\n",
      "<class 'list'>\n",
      "[1.0, 0.9144934678739145, 0.8430116690092576, 0.7848314909043593, 0.7158400675226099, 0.6692086485591896, 0.6659561654179689, 0.5610731801412722, 0.5606529642503193, 0.5244450826260693, 0.49993232697779955, 0.4618109689598791, 0.45710514397862856, 0.44542171608931064, 0.4340272731547367, 0.43291221460759066, 0.4321704401132149, 0.42369570729540895, 0.4195874419222719, 0.412807304038655, 0.4030587532541393, 0.40171854091231146, 0.3172582718346205, 0.3004179480148944, 0.2850184966253808, 0.2475374060040886, 0.23655880059755574, 0.23078313073457532, 0.21837930906795897, 0.19559838891761014, 0.19421666236073207, 0.18808410698278089, 0.17267412326709702, 0.14710811215842987, 0.1402085961737432, 0.13849180600636118, 0.13763036006378473, 0.12532721082701198, 0.12528609720244357, 0.10607833400127656, 0.10356339125595192, 0.10341363754041552, 0.09595326434369153, 0.09293177822438248, 0.08034376512699276, 0.08016394878963284, 0.0743472072111461, 0.0551577371563534, 0.05369572594191427, 0.05243736376251145, 0.052064788683855945, 0.0519040576381574, 0.04913938509158167, 0.0449461992112931, 0.04258164113538682, 0.03920746682415953, 0.036281358782387516, 0.03493935164800998, 0.03292069745578514, 0.026732952565310896, 0.021073244685801167, 0.02015791684091738, 0.010476298322526303, 0.0, 0.0, 0.0, 0.0, 0.0, 0.0, 0.0]\n"
     ]
    }
   ],
   "source": [
    "index_descending = list(feature_importance_df.sort_values(by=['Scaled_Importance'], ascending=False).index)\n",
    "print(type(index_descending))\n",
    "print(index_descending)\n",
    "\n",
    "importance_descending = list(feature_importance_df.sort_values(by=['Scaled_Importance'], ascending=False).loc[:, \"Scaled_Importance\"])\n",
    "print(type(importance_descending))\n",
    "print(importance_descending)"
   ]
  },
  {
   "cell_type": "code",
   "execution_count": 17,
   "metadata": {},
   "outputs": [
    {
     "name": "stdout",
     "output_type": "stream",
     "text": [
      "done with get_feature_positions\n",
      "saved feature_importance_tpot_3_70.nii successfully\n"
     ]
    }
   ],
   "source": [
    "component = 1\n",
    "resample_cube = 3\n",
    "number_of_features = 70\n",
    "padding = [(1, 1), (1, 1), (1, 1)]\n",
    "shape_resampled_array = (90, 31, 37, 31)\n",
    "best_features = index_descending\n",
    "\n",
    "# create the marker array\n",
    "marker, marker_array_shape = get_feature_positions(\n",
    "    top_features=best_features,\n",
    "    padding=padding,\n",
    "    resample_cube=resample_cube,\n",
    "    shape_resampled_array=shape_resampled_array[-3:],\n",
    ")\n",
    "\n",
    "# export the feature positions to a NIfTI file\n",
    "component = component\n",
    "reshape_cube = resample_cube\n",
    "number_of_features = number_of_features\n",
    "output_path = \"../NIfTY_feature_masks\"\n",
    "export_feature_positions(\n",
    "    array_shape=marker_array_shape, \n",
    "    marker=marker, \n",
    "    output_path=output_path,\n",
    "    output_filename=f\"feature_importance_tpot_{reshape_cube}_{number_of_features}\",\n",
    "    feature_importance=importance_descending\n",
    ")\n"
   ]
  },
  {
   "cell_type": "code",
   "execution_count": null,
   "metadata": {},
   "outputs": [],
   "source": []
  },
  {
   "cell_type": "code",
   "execution_count": null,
   "metadata": {},
   "outputs": [],
   "source": []
  },
  {
   "cell_type": "code",
   "execution_count": null,
   "metadata": {},
   "outputs": [],
   "source": []
  }
 ],
 "metadata": {
  "kernelspec": {
   "display_name": "env_tpot_pip",
   "language": "python",
   "name": "python3"
  },
  "language_info": {
   "codemirror_mode": {
    "name": "ipython",
    "version": 3
   },
   "file_extension": ".py",
   "mimetype": "text/x-python",
   "name": "python",
   "nbconvert_exporter": "python",
   "pygments_lexer": "ipython3",
   "version": "3.10.9"
  },
  "orig_nbformat": 4,
  "vscode": {
   "interpreter": {
    "hash": "b4d54ec3bd672709454c9a9b79935a93959c78963a0f798583835c6bddec5b34"
   }
  }
 },
 "nbformat": 4,
 "nbformat_minor": 2
}
