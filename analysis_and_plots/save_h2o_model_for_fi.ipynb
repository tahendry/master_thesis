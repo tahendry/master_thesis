{
 "cells": [
  {
   "attachments": {},
   "cell_type": "markdown",
   "metadata": {},
   "source": [
    "Date: 19.05.2023 \\\n",
    "Author: Reto Hendry\n",
    "\n",
    "This scripts is used to run the autoML tool on the best parameters and save the model which allows to extract the feature importance.\n",
    "\n",
    "The best parameters are resample cube 3 and number of features 70. This can be seen in the script \"etric_analysis_autoML_tools.ipynb\""
   ]
  },
  {
   "cell_type": "code",
   "execution_count": 24,
   "metadata": {},
   "outputs": [],
   "source": [
    "import numpy as np\n",
    "import pandas as pd\n",
    "import h2o\n",
    "import os\n",
    "import sys\n",
    "import datetime\n",
    "\n",
    "from h2o.automl import H2OAutoML\n",
    "from sklearn.model_selection import train_test_split\n",
    "from sklearn.model_selection import StratifiedKFold\n",
    "from sklearn.model_selection import cross_val_score\n",
    "from sklearn.metrics import accuracy_score, f1_score, precision_score\n",
    "from sklearn.base import BaseEstimator\n",
    "\n",
    "sys.path.append(os.path.abspath(os.path.join(os.getcwd(), os.pardir)))\n",
    "from functions.function_get_label_df import get_label_df\n",
    "from functions.function_get_component_array import get_component_array\n",
    "from functions.function_get_best_features import get_best_features_sorted\n",
    "from functions.function_resample_4d_array import resample_4d_array"
   ]
  },
  {
   "attachments": {},
   "cell_type": "markdown",
   "metadata": {},
   "source": [
    "## Save the best model which supports feature importance extraction"
   ]
  },
  {
   "cell_type": "code",
   "execution_count": 25,
   "metadata": {},
   "outputs": [
    {
     "name": "stderr",
     "output_type": "stream",
     "text": [
      "/home/tahendry/Documents/master_thesis/master_thesis_repo/functions/function_get_label_df.py:42: FutureWarning: Defining usecols with out of bounds indices is deprecated and will raise a ParserError in a future version.\n",
      "  df_label = (pd.read_excel(os.path.join(data_path, label_file),\n"
     ]
    },
    {
     "name": "stdout",
     "output_type": "stream",
     "text": [
      "shape of component_array_5d: (1, 90, 91, 109, 91)\n",
      "Resampling in progress...\n"
     ]
    },
    {
     "name": "stderr",
     "output_type": "stream",
     "text": [
      "100%|██████████| 90/90 [00:00<00:00, 109.76it/s]\n"
     ]
    },
    {
     "name": "stdout",
     "output_type": "stream",
     "text": [
      "shape of resampled sample_array_4d: (90, 31, 37, 31)\n",
      "Calculating list of best features ...\n"
     ]
    },
    {
     "name": "stderr",
     "output_type": "stream",
     "text": [
      "100%|██████████| 35556/35556 [00:34<00:00, 1044.55it/s]\n"
     ]
    }
   ],
   "source": [
    "# parameters to define\n",
    "component = [1]\n",
    "resample_cube = 3\n",
    "number_of_features = 70\n",
    "\n",
    "##############################################\n",
    "\n",
    "# get the label data\n",
    "df_label = get_label_df(data_path_optional=\"../../data/\")\n",
    "\n",
    "# get the MVPA data arrays\n",
    "component_array_5d = get_component_array(component, data_path_optional=\"../../data/\")\n",
    "print(f\"shape of component_array_5d: {component_array_5d.shape}\")\n",
    "\n",
    "sample_array_4d = resample_4d_array(component_array_5d[0], resample_cube)\n",
    "print(f\"shape of resampled sample_array_4d: {sample_array_4d.shape}\")\n",
    "\n",
    "# get the sorted feature list\n",
    "best_feature_list = get_best_features_sorted(\n",
    "    sample_array_4d, df_label\n",
    ")\n",
    "\n",
    "# select desired number of features\n",
    "best_features = best_feature_list[:number_of_features]"
   ]
  },
  {
   "cell_type": "code",
   "execution_count": 26,
   "metadata": {},
   "outputs": [
    {
     "name": "stdout",
     "output_type": "stream",
     "text": [
      "Checking whether there is an H2O instance running at http://localhost:54323. connected.\n"
     ]
    },
    {
     "data": {
      "text/html": [
       "\n",
       "<style>\n",
       "\n",
       "#h2o-table-3.h2o-container {\n",
       "  overflow-x: auto;\n",
       "}\n",
       "#h2o-table-3 .h2o-table {\n",
       "  /* width: 100%; */\n",
       "  margin-top: 1em;\n",
       "  margin-bottom: 1em;\n",
       "}\n",
       "#h2o-table-3 .h2o-table caption {\n",
       "  white-space: nowrap;\n",
       "  caption-side: top;\n",
       "  text-align: left;\n",
       "  /* margin-left: 1em; */\n",
       "  margin: 0;\n",
       "  font-size: larger;\n",
       "}\n",
       "#h2o-table-3 .h2o-table thead {\n",
       "  white-space: nowrap; \n",
       "  position: sticky;\n",
       "  top: 0;\n",
       "  box-shadow: 0 -1px inset;\n",
       "}\n",
       "#h2o-table-3 .h2o-table tbody {\n",
       "  overflow: auto;\n",
       "}\n",
       "#h2o-table-3 .h2o-table th,\n",
       "#h2o-table-3 .h2o-table td {\n",
       "  text-align: right;\n",
       "  /* border: 1px solid; */\n",
       "}\n",
       "#h2o-table-3 .h2o-table tr:nth-child(even) {\n",
       "  /* background: #F5F5F5 */\n",
       "}\n",
       "\n",
       "</style>      \n",
       "<div id=\"h2o-table-3\" class=\"h2o-container\">\n",
       "  <table class=\"h2o-table\">\n",
       "    <caption></caption>\n",
       "    <thead></thead>\n",
       "    <tbody><tr><td>H2O_cluster_uptime:</td>\n",
       "<td>21 mins 01 secs</td></tr>\n",
       "<tr><td>H2O_cluster_timezone:</td>\n",
       "<td>Europe/Zurich</td></tr>\n",
       "<tr><td>H2O_data_parsing_timezone:</td>\n",
       "<td>UTC</td></tr>\n",
       "<tr><td>H2O_cluster_version:</td>\n",
       "<td>3.40.0.1</td></tr>\n",
       "<tr><td>H2O_cluster_version_age:</td>\n",
       "<td>3 months and 10 days</td></tr>\n",
       "<tr><td>H2O_cluster_name:</td>\n",
       "<td>H2O_from_python_tahendry_a3aarn</td></tr>\n",
       "<tr><td>H2O_cluster_total_nodes:</td>\n",
       "<td>1</td></tr>\n",
       "<tr><td>H2O_cluster_free_memory:</td>\n",
       "<td>160.0 Gb</td></tr>\n",
       "<tr><td>H2O_cluster_total_cores:</td>\n",
       "<td>8</td></tr>\n",
       "<tr><td>H2O_cluster_allowed_cores:</td>\n",
       "<td>8</td></tr>\n",
       "<tr><td>H2O_cluster_status:</td>\n",
       "<td>locked, healthy</td></tr>\n",
       "<tr><td>H2O_connection_url:</td>\n",
       "<td>http://localhost:54323</td></tr>\n",
       "<tr><td>H2O_connection_proxy:</td>\n",
       "<td>{\"http\": null, \"https\": null}</td></tr>\n",
       "<tr><td>H2O_internal_security:</td>\n",
       "<td>False</td></tr>\n",
       "<tr><td>Python_version:</td>\n",
       "<td>3.10.9 final</td></tr></tbody>\n",
       "  </table>\n",
       "</div>\n"
      ],
      "text/plain": [
       "--------------------------  -------------------------------\n",
       "H2O_cluster_uptime:         21 mins 01 secs\n",
       "H2O_cluster_timezone:       Europe/Zurich\n",
       "H2O_data_parsing_timezone:  UTC\n",
       "H2O_cluster_version:        3.40.0.1\n",
       "H2O_cluster_version_age:    3 months and 10 days\n",
       "H2O_cluster_name:           H2O_from_python_tahendry_a3aarn\n",
       "H2O_cluster_total_nodes:    1\n",
       "H2O_cluster_free_memory:    160.0 Gb\n",
       "H2O_cluster_total_cores:    8\n",
       "H2O_cluster_allowed_cores:  8\n",
       "H2O_cluster_status:         locked, healthy\n",
       "H2O_connection_url:         http://localhost:54323\n",
       "H2O_connection_proxy:       {\"http\": null, \"https\": null}\n",
       "H2O_internal_security:      False\n",
       "Python_version:             3.10.9 final\n",
       "--------------------------  -------------------------------"
      ]
     },
     "metadata": {},
     "output_type": "display_data"
    },
    {
     "name": "stdout",
     "output_type": "stream",
     "text": [
      "Parse progress: |████████████████████████████████████████████████████████████████| (done) 100%\n",
      "Parse progress: |████████████████████████████████████████████████████████████████| (done) 100%\n"
     ]
    }
   ],
   "source": [
    "# reshape 4d array to dataframe\n",
    "sample_df = pd.DataFrame(\n",
    "    sample_array_4d.reshape(sample_array_4d.shape[0], -1)\n",
    "    ).iloc[:, best_features]\n",
    "\n",
    "# split data into train and test\n",
    "x_train, x_test, y_train, y_test = train_test_split(\n",
    "    sample_df, \n",
    "    df_label[\"Cond\"], \n",
    "    test_size=0.2, \n",
    "    random_state=42,\n",
    "    stratify=df_label[\"Cond\"]\n",
    ")\n",
    "\n",
    "# Convert the column names of x_train and x_test to strings\n",
    "    # the conversion into strings is necessary for the H2O AutoML\n",
    "    # the h2o dataframes convert all types to strings\n",
    "x_train.columns = x_train.columns.astype(str)\n",
    "x_test.columns = x_test.columns.astype(str)\n",
    "\n",
    "# initialize h2o server\n",
    "h2o.init(\n",
    "    ip=\"localhost\", \n",
    "    port=54323,\n",
    "    nthreads=-1,\n",
    "    min_mem_size=64,  # 64 GB\n",
    "    max_mem_size=160,  # 160 GB\n",
    ")\n",
    "\n",
    "# Convert train and test sets to H2O DataFrames \n",
    "x_train_h2o = h2o.H2OFrame(pd.concat([x_train, y_train], axis=1))\n",
    "x_test_h2o = h2o.H2OFrame(pd.concat([x_test, y_test], axis=1))\n",
    "\n",
    "x_features = x_train.columns.tolist()\n",
    "y_label = \"Cond\"\n",
    "\n",
    "x_train_h2o[y_label] = x_train_h2o[y_label].asfactor()\n",
    "x_test_h2o[y_label] = x_test_h2o[y_label].asfactor()"
   ]
  },
  {
   "cell_type": "code",
   "execution_count": 27,
   "metadata": {},
   "outputs": [
    {
     "name": "stdout",
     "output_type": "stream",
     "text": [
      "Fitting tpot model on 70 features on component [1]...\n",
      "AutoML progress: |\n",
      "16:41:58.477: Project: AutoML_1_20230519_164158\n",
      "16:41:58.486: Setting stopping tolerance adaptively based on the training frame: 0.05\n",
      "16:41:58.487: Build control seed: 1\n",
      "16:41:58.487: training frame: Frame key: AutoML_1_20230519_164158_training_py_10_sid_966a    cols: 71    rows: 72  chunks: 1    size: 45711  checksum: 2728487036948607530\n",
      "16:41:58.487: validation frame: NULL\n",
      "16:41:58.487: leaderboard frame: NULL\n",
      "16:41:58.487: blending frame: NULL\n",
      "16:41:58.487: response column: Cond\n",
      "16:41:58.487: fold column: null\n",
      "16:41:58.487: weights column: null\n",
      "16:41:58.509: Loading execution steps: [{XGBoost : [def_2 (1g, 10w), def_1 (2g, 10w), def_3 (3g, 10w), grid_1 (4g, 90w), lr_search (7g, 30w)]}, {GLM : [def_1 (1g, 10w)]}, {DRF : [def_1 (2g, 10w), XRT (3g, 10w)]}, {GBM : [def_5 (1g, 10w), def_2 (2g, 10w), def_3 (2g, 10w), def_4 (2g, 10w), def_1 (3g, 10w), grid_1 (4g, 60w), lr_annealing (7g, 10w)]}, {DeepLearning : [def_1 (3g, 10w), grid_1 (4g, 30w), grid_2 (5g, 30w), grid_3 (5g, 30w)]}, {completion : [resume_best_grids (6g, 60w)]}, {StackedEnsemble : [monotonic (9g, 10w), best_of_family_xglm (10g, 10w), all_xglm (10g, 10w)]}]\n",
      "16:41:58.530: Disabling Algo: DeepLearning as requested by the user.\n",
      "16:41:58.531: AutoML job created: 2023.05.19 16:41:58.457\n",
      "16:41:58.533: AutoML build started: 2023.05.19 16:41:58.532\n",
      "16:41:58.544: AutoML: starting XGBoost_1_AutoML_1_20230519_164158 model training\n",
      "\n",
      "█\n",
      "16:42:02.835: New leader: XGBoost_1_AutoML_1_20230519_164158, auc: 0.2467181467181467\n",
      "16:42:02.837: AutoML: starting GLM_1_AutoML_1_20230519_164158 model training\n",
      "\n",
      "█\n",
      "16:42:04.348: New leader: GLM_1_AutoML_1_20230519_164158, auc: 0.8903474903474904\n",
      "16:42:04.352: AutoML: starting GBM_1_AutoML_1_20230519_164158 model training\n",
      "16:42:04.352: _min_rows param, The dataset size is too small to split for min_rows=100.0: must have at least 200.0 (weighted) rows, but have only 72.0.\n",
      "16:42:04.353: AutoML: starting XGBoost_2_AutoML_1_20230519_164158 model training\n",
      "\n",
      "██\n",
      "16:42:08.577: AutoML: starting DRF_1_AutoML_1_20230519_164158 model training\n",
      "\n",
      "██\n",
      "16:42:11.273: AutoML: starting GBM_2_AutoML_1_20230519_164158 model training\n",
      "\n",
      "██\n",
      "16:42:16.833: AutoML: starting GBM_3_AutoML_1_20230519_164158 model training\n",
      "\n",
      "██\n",
      "16:42:21.493: AutoML: starting GBM_4_AutoML_1_20230519_164158 model training\n",
      "\n",
      "██\n",
      "16:42:26.889: AutoML: starting XGBoost_3_AutoML_1_20230519_164158 model training\n",
      "\n",
      "█\n",
      "16:42:29.948: AutoML: starting XRT_1_AutoML_1_20230519_164158 model training\n",
      "\n",
      "█\n",
      "16:42:32.515: AutoML: starting GBM_5_AutoML_1_20230519_164158 model training\n",
      "\n",
      "███\n",
      "16:42:39.997: AutoML: starting XGBoost_grid_1_AutoML_1_20230519_164158 hyperparameter search\n",
      "\n",
      "██████████████████\n",
      "16:45:13.640: AutoML: starting GBM_grid_1_AutoML_1_20230519_164158 hyperparameter search\n",
      "\n",
      "████████████████\n",
      "16:46:22.74: AutoML: starting GBM_grid_1_AutoML_1_20230519_164158 hyperparameter search\n",
      "16:46:22.233: AutoML: starting XGBoost_grid_1_AutoML_1_20230519_164158 hyperparameter search\n",
      "16:46:22.262: Applying learning rate search on best XGBoost: XGBoost_grid_1_AutoML_1_20230519_164158_model_20\n",
      "16:46:22.262: AutoML: starting XGBoost_lr_search_selection_AutoML_1_20230519_164158_select model training\n",
      "\n",
      "████████████\n",
      "16:46:57.782: New leader: GLM_1_AutoML_1_20230519_164158, auc: 0.8903474903474904\n",
      "16:46:57.814: Retraining best GBM with learning rate annealing: GBM_grid_1_AutoML_1_20230519_164158_model_31\n",
      "16:46:57.814: AutoML: starting GBM_lr_annealing_selection_AutoML_1_20230519_164158_select_model model training\n",
      "16:46:59.735: No base models, due to timeouts or the exclude_algos option. Skipping StackedEnsemble 'monotonic'.\n",
      "16:46:59.741: AutoML: starting StackedEnsemble_BestOfFamily_1_AutoML_1_20230519_164158 model training\n",
      "\n",
      "\n",
      "16:47:06.512: New leader: StackedEnsemble_BestOfFamily_1_AutoML_1_20230519_164158, auc: 0.8926640926640927\n",
      "16:47:06.515: AutoML: starting StackedEnsemble_AllModels_1_AutoML_1_20230519_164158 model training\n",
      "\n",
      "| (done) 100%\n",
      "\n",
      "16:47:13.653: Actual modeling steps: [{XGBoost : [def_2 (1g, 10w)]}, {GLM : [def_1 (1g, 10w)]}, {XGBoost : [def_1 (2g, 10w)]}, {DRF : [def_1 (2g, 10w)]}, {GBM : [def_2 (2g, 10w), def_3 (2g, 10w), def_4 (2g, 10w)]}, {XGBoost : [def_3 (3g, 10w)]}, {DRF : [XRT (3g, 10w)]}, {GBM : [def_1 (3g, 10w)]}, {XGBoost : [grid_1 (4g, 90w)]}, {GBM : [grid_1 (4g, 60w)]}, {completion : [resume_best_grids (6g, 60w)]}, {XGBoost : [lr_search (7g, 30w)]}, {GBM : [lr_annealing (7g, 10w)]}, {StackedEnsemble : [best_of_family_xglm (10g, 10w), all_xglm (10g, 10w)]}]\n",
      "16:47:13.653: AutoML build stopped: 2023.05.19 16:47:13.653\n",
      "16:47:13.653: AutoML build done: built 89 models\n",
      "16:47:13.653: AutoML duration:  5 min 15.121 sec\n",
      "\n"
     ]
    }
   ],
   "source": [
    "# define the autoML model\n",
    "h2o_model = H2OAutoML(\n",
    "    max_runtime_secs=7200, \n",
    "    max_models=100, \n",
    "    nfolds=9,\n",
    "    balance_classes=True,  # stratified sampling\n",
    "    seed=1,  # reproducibility\n",
    "    stopping_metric=\"auc\",\n",
    "    stopping_rounds=10,  # stop training if the score doesn't improve for 10 rounds\n",
    "    verbosity=\"info\",\n",
    "    exclude_algos=[\"DeepLearning\"],\n",
    ")\n",
    "\n",
    "print(f\"Fitting tpot model on {len(best_features)} features on component {component}...\")\n",
    "h2o_model.train(x=x_features, y=y_label, training_frame=x_train_h2o)\n",
    "\n",
    "best_model = h2o_model.leader"
   ]
  },
  {
   "cell_type": "code",
   "execution_count": 28,
   "metadata": {},
   "outputs": [
    {
     "name": "stdout",
     "output_type": "stream",
     "text": [
      "stackedensemble prediction progress: |███████████████████████████████████████████| (done) 100%\n",
      "cv_mean_accuracy: 0.89483327\n",
      "cv_std: 0.095870316\n",
      "test_accuracy: 0.9444444444444444\n",
      "test_f1_score: 0.9442724458204333\n",
      "test_precision_score: 0.9500000000000001\n"
     ]
    }
   ],
   "source": [
    "# cv-accuracy and cv-standard deviation from best model\n",
    "cv_metrics = best_model.cross_validation_metrics_summary().as_data_frame()\n",
    "cv_mean_accuracy = cv_metrics.loc[cv_metrics[\"\"]==\"accuracy\", \"mean\"].values[0]\n",
    "cv_std = cv_metrics.loc[cv_metrics[\"\"]==\"accuracy\", \"sd\"].values[0]\n",
    "\n",
    "### calculate test metrics\n",
    "test_pred = best_model.predict(x_test_h2o).as_data_frame().loc[:,\"predict\"]\n",
    "test_accuracy = accuracy_score(y_test, test_pred)\n",
    "test_f1_score = f1_score(y_test, test_pred, average=\"weighted\")\n",
    "test_precision_score = precision_score(y_test, test_pred, average=\"weighted\")\n",
    "\n",
    "# print all the results\n",
    "print(f\"cv_mean_accuracy: {cv_mean_accuracy}\")\n",
    "print(f\"cv_std: {cv_std}\")\n",
    "print(f\"test_accuracy: {test_accuracy}\")\n",
    "print(f\"test_f1_score: {test_f1_score}\")\n",
    "print(f\"test_precision_score: {test_precision_score}\")"
   ]
  },
  {
   "cell_type": "code",
   "execution_count": 29,
   "metadata": {},
   "outputs": [
    {
     "data": {
      "text/html": [
       "<table class='dataframe'>\n",
       "<thead>\n",
       "<tr><th>model_id                                                                </th><th style=\"text-align: right;\">     auc</th><th style=\"text-align: right;\">  logloss</th><th style=\"text-align: right;\">   aucpr</th><th style=\"text-align: right;\">  mean_per_class_error</th><th style=\"text-align: right;\">    rmse</th><th style=\"text-align: right;\">     mse</th><th style=\"text-align: right;\">  training_time_ms</th><th style=\"text-align: right;\">  predict_time_per_row_ms</th><th>algo           </th></tr>\n",
       "</thead>\n",
       "<tbody>\n",
       "<tr><td>StackedEnsemble_BestOfFamily_1_AutoML_1_20230519_164158                 </td><td style=\"text-align: right;\">0.892664</td><td style=\"text-align: right;\"> 0.418394</td><td style=\"text-align: right;\">0.885922</td><td style=\"text-align: right;\">              0.165251</td><td style=\"text-align: right;\">0.367076</td><td style=\"text-align: right;\">0.134745</td><td style=\"text-align: right;\">              6722</td><td style=\"text-align: right;\">                 0.205516</td><td>StackedEnsemble</td></tr>\n",
       "<tr><td>GLM_1_AutoML_1_20230519_164158                                          </td><td style=\"text-align: right;\">0.890347</td><td style=\"text-align: right;\"> 0.41428 </td><td style=\"text-align: right;\">0.897775</td><td style=\"text-align: right;\">              0.205792</td><td style=\"text-align: right;\">0.374644</td><td style=\"text-align: right;\">0.140358</td><td style=\"text-align: right;\">                80</td><td style=\"text-align: right;\">                 0.223664</td><td>GLM            </td></tr>\n",
       "<tr><td>StackedEnsemble_AllModels_1_AutoML_1_20230519_164158                    </td><td style=\"text-align: right;\">0.881853</td><td style=\"text-align: right;\"> 0.428248</td><td style=\"text-align: right;\">0.869833</td><td style=\"text-align: right;\">              0.218533</td><td style=\"text-align: right;\">0.375379</td><td style=\"text-align: right;\">0.140909</td><td style=\"text-align: right;\">              7093</td><td style=\"text-align: right;\">                 0.58007 </td><td>StackedEnsemble</td></tr>\n",
       "<tr><td>GBM_grid_1_AutoML_1_20230519_164158_model_31                            </td><td style=\"text-align: right;\">0.866409</td><td style=\"text-align: right;\"> 0.46841 </td><td style=\"text-align: right;\">0.849624</td><td style=\"text-align: right;\">              0.204247</td><td style=\"text-align: right;\">0.390463</td><td style=\"text-align: right;\">0.152462</td><td style=\"text-align: right;\">               250</td><td style=\"text-align: right;\">                 0.140345</td><td>GBM            </td></tr>\n",
       "<tr><td>XGBoost_lr_search_selection_AutoML_1_20230519_164158_select_grid_model_2</td><td style=\"text-align: right;\">0.864093</td><td style=\"text-align: right;\"> 0.475633</td><td style=\"text-align: right;\">0.8377  </td><td style=\"text-align: right;\">              0.181853</td><td style=\"text-align: right;\">0.392344</td><td style=\"text-align: right;\">0.153934</td><td style=\"text-align: right;\">               464</td><td style=\"text-align: right;\">                 0.127187</td><td>XGBoost        </td></tr>\n",
       "<tr><td>GBM_grid_1_AutoML_1_20230519_164158_model_4                             </td><td style=\"text-align: right;\">0.856371</td><td style=\"text-align: right;\"> 0.471172</td><td style=\"text-align: right;\">0.836557</td><td style=\"text-align: right;\">              0.205019</td><td style=\"text-align: right;\">0.392596</td><td style=\"text-align: right;\">0.154132</td><td style=\"text-align: right;\">               220</td><td style=\"text-align: right;\">                 0.135254</td><td>GBM            </td></tr>\n",
       "<tr><td>GBM_grid_1_AutoML_1_20230519_164158_model_26                            </td><td style=\"text-align: right;\">0.854054</td><td style=\"text-align: right;\"> 0.505611</td><td style=\"text-align: right;\">0.854513</td><td style=\"text-align: right;\">              0.205792</td><td style=\"text-align: right;\">0.403218</td><td style=\"text-align: right;\">0.162585</td><td style=\"text-align: right;\">               302</td><td style=\"text-align: right;\">                 0.11289 </td><td>GBM            </td></tr>\n",
       "<tr><td>GBM_grid_1_AutoML_1_20230519_164158_model_18                            </td><td style=\"text-align: right;\">0.850193</td><td style=\"text-align: right;\"> 0.541393</td><td style=\"text-align: right;\">0.804062</td><td style=\"text-align: right;\">              0.192278</td><td style=\"text-align: right;\">0.4121  </td><td style=\"text-align: right;\">0.169826</td><td style=\"text-align: right;\">               497</td><td style=\"text-align: right;\">                 0.155068</td><td>GBM            </td></tr>\n",
       "<tr><td>GBM_grid_1_AutoML_1_20230519_164158_model_25                            </td><td style=\"text-align: right;\">0.844015</td><td style=\"text-align: right;\"> 0.484889</td><td style=\"text-align: right;\">0.842154</td><td style=\"text-align: right;\">              0.209653</td><td style=\"text-align: right;\">0.399824</td><td style=\"text-align: right;\">0.159859</td><td style=\"text-align: right;\">               305</td><td style=\"text-align: right;\">                 0.138177</td><td>GBM            </td></tr>\n",
       "<tr><td>GBM_grid_1_AutoML_1_20230519_164158_model_10                            </td><td style=\"text-align: right;\">0.840154</td><td style=\"text-align: right;\"> 0.53479 </td><td style=\"text-align: right;\">0.827824</td><td style=\"text-align: right;\">              0.206564</td><td style=\"text-align: right;\">0.426978</td><td style=\"text-align: right;\">0.18231 </td><td style=\"text-align: right;\">               274</td><td style=\"text-align: right;\">                 0.141963</td><td>GBM            </td></tr>\n",
       "</tbody>\n",
       "</table><pre style='font-size: smaller; margin-bottom: 1em;'>[91 rows x 10 columns]</pre>"
      ],
      "text/plain": [
       "model_id                                                                       auc    logloss     aucpr    mean_per_class_error      rmse       mse    training_time_ms    predict_time_per_row_ms  algo\n",
       "------------------------------------------------------------------------  --------  ---------  --------  ----------------------  --------  --------  ------------------  -------------------------  ---------------\n",
       "StackedEnsemble_BestOfFamily_1_AutoML_1_20230519_164158                   0.892664   0.418394  0.885922                0.165251  0.367076  0.134745                6722                   0.205516  StackedEnsemble\n",
       "GLM_1_AutoML_1_20230519_164158                                            0.890347   0.41428   0.897775                0.205792  0.374644  0.140358                  80                   0.223664  GLM\n",
       "StackedEnsemble_AllModels_1_AutoML_1_20230519_164158                      0.881853   0.428248  0.869833                0.218533  0.375379  0.140909                7093                   0.58007   StackedEnsemble\n",
       "GBM_grid_1_AutoML_1_20230519_164158_model_31                              0.866409   0.46841   0.849624                0.204247  0.390463  0.152462                 250                   0.140345  GBM\n",
       "XGBoost_lr_search_selection_AutoML_1_20230519_164158_select_grid_model_2  0.864093   0.475633  0.8377                  0.181853  0.392344  0.153934                 464                   0.127187  XGBoost\n",
       "GBM_grid_1_AutoML_1_20230519_164158_model_4                               0.856371   0.471172  0.836557                0.205019  0.392596  0.154132                 220                   0.135254  GBM\n",
       "GBM_grid_1_AutoML_1_20230519_164158_model_26                              0.854054   0.505611  0.854513                0.205792  0.403218  0.162585                 302                   0.11289   GBM\n",
       "GBM_grid_1_AutoML_1_20230519_164158_model_18                              0.850193   0.541393  0.804062                0.192278  0.4121    0.169826                 497                   0.155068  GBM\n",
       "GBM_grid_1_AutoML_1_20230519_164158_model_25                              0.844015   0.484889  0.842154                0.209653  0.399824  0.159859                 305                   0.138177  GBM\n",
       "GBM_grid_1_AutoML_1_20230519_164158_model_10                              0.840154   0.53479   0.827824                0.206564  0.426978  0.18231                  274                   0.141963  GBM\n",
       "[91 rows x 10 columns]\n"
      ]
     },
     "execution_count": 29,
     "metadata": {},
     "output_type": "execute_result"
    }
   ],
   "source": [
    "lb = h2o.automl.get_leaderboard(h2o_model, extra_columns = \"ALL\")\n",
    "lb"
   ]
  },
  {
   "cell_type": "code",
   "execution_count": 31,
   "metadata": {},
   "outputs": [
    {
     "name": "stdout",
     "output_type": "stream",
     "text": [
      "saved model to ../param_sweep_best_models/h2o_best_models/h2o_model_20230519_165118\n"
     ]
    }
   ],
   "source": [
    "# save the first model which supports feature importance\n",
    "model_for_fi = h2o.get_model(lb[1, \"model_id\"])\n",
    "# save best model\n",
    "id = datetime.datetime.now().strftime(\"%Y%m%d_%H%M%S\")\n",
    "\n",
    "h2o.save_model(\n",
    "        model=model_for_fi, \n",
    "        path=f\"../param_sweep_best_models/h2o_best_models/h2o_model_{id}\",\n",
    "        force=True,  # overwrite existing model\n",
    "    )\n",
    "\n",
    "print(f\"saved model to ../param_sweep_best_models/h2o_best_models/h2o_model_{id}\")"
   ]
  },
  {
   "cell_type": "code",
   "execution_count": null,
   "metadata": {},
   "outputs": [],
   "source": []
  },
  {
   "cell_type": "code",
   "execution_count": null,
   "metadata": {},
   "outputs": [],
   "source": []
  },
  {
   "cell_type": "code",
   "execution_count": null,
   "metadata": {},
   "outputs": [],
   "source": []
  }
 ],
 "metadata": {
  "kernelspec": {
   "display_name": "env_h2o",
   "language": "python",
   "name": "python3"
  },
  "language_info": {
   "codemirror_mode": {
    "name": "ipython",
    "version": 3
   },
   "file_extension": ".py",
   "mimetype": "text/x-python",
   "name": "python",
   "nbconvert_exporter": "python",
   "pygments_lexer": "ipython3",
   "version": "3.10.9 (main, Mar  1 2023, 18:23:06) [GCC 11.2.0]"
  },
  "orig_nbformat": 4,
  "vscode": {
   "interpreter": {
    "hash": "568949f3300de056dad872d23e0d42a26a39e1939f2d1c0c069655a6a4cea437"
   }
  }
 },
 "nbformat": 4,
 "nbformat_minor": 2
}
