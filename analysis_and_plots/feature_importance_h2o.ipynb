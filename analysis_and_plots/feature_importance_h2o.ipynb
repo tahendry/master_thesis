{
 "cells": [
  {
   "attachments": {},
   "cell_type": "markdown",
   "metadata": {},
   "source": [
    "Date: 19.05.2023 \\\n",
    "Author: Reto Hendry\n",
    "\n",
    "This scripts is used to find out the feature importance of the best performing models on the parameter set which is best for all models.\n",
    "\n",
    "The best parameters are resample cube 3 and number of features 70. This can be seen in the script \"etric_analysis_autoML_tools.ipynb\""
   ]
  },
  {
   "cell_type": "code",
   "execution_count": 92,
   "metadata": {},
   "outputs": [],
   "source": [
    "import numpy as np\n",
    "import pandas as pd\n",
    "import h2o\n",
    "import os\n",
    "import sys\n",
    "import datetime\n",
    "from matplotlib import pyplot as plt\n",
    "\n",
    "from h2o.automl import H2OAutoML\n",
    "from sklearn.model_selection import train_test_split\n",
    "from sklearn.model_selection import StratifiedKFold\n",
    "from sklearn.model_selection import cross_val_score\n",
    "from sklearn.metrics import accuracy_score, f1_score, precision_score\n",
    "from sklearn.base import BaseEstimator\n",
    "\n",
    "sys.path.append(os.path.abspath(os.path.join(os.getcwd(), os.pardir)))\n",
    "from functions.function_get_label_df import get_label_df\n",
    "from functions.function_get_component_array import get_component_array\n",
    "from functions.function_get_best_features import get_best_features_sorted\n",
    "from functions.function_resample_4d_array import resample_4d_array"
   ]
  },
  {
   "attachments": {},
   "cell_type": "markdown",
   "metadata": {},
   "source": [
    "## Prepare data"
   ]
  },
  {
   "cell_type": "code",
   "execution_count": 93,
   "metadata": {},
   "outputs": [
    {
     "name": "stderr",
     "output_type": "stream",
     "text": [
      "/home/tahendry/Documents/master_thesis/master_thesis_repo/functions/function_get_label_df.py:42: FutureWarning: Defining usecols with out of bounds indices is deprecated and will raise a ParserError in a future version.\n",
      "  df_label = (pd.read_excel(os.path.join(data_path, label_file),\n"
     ]
    },
    {
     "name": "stdout",
     "output_type": "stream",
     "text": [
      "shape of component_array_5d: (1, 90, 91, 109, 91)\n",
      "Resampling in progress...\n"
     ]
    },
    {
     "name": "stderr",
     "output_type": "stream",
     "text": [
      "100%|██████████| 90/90 [00:00<00:00, 95.21it/s] \n"
     ]
    },
    {
     "name": "stdout",
     "output_type": "stream",
     "text": [
      "shape of resampled sample_array_4d: (90, 31, 37, 31)\n",
      "Calculating list of best features ...\n"
     ]
    },
    {
     "name": "stderr",
     "output_type": "stream",
     "text": [
      "100%|██████████| 35556/35556 [00:33<00:00, 1069.46it/s]\n"
     ]
    }
   ],
   "source": [
    "# parameters to define\n",
    "component = [1]\n",
    "resample_cube = 3\n",
    "number_of_features = 70\n",
    "\n",
    "##############################################\n",
    "\n",
    "# get the label data\n",
    "df_label = get_label_df(data_path_optional=\"../../data/\")\n",
    "\n",
    "# get the MVPA data arrays\n",
    "component_array_5d = get_component_array(component, data_path_optional=\"../../data/\")\n",
    "print(f\"shape of component_array_5d: {component_array_5d.shape}\")\n",
    "\n",
    "sample_array_4d = resample_4d_array(component_array_5d[0], resample_cube)\n",
    "print(f\"shape of resampled sample_array_4d: {sample_array_4d.shape}\")\n",
    "\n",
    "# get the sorted feature list\n",
    "best_feature_list = get_best_features_sorted(\n",
    "    sample_array_4d, df_label\n",
    ")\n",
    "\n",
    "# select desired number of features\n",
    "best_features = best_feature_list[:number_of_features]"
   ]
  },
  {
   "cell_type": "code",
   "execution_count": 94,
   "metadata": {},
   "outputs": [
    {
     "name": "stdout",
     "output_type": "stream",
     "text": [
      "Checking whether there is an H2O instance running at http://localhost:54323. connected.\n"
     ]
    },
    {
     "data": {
      "text/html": [
       "\n",
       "<style>\n",
       "\n",
       "#h2o-table-7.h2o-container {\n",
       "  overflow-x: auto;\n",
       "}\n",
       "#h2o-table-7 .h2o-table {\n",
       "  /* width: 100%; */\n",
       "  margin-top: 1em;\n",
       "  margin-bottom: 1em;\n",
       "}\n",
       "#h2o-table-7 .h2o-table caption {\n",
       "  white-space: nowrap;\n",
       "  caption-side: top;\n",
       "  text-align: left;\n",
       "  /* margin-left: 1em; */\n",
       "  margin: 0;\n",
       "  font-size: larger;\n",
       "}\n",
       "#h2o-table-7 .h2o-table thead {\n",
       "  white-space: nowrap; \n",
       "  position: sticky;\n",
       "  top: 0;\n",
       "  box-shadow: 0 -1px inset;\n",
       "}\n",
       "#h2o-table-7 .h2o-table tbody {\n",
       "  overflow: auto;\n",
       "}\n",
       "#h2o-table-7 .h2o-table th,\n",
       "#h2o-table-7 .h2o-table td {\n",
       "  text-align: right;\n",
       "  /* border: 1px solid; */\n",
       "}\n",
       "#h2o-table-7 .h2o-table tr:nth-child(even) {\n",
       "  /* background: #F5F5F5 */\n",
       "}\n",
       "\n",
       "</style>      \n",
       "<div id=\"h2o-table-7\" class=\"h2o-container\">\n",
       "  <table class=\"h2o-table\">\n",
       "    <caption></caption>\n",
       "    <thead></thead>\n",
       "    <tbody><tr><td>H2O_cluster_uptime:</td>\n",
       "<td>2 hours 46 mins</td></tr>\n",
       "<tr><td>H2O_cluster_timezone:</td>\n",
       "<td>Europe/Zurich</td></tr>\n",
       "<tr><td>H2O_data_parsing_timezone:</td>\n",
       "<td>UTC</td></tr>\n",
       "<tr><td>H2O_cluster_version:</td>\n",
       "<td>3.40.0.1</td></tr>\n",
       "<tr><td>H2O_cluster_version_age:</td>\n",
       "<td>3 months and 11 days</td></tr>\n",
       "<tr><td>H2O_cluster_name:</td>\n",
       "<td>H2O_from_python_tahendry_a3aarn</td></tr>\n",
       "<tr><td>H2O_cluster_total_nodes:</td>\n",
       "<td>1</td></tr>\n",
       "<tr><td>H2O_cluster_free_memory:</td>\n",
       "<td>159.9 Gb</td></tr>\n",
       "<tr><td>H2O_cluster_total_cores:</td>\n",
       "<td>8</td></tr>\n",
       "<tr><td>H2O_cluster_allowed_cores:</td>\n",
       "<td>8</td></tr>\n",
       "<tr><td>H2O_cluster_status:</td>\n",
       "<td>locked, healthy</td></tr>\n",
       "<tr><td>H2O_connection_url:</td>\n",
       "<td>http://localhost:54323</td></tr>\n",
       "<tr><td>H2O_connection_proxy:</td>\n",
       "<td>{\"http\": null, \"https\": null}</td></tr>\n",
       "<tr><td>H2O_internal_security:</td>\n",
       "<td>False</td></tr>\n",
       "<tr><td>Python_version:</td>\n",
       "<td>3.10.9 final</td></tr></tbody>\n",
       "  </table>\n",
       "</div>\n"
      ],
      "text/plain": [
       "--------------------------  -------------------------------\n",
       "H2O_cluster_uptime:         2 hours 46 mins\n",
       "H2O_cluster_timezone:       Europe/Zurich\n",
       "H2O_data_parsing_timezone:  UTC\n",
       "H2O_cluster_version:        3.40.0.1\n",
       "H2O_cluster_version_age:    3 months and 11 days\n",
       "H2O_cluster_name:           H2O_from_python_tahendry_a3aarn\n",
       "H2O_cluster_total_nodes:    1\n",
       "H2O_cluster_free_memory:    159.9 Gb\n",
       "H2O_cluster_total_cores:    8\n",
       "H2O_cluster_allowed_cores:  8\n",
       "H2O_cluster_status:         locked, healthy\n",
       "H2O_connection_url:         http://localhost:54323\n",
       "H2O_connection_proxy:       {\"http\": null, \"https\": null}\n",
       "H2O_internal_security:      False\n",
       "Python_version:             3.10.9 final\n",
       "--------------------------  -------------------------------"
      ]
     },
     "metadata": {},
     "output_type": "display_data"
    },
    {
     "name": "stdout",
     "output_type": "stream",
     "text": [
      "Parse progress: |████████████████████████████████████████████████████████████████| (done) 100%\n",
      "Parse progress: |████████████████████████████████████████████████████████████████| (done) 100%\n"
     ]
    }
   ],
   "source": [
    "# reshape 4d array to dataframe\n",
    "sample_df = pd.DataFrame(\n",
    "    sample_array_4d.reshape(sample_array_4d.shape[0], -1)\n",
    "    ).iloc[:, best_features]\n",
    "\n",
    "# split data into train and test\n",
    "x_train, x_test, y_train, y_test = train_test_split(\n",
    "    sample_df, \n",
    "    df_label[\"Cond\"], \n",
    "    test_size=0.2, \n",
    "    random_state=42,\n",
    "    stratify=df_label[\"Cond\"]\n",
    ")\n",
    "\n",
    "# Convert the column names of x_train and x_test to strings\n",
    "    # the conversion into strings is necessary for the H2O AutoML\n",
    "    # the h2o dataframes convert all types to strings\n",
    "x_train.columns = x_train.columns.astype(str)\n",
    "x_test.columns = x_test.columns.astype(str)\n",
    "\n",
    "# initialize h2o server\n",
    "h2o.init(\n",
    "    ip=\"localhost\", \n",
    "    port=54323,\n",
    "    nthreads=-1,\n",
    "    min_mem_size=64,  # 64 GB\n",
    "    max_mem_size=160,  # 160 GB\n",
    ")\n",
    "\n",
    "# Convert train and test sets to H2O DataFrames \n",
    "x_train_h2o = h2o.H2OFrame(pd.concat([x_train, y_train], axis=1))\n",
    "x_test_h2o = h2o.H2OFrame(pd.concat([x_test, y_test], axis=1))\n",
    "\n",
    "x_features = x_train.columns.tolist()\n",
    "y_label = \"Cond\"\n",
    "\n",
    "x_train_h2o[y_label] = x_train_h2o[y_label].asfactor()\n",
    "x_test_h2o[y_label] = x_test_h2o[y_label].asfactor()"
   ]
  },
  {
   "attachments": {},
   "cell_type": "markdown",
   "metadata": {},
   "source": [
    "## Load and deploy model"
   ]
  },
  {
   "cell_type": "code",
   "execution_count": 95,
   "metadata": {},
   "outputs": [],
   "source": [
    "# load the best model\n",
    "model_path = \"../param_sweep_best_models/h2o_best_models/h2o_model_20230519_165118/GLM_1_AutoML_1_20230519_164158\""
   ]
  },
  {
   "cell_type": "code",
   "execution_count": 96,
   "metadata": {},
   "outputs": [
    {
     "name": "stdout",
     "output_type": "stream",
     "text": [
      "Model Details\n",
      "=============\n",
      "H2OGeneralizedLinearEstimator : Generalized Linear Modeling\n",
      "Model Key: GLM_1_AutoML_1_20230519_164158\n",
      "\n",
      "\n",
      "GLM Model: summary\n",
      "    family    link    regularization              lambda_search                                                                 number_of_predictors_total    number_of_active_predictors    number_of_iterations    training_frame\n",
      "--  --------  ------  --------------------------  ----------------------------------------------------------------------------  ----------------------------  -----------------------------  ----------------------  ------------------------------------------------\n",
      "    binomial  logit   Ridge ( lambda = 0.06816 )  nlambda = 30, lambda.max = 20.714, lambda.min = 0.06816, lambda.1se = 0.2428  70                            70                             38                      AutoML_1_20230519_164158_training_py_10_sid_966a\n",
      "\n",
      "ModelMetricsBinomialGLM: glm\n",
      "** Reported on train data. **\n",
      "\n",
      "MSE: 0.04038665642721206\n",
      "RMSE: 0.2009643163031986\n",
      "LogLoss: 0.17725359534335128\n",
      "AUC: 0.9969111969111969\n",
      "AUCPR: 0.9970313729824845\n",
      "Gini: 0.9938223938223938\n",
      "Null degrees of freedom: 71\n",
      "Residual degrees of freedom: 1\n",
      "Null deviance: 99.75763129838045\n",
      "Residual deviance: 25.52451772944259\n",
      "AIC: 167.52451772944258\n",
      "\n",
      "Confusion Matrix (Act/Pred) for max f1 @ threshold = 0.5802798903537251\n",
      "       0    1    Error    Rate\n",
      "-----  ---  ---  -------  ----------\n",
      "0      37   0    0        (0.0/37.0)\n",
      "1      1    34   0.0286   (1.0/35.0)\n",
      "Total  38   34   0.0139   (1.0/72.0)\n",
      "\n",
      "Maximum Metrics: Maximum metrics at their respective thresholds\n",
      "metric                       threshold    value     idx\n",
      "---------------------------  -----------  --------  -----\n",
      "max f1                       0.58028      0.985507  33\n",
      "max f2                       0.346383     0.977654  38\n",
      "max f0point5                 0.58028      0.994152  33\n",
      "max accuracy                 0.58028      0.986111  33\n",
      "max precision                0.999989     1         0\n",
      "max recall                   0.346383     1         38\n",
      "max specificity              0.999989     1         0\n",
      "max absolute_mcc             0.58028      0.972556  33\n",
      "max min_per_class_accuracy   0.58028      0.971429  33\n",
      "max mean_per_class_accuracy  0.58028      0.985714  33\n",
      "max tns                      0.999989     37        0\n",
      "max fns                      0.999989     34        0\n",
      "max fps                      0.00358424   37        71\n",
      "max tps                      0.346383     35        38\n",
      "max tnr                      0.999989     1         0\n",
      "max fnr                      0.999989     0.971429  0\n",
      "max fpr                      0.00358424   1         71\n",
      "max tpr                      0.346383     1         38\n",
      "\n",
      "Gains/Lift Table: Avg response rate: 48.61 %, avg score: 48.61 %\n",
      "group    cumulative_data_fraction    lower_threshold    lift      cumulative_lift    response_rate    score      cumulative_response_rate    cumulative_score    capture_rate    cumulative_capture_rate    gain      cumulative_gain    kolmogorov_smirnov\n",
      "-------  --------------------------  -----------------  --------  -----------------  ---------------  ---------  --------------------------  ------------------  --------------  -------------------------  --------  -----------------  --------------------\n",
      "1        0.0138889                   0.992201           2.05714   2.05714            1                0.999989   1                           0.999989            0.0285714       0.0285714                  105.714   105.714            0.0285714\n",
      "2        0.0277778                   0.987778           2.05714   2.05714            1                0.98902    1                           0.994504            0.0285714       0.0571429                  105.714   105.714            0.0571429\n",
      "3        0.0416667                   0.98508            2.05714   2.05714            1                0.986063   1                           0.991691            0.0285714       0.0857143                  105.714   105.714            0.0857143\n",
      "4        0.0416667                   0.979709           0         2.05714            0                0          1                           0.991691            0               0.0857143                  -100      105.714            0.0857143\n",
      "5        0.0555556                   0.977664           2.05714   2.05714            1                0.978499   1                           0.988393            0.0285714       0.114286                   105.714   105.714            0.114286\n",
      "6        0.111111                    0.959975           2.05714   2.05714            1                0.969209   1                           0.978801            0.114286        0.228571                   105.714   105.714            0.228571\n",
      "7        0.152778                    0.928907           2.05714   2.05714            1                0.946574   1                           0.970012            0.0857143       0.314286                   105.714   105.714            0.314286\n",
      "8        0.208333                    0.909118           2.05714   2.05714            1                0.916314   1                           0.955692            0.114286        0.428571                   105.714   105.714            0.428571\n",
      "9        0.305556                    0.819483           2.05714   2.05714            1                0.86733    1                           0.927577            0.2             0.628571                   105.714   105.714            0.628571\n",
      "10       0.402778                    0.747498           2.05714   2.05714            1                0.790439   1                           0.894475            0.2             0.828571                   105.714   105.714            0.828571\n",
      "11       0.5                         0.401111           1.46939   1.94286            0.714286         0.595781   0.944444                    0.836395            0.142857        0.971429                   46.9388   94.2857            0.917375\n",
      "12       0.597222                    0.243295           0.293878  1.67442            0.142857         0.324746   0.813953                    0.753104            0.0285714       1                          -70.6122  67.4419            0.783784\n",
      "13       0.694444                    0.169743           0         1.44               0                0.215544   0.7                         0.677845            0               1                          -100      44                 0.594595\n",
      "14       0.791667                    0.0617293          0         1.26316            0                0.104389   0.614035                    0.607421            0               1                          -100      26.3158            0.405405\n",
      "15       0.888889                    0.0221403          0         1.125              0                0.0392819  0.546875                    0.545281            0               1                          -100      12.5               0.216216\n",
      "16       1                           0.00358424         0         1                  0                0.0127621  0.486111                    0.486112            0               1                          -100      0                  0\n",
      "\n",
      "ModelMetricsBinomialGLM: glm\n",
      "** Reported on cross-validation data. **\n",
      "\n",
      "MSE: 0.14035830031068214\n",
      "RMSE: 0.3746442316527536\n",
      "LogLoss: 0.41427974095874354\n",
      "AUC: 0.8903474903474904\n",
      "AUCPR: 0.8977750675560582\n",
      "Gini: 0.7806949806949808\n",
      "Null degrees of freedom: 71\n",
      "Residual degrees of freedom: 1\n",
      "Null deviance: 103.8692300578017\n",
      "Residual deviance: 59.656282698059066\n",
      "AIC: 201.65628269805907\n",
      "\n",
      "Confusion Matrix (Act/Pred) for max f1 @ threshold = 0.4244011759815804\n",
      "       0    1    Error    Rate\n",
      "-----  ---  ---  -------  -----------\n",
      "0      26   11   0.2973   (11.0/37.0)\n",
      "1      4    31   0.1143   (4.0/35.0)\n",
      "Total  30   42   0.2083   (15.0/72.0)\n",
      "\n",
      "Maximum Metrics: Maximum metrics at their respective thresholds\n",
      "metric                       threshold    value     idx\n",
      "---------------------------  -----------  --------  -----\n",
      "max f1                       0.424401     0.805195  41\n",
      "max f2                       0.247799     0.890052  50\n",
      "max f0point5                 0.704037     0.863309  25\n",
      "max accuracy                 0.704037     0.819444  25\n",
      "max precision                0.99999      1         0\n",
      "max recall                   0.0867091    1         56\n",
      "max specificity              0.99999      1         0\n",
      "max absolute_mcc             0.704037     0.657284  25\n",
      "max min_per_class_accuracy   0.620986     0.742857  31\n",
      "max mean_per_class_accuracy  0.704037     0.81583   25\n",
      "max tns                      0.99999      37        0\n",
      "max fns                      0.99999      34        0\n",
      "max fps                      0.00372486   37        71\n",
      "max tps                      0.0867091    35        56\n",
      "max tnr                      0.99999      1         0\n",
      "max fnr                      0.99999      0.971429  0\n",
      "max fpr                      0.00372486   1         71\n",
      "max tpr                      0.0867091    1         56\n",
      "\n",
      "Gains/Lift Table: Avg response rate: 48.61 %, avg score: 49.48 %\n",
      "group    cumulative_data_fraction    lower_threshold    lift      cumulative_lift    response_rate    score      cumulative_response_rate    cumulative_score    capture_rate    cumulative_capture_rate    gain      cumulative_gain    kolmogorov_smirnov\n",
      "-------  --------------------------  -----------------  --------  -----------------  ---------------  ---------  --------------------------  ------------------  --------------  -------------------------  --------  -----------------  --------------------\n",
      "1        0.0138889                   0.98685            2.05714   2.05714            1                0.99999    1                           0.99999             0.0285714       0.0285714                  105.714   105.714            0.0285714\n",
      "2        0.0277778                   0.981127           2.05714   2.05714            1                0.981482   1                           0.990736            0.0285714       0.0571429                  105.714   105.714            0.0571429\n",
      "3        0.0416667                   0.979641           2.05714   2.05714            1                0.980636   1                           0.987369            0.0285714       0.0857143                  105.714   105.714            0.0857143\n",
      "4        0.0416667                   0.974208           0         2.05714            0                0          1                           0.987369            0               0.0857143                  -100      105.714            0.0857143\n",
      "5        0.0555556                   0.969959           2.05714   2.05714            1                0.972984   1                           0.983773            0.0285714       0.114286                   105.714   105.714            0.114286\n",
      "6        0.111111                    0.94332            2.05714   2.05714            1                0.951271   1                           0.967522            0.114286        0.228571                   105.714   105.714            0.228571\n",
      "7        0.152778                    0.8967             2.05714   2.05714            1                0.912766   1                           0.952589            0.0857143       0.314286                   105.714   105.714            0.314286\n",
      "8        0.208333                    0.863016           2.05714   2.05714            1                0.882819   1                           0.933983            0.114286        0.428571                   105.714   105.714            0.428571\n",
      "9        0.305556                    0.720209           1.46939   1.87013            0.714286         0.788393   0.909091                    0.887659            0.142857        0.571429                   46.9388   87.013             0.517375\n",
      "10       0.402778                    0.634634           1.46939   1.7734             0.714286         0.697049   0.862069                    0.84165             0.142857        0.714286                   46.9388   77.3399            0.606178\n",
      "11       0.5                         0.506818           0.293878  1.48571            0.142857         0.596081   0.722222                    0.7939              0.0285714       0.742857                   -70.6122  48.5714            0.472587\n",
      "12       0.597222                    0.413692           1.46939   1.48306            0.714286         0.444942   0.72093                     0.737093            0.142857        0.885714                   46.9388   48.3056            0.56139\n",
      "13       0.694444                    0.253555           0.587755  1.35771            0.285714         0.342502   0.66                        0.68185             0.0571429       0.942857                   -41.2245  35.7714            0.483398\n",
      "14       0.791667                    0.0802061          0.587755  1.26316            0.285714         0.149433   0.614035                    0.616466            0.0571429       1                          -41.2245  26.3158            0.405405\n",
      "15       0.888889                    0.0197607          0         1.125              0                0.0535404  0.546875                    0.554896            0               1                          -100      12.5               0.216216\n",
      "16       1                           0.00372486         0         1                  0                0.013734   0.486111                    0.494767            0               1                          -100      0                  0\n",
      "\n",
      "Cross-Validation Metrics Summary: \n",
      "                      mean         sd           cv_1_valid    cv_2_valid    cv_3_valid    cv_4_valid    cv_5_valid    cv_6_valid    cv_7_valid    cv_8_valid    cv_9_valid\n",
      "--------------------  -----------  -----------  ------------  ------------  ------------  ------------  ------------  ------------  ------------  ------------  ------------\n",
      "accuracy              0.9166667    0.088388346  0.875         0.75          1.0           0.875         0.875         1.0           1.0           0.875         1.0\n",
      "auc                   0.9111111    0.1114924    0.8333333     0.6666667     1.0           0.8666667     0.9166667     1.0           1.0           0.9166667     1.0\n",
      "err                   0.083333336  0.088388346  0.125         0.25          0.0           0.125         0.125         0.0           0.0           0.125         0.0\n",
      "err_count             0.6666667    0.70710677   1.0           2.0           0.0           1.0           1.0           0.0           0.0           1.0           0.0\n",
      "f0point5              0.9121911    0.106598206  0.96153843    0.7894737     1.0           0.86206895    0.71428573    1.0           1.0           0.88235295    1.0\n",
      "f1                    0.9331557    0.07300757   0.90909094    0.85714287    1.0           0.90909094    0.8           1.0           1.0           0.9230769     1.0\n",
      "f2                    0.95977116   0.048926357  0.86206895    0.9375        1.0           0.96153843    0.90909094    1.0           1.0           0.9677419     1.0\n",
      "lift_top_group        2.9185185    2.1893117    1.3333334     1.3333334     8.0           1.6           4.0           2.0           4.0           1.3333334     2.6666667\n",
      "logloss               0.38551396   0.13685569   0.49301234    0.5435883     0.44081414    0.43614596    0.30527267    0.09830556    0.47948787    0.38703394    0.285965\n",
      "max_per_class_error   0.24074075   0.33448875   0.16666667    1.0           0.0           0.33333334    0.16666667    0.0           0.0           0.5           0.0\n",
      "---                   ---          ---          ---           ---           ---           ---           ---           ---           ---           ---           ---\n",
      "mean_per_class_error  0.12037037   0.16724437   0.083333336   0.5           0.0           0.16666667    0.083333336   0.0           0.0           0.25          0.0\n",
      "mse                   0.13260017   0.05510837   0.17284977    0.19093217    0.1601932     0.15601805    0.09677806    0.022632966   0.18051231    0.1285853     0.08489972\n",
      "null_deviance         11.541025    0.35839978   11.913187     11.913187     11.872645     11.371992     11.348252     11.098171     11.348252     11.913187     11.090355\n",
      "pr_auc                0.9500087    0.06802692   0.9554895     0.90410596    1.0           0.918907      0.79726744    1.0           1.0           0.9743082     1.0\n",
      "precision             0.9007937    0.12904455   1.0           0.75          1.0           0.8333333     0.6666667     1.0           1.0           0.85714287    1.0\n",
      "r2                    0.2568987    0.40438458   0.078134574   -0.018304873  -0.46462354   0.334323      0.48385033    0.9094681     0.037267655   0.3142118     0.6377612\n",
      "recall                0.9814815    0.055555556  0.8333333     1.0           1.0           1.0           1.0           1.0           1.0           1.0           1.0\n",
      "residual_deviance     6.1682234    2.189691     7.8881974     8.6974125     7.053026      6.9783354     4.8843627     1.572889      7.671806      6.192543      4.57544\n",
      "rmse                  0.35381198   0.09134779   0.41575205    0.43695787    0.40024143    0.3949912     0.31109172    0.15044257    0.42486742    0.35858792    0.29137558\n",
      "specificity           0.7777778    0.34359214   1.0           0.0           1.0           0.6666667     0.8333333     1.0           1.0           0.5           1.0\n",
      "[22 rows x 12 columns]\n",
      "\n",
      "\n",
      "Scoring History: \n",
      "    timestamp            duration    iteration    lambda    predictors    deviance_train    deviance_xval    deviance_se    alpha    iterations    training_rmse       training_logloss     training_r2        training_auc        training_pr_auc     training_lift       training_classification_error\n",
      "--  -------------------  ----------  -----------  --------  ------------  ----------------  ---------------  -------------  -------  ------------  ------------------  -------------------  -----------------  ------------------  ------------------  ------------------  -------------------------------\n",
      "    2023-05-19 16:42:04  0.000 sec   2            21        71            1.31199           1.39227          0.0189179      0\n",
      "    2023-05-19 16:42:04  0.002 sec   4            15        71            1.28854           1.3758           0.020366       0\n",
      "    2023-05-19 16:42:04  0.004 sec   6            11        71            1.25922           1.35498          0.0222716      0\n",
      "    2023-05-19 16:42:04  0.005 sec   8            8         71            1.22338           1.32917          0.0246942      0\n",
      "    2023-05-19 16:42:04  0.007 sec   10           5.8       71            1.18085           1.29808          0.0276906      0\n",
      "    2023-05-19 16:42:04  0.008 sec   12           4.2       71            1.13181           1.26181          0.0312187      0\n",
      "    2023-05-19 16:42:04  0.010 sec   14           3.1       71            1.07715           1.22095          0.0352333      0\n",
      "    2023-05-19 16:42:04  0.012 sec   16           2.2       71            1.01798           1.17659          0.0395616      0\n",
      "    2023-05-19 16:42:04  0.017 sec   18           1.6       71            0.955589          1.13022          0.0440119      0\n",
      "    2023-05-19 16:42:04  0.018 sec   20           1.2       71            0.891236          1.08331          0.0483641      0\n",
      "    2023-05-19 16:42:04  0.024 sec   22           0.86      71            0.826085          1.03735          0.0523754      0\n",
      "    2023-05-19 16:42:04  0.034 sec   24           0.63      71            0.761006          0.993589         0.0558983      0\n",
      "    2023-05-19 16:42:04  0.036 sec   26           0.46      71            0.696716          0.95309          0.0588382      0\n",
      "    2023-05-19 16:42:04  0.037 sec   28           0.33      71            0.633831          0.916806         0.0611469      0\n",
      "    2023-05-19 16:42:04  0.040 sec   30           0.24      71            0.572849          0.885681         0.0628588      0\n",
      "    2023-05-19 16:42:04  0.042 sec   32           0.18      71            0.514237          0.860566         0.0640938      0\n",
      "    2023-05-19 16:42:04  0.044 sec   34           0.13      71            0.458174          0.84235          0.0650957      0\n",
      "    2023-05-19 16:42:04  0.050 sec   36           0.094     71            0.404887          0.831579         0.0662227      0\n",
      "    2023-05-19 16:42:04  0.051 sec   38           0.068     71            0.354507          0.828559         0.067936       0\n",
      "    2023-05-19 16:42:04  0.052 sec   39           0.05      71            0.309326          0.833199         0.0706778      0        39            0.2009643163031986  0.17725359534335128  0.838328627862033  0.9969111969111969  0.9970313729824845  2.0571428571428574  0.013888888888888888\n",
      "\n",
      "Variable Importances: \n",
      "variable    relative_importance    scaled_importance     percentage\n",
      "----------  ---------------------  --------------------  ----------------------\n",
      "15351       0.5991492867469788     1.0                   0.05597487797956847\n",
      "9720        0.4468533396720886     0.7458130211557694    0.04174679285476751\n",
      "9689        0.41056913137435913    0.6852534759800905    0.03835697970306071\n",
      "6424        0.33892539143562317    0.565677701588839     0.03166374032219801\n",
      "11105       0.33479833602905273    0.5587895094506528    0.03127817460776321\n",
      "18925       0.32031673192977905    0.534619232660539     0.029925246313704197\n",
      "15786       0.30267879366874695    0.5051809296346012    0.028277440893901763\n",
      "18018       0.30143460631370544    0.5031043397386227    0.02816120402786076\n",
      "14615       0.2888898551464081     0.482166734629539     0.026989224136695415\n",
      "13336       0.26654043793678284    0.4448648172209927    0.024901253861348095\n",
      "---         ---                    ---                   ---\n",
      "19104       0.031101981177926064   0.05191023650681646   0.002905669154359592\n",
      "16933       0.030996069312095642   0.05173346609554642   0.0028957744521583527\n",
      "22357       0.023555152118206024   0.039314328898055396  0.0022006147629172732\n",
      "18852       0.017445707693696022   0.029117463843470047  0.0016298464857127325\n",
      "13468       0.014295072294771671   0.02385894903152658   0.0013355017607604436\n",
      "17738       0.00813213735818863    0.01357280654098957   0.0007597361899721799\n",
      "16560       0.005093338433653116   0.008500950508189518  0.0004758396674062588\n",
      "18756       0.004965714644640684   0.008287942178153188  0.0004639165521238436\n",
      "17987       0.004815557040274143   0.00803732416409895   0.00044988823936767587\n",
      "16748       0.0013382771285250783  0.002233628843641157  0.00012502710197445839\n",
      "[70 rows x 4 columns]\n",
      "\n",
      "glm prediction progress: |███████████████████████████████████████████████████████| (done) 100%\n"
     ]
    }
   ],
   "source": [
    "# Load the saved model\n",
    "loaded_model = h2o.load_model(model_path)\n",
    "print(loaded_model)\n",
    "\n",
    "# Perform prediction on the same training data\n",
    "predictions = loaded_model.predict(x_test_h2o)\n",
    "\n",
    "# Convert the predictions to a pandas dataframe\n",
    "predictions_df = predictions.as_data_frame()"
   ]
  },
  {
   "cell_type": "code",
   "execution_count": 97,
   "metadata": {},
   "outputs": [
    {
     "data": {
      "text/plain": [
       "array([1, 0, 0, 0, 0, 1, 1, 1, 1, 0, 0, 1, 1, 1, 0, 1, 1, 0])"
      ]
     },
     "execution_count": 97,
     "metadata": {},
     "output_type": "execute_result"
    }
   ],
   "source": [
    "np.array(predictions_df.loc[:, \"predict\"])"
   ]
  },
  {
   "cell_type": "code",
   "execution_count": 98,
   "metadata": {},
   "outputs": [
    {
     "data": {
      "text/plain": [
       "array([1, 0, 0, 0, 0, 1, 0, 1, 1, 0, 0, 1, 1, 1, 0, 1, 1, 0])"
      ]
     },
     "execution_count": 98,
     "metadata": {},
     "output_type": "execute_result"
    }
   ],
   "source": [
    "np.array(y_test)"
   ]
  },
  {
   "cell_type": "code",
   "execution_count": 99,
   "metadata": {},
   "outputs": [
    {
     "name": "stdout",
     "output_type": "stream",
     "text": [
      "glm prediction progress: |███████████████████████████████████████████████████████| (done) 100%\n"
     ]
    }
   ],
   "source": [
    "# cv-accuracy and cv-standard deviation from best model\n",
    "cv_metrics = loaded_model.cross_validation_metrics_summary().as_data_frame()\n",
    "cv_mean_accuracy = cv_metrics.loc[cv_metrics[\"\"]==\"accuracy\", \"mean\"].values[0]\n",
    "cv_std = cv_metrics.loc[cv_metrics[\"\"]==\"accuracy\", \"sd\"].values[0]\n",
    "\n",
    "### calculate test metrics\n",
    "test_pred = loaded_model.predict(x_test_h2o).as_data_frame().loc[:,\"predict\"]\n",
    "test_accuracy = accuracy_score(y_test, test_pred)\n",
    "test_f1_score = f1_score(y_test, test_pred, average=\"weighted\")\n",
    "test_precision_score = precision_score(y_test, test_pred, average=\"weighted\")\n"
   ]
  },
  {
   "cell_type": "code",
   "execution_count": 100,
   "metadata": {},
   "outputs": [
    {
     "name": "stdout",
     "output_type": "stream",
     "text": [
      "cv_mean_accuracy: 0.9166667\n",
      "cv_std: 0.088388346\n",
      "test_accuracy: 0.9444444444444444\n",
      "test_f1_score: 0.9442724458204333\n",
      "test_precision_score: 0.9500000000000001\n"
     ]
    }
   ],
   "source": [
    "# print all the results\n",
    "print(f\"cv_mean_accuracy: {cv_mean_accuracy}\")\n",
    "print(f\"cv_std: {cv_std}\")\n",
    "print(f\"test_accuracy: {test_accuracy}\")\n",
    "print(f\"test_f1_score: {test_f1_score}\")\n",
    "print(f\"test_precision_score: {test_precision_score}\")"
   ]
  },
  {
   "attachments": {},
   "cell_type": "markdown",
   "metadata": {},
   "source": [
    "## get feature importance"
   ]
  },
  {
   "cell_type": "code",
   "execution_count": 101,
   "metadata": {},
   "outputs": [
    {
     "data": {
      "text/html": [
       "<div>\n",
       "<style scoped>\n",
       "    .dataframe tbody tr th:only-of-type {\n",
       "        vertical-align: middle;\n",
       "    }\n",
       "\n",
       "    .dataframe tbody tr th {\n",
       "        vertical-align: top;\n",
       "    }\n",
       "\n",
       "    .dataframe thead th {\n",
       "        text-align: right;\n",
       "    }\n",
       "</style>\n",
       "<table border=\"1\" class=\"dataframe\">\n",
       "  <thead>\n",
       "    <tr style=\"text-align: right;\">\n",
       "      <th></th>\n",
       "      <th>Relative_Importance</th>\n",
       "      <th>Scaled_Importance</th>\n",
       "      <th>Percentage</th>\n",
       "    </tr>\n",
       "    <tr>\n",
       "      <th>Feature</th>\n",
       "      <th></th>\n",
       "      <th></th>\n",
       "      <th></th>\n",
       "    </tr>\n",
       "  </thead>\n",
       "  <tbody>\n",
       "    <tr>\n",
       "      <th>16748</th>\n",
       "      <td>0.001338</td>\n",
       "      <td>0.002234</td>\n",
       "      <td>0.000125</td>\n",
       "    </tr>\n",
       "    <tr>\n",
       "      <th>17987</th>\n",
       "      <td>0.004816</td>\n",
       "      <td>0.008037</td>\n",
       "      <td>0.000450</td>\n",
       "    </tr>\n",
       "    <tr>\n",
       "      <th>18756</th>\n",
       "      <td>0.004966</td>\n",
       "      <td>0.008288</td>\n",
       "      <td>0.000464</td>\n",
       "    </tr>\n",
       "    <tr>\n",
       "      <th>16560</th>\n",
       "      <td>0.005093</td>\n",
       "      <td>0.008501</td>\n",
       "      <td>0.000476</td>\n",
       "    </tr>\n",
       "    <tr>\n",
       "      <th>17738</th>\n",
       "      <td>0.008132</td>\n",
       "      <td>0.013573</td>\n",
       "      <td>0.000760</td>\n",
       "    </tr>\n",
       "    <tr>\n",
       "      <th>...</th>\n",
       "      <td>...</td>\n",
       "      <td>...</td>\n",
       "      <td>...</td>\n",
       "    </tr>\n",
       "    <tr>\n",
       "      <th>11105</th>\n",
       "      <td>0.334798</td>\n",
       "      <td>0.558790</td>\n",
       "      <td>0.031278</td>\n",
       "    </tr>\n",
       "    <tr>\n",
       "      <th>6424</th>\n",
       "      <td>0.338925</td>\n",
       "      <td>0.565678</td>\n",
       "      <td>0.031664</td>\n",
       "    </tr>\n",
       "    <tr>\n",
       "      <th>9689</th>\n",
       "      <td>0.410569</td>\n",
       "      <td>0.685253</td>\n",
       "      <td>0.038357</td>\n",
       "    </tr>\n",
       "    <tr>\n",
       "      <th>9720</th>\n",
       "      <td>0.446853</td>\n",
       "      <td>0.745813</td>\n",
       "      <td>0.041747</td>\n",
       "    </tr>\n",
       "    <tr>\n",
       "      <th>15351</th>\n",
       "      <td>0.599149</td>\n",
       "      <td>1.000000</td>\n",
       "      <td>0.055975</td>\n",
       "    </tr>\n",
       "  </tbody>\n",
       "</table>\n",
       "<p>70 rows × 3 columns</p>\n",
       "</div>"
      ],
      "text/plain": [
       "         Relative_Importance  Scaled_Importance  Percentage\n",
       "Feature                                                    \n",
       "16748               0.001338           0.002234    0.000125\n",
       "17987               0.004816           0.008037    0.000450\n",
       "18756               0.004966           0.008288    0.000464\n",
       "16560               0.005093           0.008501    0.000476\n",
       "17738               0.008132           0.013573    0.000760\n",
       "...                      ...                ...         ...\n",
       "11105               0.334798           0.558790    0.031278\n",
       "6424                0.338925           0.565678    0.031664\n",
       "9689                0.410569           0.685253    0.038357\n",
       "9720                0.446853           0.745813    0.041747\n",
       "15351               0.599149           1.000000    0.055975\n",
       "\n",
       "[70 rows x 3 columns]"
      ]
     },
     "execution_count": 101,
     "metadata": {},
     "output_type": "execute_result"
    }
   ],
   "source": [
    "# Get the variable importance\n",
    "feature_importance = loaded_model.varimp()\n",
    "# If you want to convert the feature importance to a pandas dataframe for better readability:\n",
    "feature_importance_df = pd.DataFrame(feature_importance, \n",
    "                                     columns=['Feature', 'Relative_Importance', 'Scaled_Importance', 'Percentage'])\n",
    "\n",
    "feature_importance_df = (feature_importance_df.sort_values(by=['Scaled_Importance'], ascending=True)\n",
    "                        .set_index('Feature'))\n",
    "\n",
    "feature_importance_df"
   ]
  },
  {
   "cell_type": "code",
   "execution_count": 102,
   "metadata": {},
   "outputs": [
    {
     "data": {
      "image/png": "[encoded data removed]",
      "text/plain": [
       "<Figure size 1000x1500 with 1 Axes>"
      ]
     },
     "metadata": {},
     "output_type": "display_data"
    }
   ],
   "source": [
    "feature_importance_df.plot(kind='barh', figsize=(10, 15))\n",
    "plt.show()"
   ]
  },
  {
   "cell_type": "code",
   "execution_count": 103,
   "metadata": {},
   "outputs": [],
   "source": [
    "# export to a csv file\n",
    "feature_importance_df.to_csv(\"feature_importance_h2o.csv\")"
   ]
  },
  {
   "cell_type": "code",
   "execution_count": 104,
   "metadata": {},
   "outputs": [],
   "source": [
    "# stop h2o server\n",
    "# h2o.shutdown(prompt=False)"
   ]
  }
 ],
 "metadata": {
  "kernelspec": {
   "display_name": "env_h2o",
   "language": "python",
   "name": "python3"
  },
  "language_info": {
   "codemirror_mode": {
    "name": "ipython",
    "version": 3
   },
   "file_extension": ".py",
   "mimetype": "text/x-python",
   "name": "python",
   "nbconvert_exporter": "python",
   "pygments_lexer": "ipython3",
   "version": "3.10.9"
  },
  "orig_nbformat": 4,
  "vscode": {
   "interpreter": {
    "hash": "568949f3300de056dad872d23e0d42a26a39e1939f2d1c0c069655a6a4cea437"
   }
  }
 },
 "nbformat": 4,
 "nbformat_minor": 2
}
