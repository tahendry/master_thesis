{
 "cells": [
  {
   "cell_type": "code",
   "execution_count": 115,
   "metadata": {},
   "outputs": [
    {
     "data": {
      "text/plain": [
       "'\\nread in the MVPA data\\nbring it into the right shape to feed it into the CNN\\n\\nfirst do it with one MVPA component\\nthen do it with all MVPA components by concatenating them into a dense layer\\n\\n\\n'"
      ]
     },
     "execution_count": 115,
     "metadata": {},
     "output_type": "execute_result"
    }
   ],
   "source": [
    "\"\"\"\n",
    "read in the MVPA data\n",
    "bring it into the right shape to feed it into the CNN\n",
    "\n",
    "first do it with one MVPA component\n",
    "then do it with all MVPA components by concatenating them into a dense layer\n",
    "\n",
    "\n",
    "\"\"\""
   ]
  },
  {
   "cell_type": "code",
   "execution_count": 139,
   "metadata": {},
   "outputs": [],
   "source": [
    "import nibabel as nib\n",
    "import nilearn as nil\n",
    "import scipy.ndimage as ndi\n",
    "import matplotlib.pyplot as plt\n",
    "import os\n",
    "import pandas as pd\n",
    "import numpy as np\n",
    "\n",
    "from sklearn.model_selection import train_test_split, cross_val_score\n",
    "import tensorflow as tf\n",
    "from tensorflow import keras\n",
    "from tensorflow.keras import layers, regularizers"
   ]
  },
  {
   "cell_type": "code",
   "execution_count": 134,
   "metadata": {},
   "outputs": [
    {
     "data": {
      "text/html": [
       "<div>\n",
       "<style scoped>\n",
       "    .dataframe tbody tr th:only-of-type {\n",
       "        vertical-align: middle;\n",
       "    }\n",
       "\n",
       "    .dataframe tbody tr th {\n",
       "        vertical-align: top;\n",
       "    }\n",
       "\n",
       "    .dataframe thead th {\n",
       "        text-align: right;\n",
       "    }\n",
       "</style>\n",
       "<table border=\"1\" class=\"dataframe\">\n",
       "  <thead>\n",
       "    <tr style=\"text-align: right;\">\n",
       "      <th></th>\n",
       "      <th>Conn_SubjNr</th>\n",
       "      <th>VPNr</th>\n",
       "      <th>Cond</th>\n",
       "    </tr>\n",
       "  </thead>\n",
       "  <tbody>\n",
       "    <tr>\n",
       "      <th>63</th>\n",
       "      <td>64</td>\n",
       "      <td>80</td>\n",
       "      <td>0</td>\n",
       "    </tr>\n",
       "    <tr>\n",
       "      <th>64</th>\n",
       "      <td>65</td>\n",
       "      <td>83</td>\n",
       "      <td>0</td>\n",
       "    </tr>\n",
       "    <tr>\n",
       "      <th>65</th>\n",
       "      <td>66</td>\n",
       "      <td>86</td>\n",
       "      <td>1</td>\n",
       "    </tr>\n",
       "    <tr>\n",
       "      <th>66</th>\n",
       "      <td>67</td>\n",
       "      <td>87</td>\n",
       "      <td>1</td>\n",
       "    </tr>\n",
       "    <tr>\n",
       "      <th>67</th>\n",
       "      <td>68</td>\n",
       "      <td>88</td>\n",
       "      <td>0</td>\n",
       "    </tr>\n",
       "  </tbody>\n",
       "</table>\n",
       "</div>"
      ],
      "text/plain": [
       "    Conn_SubjNr  VPNr  Cond\n",
       "63           64    80     0\n",
       "64           65    83     0\n",
       "65           66    86     1\n",
       "66           67    87     1\n",
       "67           68    88     0"
      ]
     },
     "execution_count": 134,
     "metadata": {},
     "output_type": "execute_result"
    }
   ],
   "source": [
    "# read in the excel-file with the labels\n",
    "label_path = \"X:/MasterThesis_Reto\"\n",
    "label_file = \"Conn_IDs_Matching.xlsx\"\n",
    "# read excel with only the first three columns\n",
    "label_df = (pd.read_excel(os.path.join(label_path, label_file),\n",
    "                            usecols=[0, 1, 2])\n",
    "            .replace({\"Cond\": {1: 0}})\n",
    "            .replace({\"Cond\": {2: 1}})\n",
    "            )\n",
    "\n",
    "label_df[-5:]"
   ]
  },
  {
   "cell_type": "code",
   "execution_count": 117,
   "metadata": {},
   "outputs": [
    {
     "name": "stdout",
     "output_type": "stream",
     "text": [
      "['BETA_Subject001_Condition002_Measure002_Component001.nii', 'BETA_Subject002_Condition002_Measure002_Component001.nii', 'BETA_Subject003_Condition002_Measure002_Component001.nii', 'BETA_Subject004_Condition002_Measure002_Component001.nii', 'BETA_Subject005_Condition002_Measure002_Component001.nii']\n"
     ]
    }
   ],
   "source": [
    "# read MVPA data\n",
    "file_path = \"X:/MasterThesis_Reto/Denoised_Data_6mm\"\n",
    "path_content = os.listdir(os.path.join(file_path, \"MVPA_data\"))\n",
    "\n",
    "# make two lists with pre (Condition002) and post (Condition003) data of first component\n",
    "comp1_pre = sorted([x for x in path_content \n",
    "                    if \"Component001\" in x \n",
    "                    and \"Condition002\" in x])\n",
    "comp1_post = sorted([x for x in path_content \n",
    "                    if \"Component001\" in x \n",
    "                    and \"Condition003\" in x])\n",
    "\n",
    "print(comp1_pre[:5])"
   ]
  },
  {
   "cell_type": "code",
   "execution_count": 118,
   "metadata": {},
   "outputs": [
    {
     "name": "stdout",
     "output_type": "stream",
     "text": [
      "(91, 109, 91)\n",
      "<class 'numpy.ndarray'>\n"
     ]
    }
   ],
   "source": [
    "# create a dataset with the difference of pre and post data\n",
    "comp1_diff = []\n",
    "for pre, post in zip(comp1_pre, comp1_post):\n",
    "    pre_vol = nib.load(os.path.join(file_path, \"MVPA_data\", pre))\n",
    "    post_vol = nib.load(os.path.join(file_path, \"MVPA_data\", post))\n",
    "    pre_vol_data = pre_vol.get_fdata()\n",
    "    post_vol_data = post_vol.get_fdata()\n",
    "    diff_vol_data = post_vol_data - pre_vol_data\n",
    "    comp1_diff.append(diff_vol_data)\n",
    "\n",
    "# check the shape of the data\n",
    "print(comp1_diff[0].shape)\n",
    "\n",
    "# check the type of the data\n",
    "print(type(comp1_diff[0]))\n",
    "\n",
    "# takes about 3-4 mins to run on Dell"
   ]
  },
  {
   "cell_type": "code",
   "execution_count": 175,
   "metadata": {},
   "outputs": [
    {
     "name": "stdout",
     "output_type": "stream",
     "text": [
      "shape of one list element before stacking: comp1_diff[0].shape=(91, 109, 91)\n",
      "inpt_comp1_diff.shape=(68, 91, 109, 91, 1)\n",
      "inpt_comp1_diff.mean()=1.2019033790773762e-16\n",
      "inpt_comp1_diff.std()=0.9999999999999889\n"
     ]
    }
   ],
   "source": [
    "# stack the data to later use it as input for the CNN\n",
    "# note: the first dimension is the number of samples\n",
    "print(f\"shape of one list element before stacking: {comp1_diff[0].shape=}\")\n",
    "inpt_comp1_diff = np.stack(comp1_diff, axis=0)\n",
    "\n",
    "# expand the dimensions to fit the input shape of the CNN\n",
    "# note: the last dimension is the number of channels\n",
    "inpt_comp1_diff = np.expand_dims(inpt_comp1_diff, axis=-1)\n",
    "\n",
    "# normalize the input data (zero mean, unit variance)\n",
    "# note: a CNN works best with normalized data\n",
    "inpt_comp1_diff = (inpt_comp1_diff - inpt_comp1_diff.mean()) / inpt_comp1_diff.std()\n",
    "\n",
    "print(f\"{inpt_comp1_diff.shape=}\",\n",
    "      f\"{inpt_comp1_diff.mean()=}\",\n",
    "      f\"{inpt_comp1_diff.std()=}\", sep=\"\\n\")"
   ]
  },
  {
   "cell_type": "code",
   "execution_count": 153,
   "metadata": {},
   "outputs": [],
   "source": [
    "# split the data into training and test data\n",
    "# use 80% of the data for training and 20% for testing\n",
    "x_train, x_test, y_train, y_test = train_test_split(inpt_comp1_diff, \n",
    "                                                    label_df[\"Cond\"], \n",
    "                                                    test_size=0.2, \n",
    "                                                    random_state=42)\n",
    "\n",
    "# TODO: use cross-validation to get a better estimate of the model performance\n",
    "\n",
    "# TODO: eventually add more regularization to the model (batch normalization)\n",
    "\n",
    "# TODO: save the best model and load it again to make predictions on the test data\n",
    "\n",
    "# TODO: do I only need to normalize the test data? \n",
    "#       Or only take the mean and std of the training data and apply it to all data?"
   ]
  },
  {
   "cell_type": "code",
   "execution_count": 169,
   "metadata": {},
   "outputs": [
    {
     "name": "stdout",
     "output_type": "stream",
     "text": [
      "Model: \"model_28\"\n",
      "_________________________________________________________________\n",
      " Layer (type)                Output Shape              Param #   \n",
      "=================================================================\n",
      " input_34 (InputLayer)       [(None, 91, 109, 91, 1)]  0         \n",
      "                                                                 \n",
      " conv3d_88 (Conv3D)          (None, 89, 107, 89, 8)    224       \n",
      "                                                                 \n",
      " max_pooling3d_56 (MaxPoolin  (None, 29, 35, 29, 8)    0         \n",
      " g3D)                                                            \n",
      "                                                                 \n",
      " conv3d_89 (Conv3D)          (None, 27, 33, 27, 16)    3472      \n",
      "                                                                 \n",
      " max_pooling3d_57 (MaxPoolin  (None, 9, 11, 9, 16)     0         \n",
      " g3D)                                                            \n",
      "                                                                 \n",
      " conv3d_90 (Conv3D)          (None, 7, 9, 7, 32)       13856     \n",
      "                                                                 \n",
      " flatten_28 (Flatten)        (None, 14112)             0         \n",
      "                                                                 \n",
      " dense_56 (Dense)            (None, 64)                903232    \n",
      "                                                                 \n",
      " dense_57 (Dense)            (None, 1)                 65        \n",
      "                                                                 \n",
      "=================================================================\n",
      "Total params: 920,849\n",
      "Trainable params: 920,849\n",
      "Non-trainable params: 0\n",
      "_________________________________________________________________\n"
     ]
    }
   ],
   "source": [
    "# built a keras CNN model with functional API\n",
    "inputs = keras.Input(shape=(inpt_comp1_diff.shape[1:]))\n",
    "x = layers.Conv3D(8, 3, activation=\"relu\")(inputs)\n",
    "x = layers.MaxPooling3D(3)(x)\n",
    "x = layers.Conv3D(16, 3, activation=\"relu\")(x)\n",
    "x = layers.MaxPooling3D(3)(x)\n",
    "x = layers.Conv3D(32, 3, activation=\"relu\")(x)\n",
    "x = layers.Flatten()(x)\n",
    "x = layers.Dense(64, activation=\"relu\")(x)\n",
    "outputs = layers.Dense(1, activation=\"sigmoid\")(x)\n",
    "\n",
    "# define the model\n",
    "model = keras.Model(inputs=inputs, outputs=outputs)\n",
    "model.summary()"
   ]
  },
  {
   "cell_type": "code",
   "execution_count": 167,
   "metadata": {},
   "outputs": [
    {
     "name": "stdout",
     "output_type": "stream",
     "text": [
      "Model: \"model_27\"\n",
      "_________________________________________________________________\n",
      " Layer (type)                Output Shape              Param #   \n",
      "=================================================================\n",
      " input_33 (InputLayer)       [(None, 91, 109, 91, 1)]  0         \n",
      "                                                                 \n",
      " conv3d_85 (Conv3D)          (None, 89, 107, 89, 8)    224       \n",
      "                                                                 \n",
      " max_pooling3d_54 (MaxPoolin  (None, 29, 35, 29, 8)    0         \n",
      " g3D)                                                            \n",
      "                                                                 \n",
      " conv3d_86 (Conv3D)          (None, 27, 33, 27, 16)    3472      \n",
      "                                                                 \n",
      " max_pooling3d_55 (MaxPoolin  (None, 9, 11, 9, 16)     0         \n",
      " g3D)                                                            \n",
      "                                                                 \n",
      " conv3d_87 (Conv3D)          (None, 7, 9, 7, 32)       13856     \n",
      "                                                                 \n",
      " flatten_27 (Flatten)        (None, 14112)             0         \n",
      "                                                                 \n",
      " dense_54 (Dense)            (None, 64)                903232    \n",
      "                                                                 \n",
      " dense_55 (Dense)            (None, 1)                 65        \n",
      "                                                                 \n",
      "=================================================================\n",
      "Total params: 920,849\n",
      "Trainable params: 920,849\n",
      "Non-trainable params: 0\n",
      "_________________________________________________________________\n"
     ]
    }
   ],
   "source": [
    "# built a keras CNN model with functional API\n",
    "inputs = keras.Input(shape=(inpt_comp1_diff.shape[1:]))\n",
    "x = layers.Conv3D(filters=8, kernel_size=3, \n",
    "                    # kernel_regularizer=regularizers.l2(0.002),\n",
    "                    activation=\"relu\")(inputs)\n",
    "x = layers.MaxPooling3D(pool_size=3, \n",
    "                        strides=3, \n",
    "                        padding='valid')(x)\n",
    "x = layers.Conv3D(filters=16, kernel_size=3, \n",
    "                    # kernel_regularizer=regularizers.l2(0.002), \n",
    "                    activation=\"relu\")(x)\n",
    "x = layers.MaxPooling3D(pool_size=3, \n",
    "                        strides=3, \n",
    "                        padding='valid')(x)\n",
    "x = layers.Conv3D(filters=32, kernel_size=3, \n",
    "                    # kernel_regularizer=regularizers.l2(0.002), \n",
    "                    activation=\"relu\")(x)\n",
    "x = layers.Flatten()(x)\n",
    "x = layers.Dense(64, activation=\"relu\")(x)\n",
    "outputs = layers.Dense(1, activation=\"sigmoid\")(x)\n",
    "\n",
    "# define the model\n",
    "model = keras.Model(inputs=inputs, outputs=outputs)\n",
    "model.summary()"
   ]
  },
  {
   "cell_type": "code",
   "execution_count": 170,
   "metadata": {},
   "outputs": [
    {
     "name": "stdout",
     "output_type": "stream",
     "text": [
      "Epoch 1/15\n",
      "14/14 [==============================] - 4s 197ms/step - loss: 7.9412 - Accuracy: 0.4444\n",
      "Epoch 2/15\n",
      "14/14 [==============================] - 3s 215ms/step - loss: 0.7263 - Accuracy: 0.6111\n",
      "Epoch 3/15\n",
      "14/14 [==============================] - 3s 183ms/step - loss: 0.5885 - Accuracy: 0.6481\n",
      "Epoch 4/15\n",
      "14/14 [==============================] - 3s 191ms/step - loss: 0.7335 - Accuracy: 0.7037\n",
      "Epoch 5/15\n",
      "14/14 [==============================] - 3s 227ms/step - loss: 0.6274 - Accuracy: 0.7222\n",
      "Epoch 6/15\n",
      "14/14 [==============================] - 3s 189ms/step - loss: 0.7205 - Accuracy: 0.7778\n",
      "Epoch 7/15\n",
      "14/14 [==============================] - 3s 203ms/step - loss: 0.4537 - Accuracy: 0.7963\n",
      "Epoch 8/15\n",
      "14/14 [==============================] - 3s 208ms/step - loss: 0.3594 - Accuracy: 0.8333\n",
      "Epoch 9/15\n",
      "14/14 [==============================] - 3s 182ms/step - loss: 0.2063 - Accuracy: 0.9074\n",
      "Epoch 10/15\n",
      "14/14 [==============================] - 2s 166ms/step - loss: 0.0824 - Accuracy: 0.9815\n",
      "Epoch 11/15\n",
      "14/14 [==============================] - 2s 164ms/step - loss: 0.0782 - Accuracy: 0.9630\n",
      "Epoch 12/15\n",
      "14/14 [==============================] - 3s 214ms/step - loss: 0.0075 - Accuracy: 1.0000\n",
      "Epoch 13/15\n",
      "14/14 [==============================] - 3s 200ms/step - loss: 0.0012 - Accuracy: 1.0000\n",
      "Epoch 14/15\n",
      "14/14 [==============================] - 3s 251ms/step - loss: 2.0833e-04 - Accuracy: 1.0000\n",
      "Epoch 15/15\n",
      "14/14 [==============================] - 3s 205ms/step - loss: 1.0305e-04 - Accuracy: 1.0000\n",
      "1/1 [==============================] - 1s 603ms/step - loss: 1.6708 - Accuracy: 0.5000\n"
     ]
    },
    {
     "data": {
      "text/plain": [
       "[1.670767068862915, 0.5]"
      ]
     },
     "execution_count": 170,
     "metadata": {},
     "output_type": "execute_result"
    }
   ],
   "source": [
    "# compile the model\n",
    "model.compile(optimizer=\"RMSprop\",\n",
    "                loss='binary_crossentropy',\n",
    "                metrics=[\"Accuracy\"])\n",
    "\n",
    "# fit the model with the training data\n",
    "history = model.fit(x_train, y_train, \n",
    "                    epochs=15, \n",
    "                    batch_size=4)\n",
    "\n",
    "# evaluate the model on the test data\n",
    "model.evaluate(x_test, y_test)\n",
    "\n",
    "# save the model\n",
    "# model.save(\"X:/MasterThesis_Reto/3d_cnn_model\")"
   ]
  },
  {
   "cell_type": "code",
   "execution_count": null,
   "metadata": {},
   "outputs": [
    {
     "data": {
      "image/png": "[encoded data removed]",
      "text/plain": [
       "<Figure size 800x400 with 1 Axes>"
      ]
     },
     "metadata": {},
     "output_type": "display_data"
    }
   ],
   "source": [
    "# plot the training history\n",
    "fig = plt.figure(figsize=(8, 4))\n",
    "plt.plot(history.history[\"loss\"])\n",
    "plt.plot(history.history[\"Accuracy\"])\n",
    "plt.title(\"model loss\")\n",
    "plt.ylabel(\"loss\")\n",
    "plt.xlabel(\"epoch\")\n",
    "plt.legend([\"loss\", \"accuracy\"], loc=\"upper left\")\n",
    "plt.grid()\n",
    "plt.show()"
   ]
  },
  {
   "cell_type": "code",
   "execution_count": null,
   "metadata": {},
   "outputs": [],
   "source": []
  },
  {
   "cell_type": "code",
   "execution_count": null,
   "metadata": {},
   "outputs": [],
   "source": []
  }
 ],
 "metadata": {
  "kernelspec": {
   "display_name": "Python 3",
   "language": "python",
   "name": "python3"
  },
  "language_info": {
   "codemirror_mode": {
    "name": "ipython",
    "version": 3
   },
   "file_extension": ".py",
   "mimetype": "text/x-python",
   "name": "python",
   "nbconvert_exporter": "python",
   "pygments_lexer": "ipython3",
   "version": "3.10.9"
  },
  "orig_nbformat": 4,
  "vscode": {
   "interpreter": {
    "hash": "8f72b2fa5b50ad36e6632c3a3ae4b3f06025b80904279eb9f7dff26a57796efb"
   }
  }
 },
 "nbformat": 4,
 "nbformat_minor": 2
}
