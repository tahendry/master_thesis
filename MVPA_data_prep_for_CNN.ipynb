{
 "cells": [
  {
   "cell_type": "code",
   "execution_count": 3,
   "metadata": {},
   "outputs": [],
   "source": [
    "# NOTE: bath normalization and residual connection are especially important for deep networks\n",
    "\n",
    "# TODO: do I only need to normalize the test data? \n",
    "#       Or only take the mean and std of the training data and apply it to all data?\n",
    "\n",
    "# TODO: maybe data augmentation helps to improve the model performance\n",
    "\n",
    "# TODO: one hot encode the labels, convert input data into a tensor"
   ]
  },
  {
   "attachments": {},
   "cell_type": "markdown",
   "metadata": {},
   "source": [
    "### Import libraries and load data"
   ]
  },
  {
   "cell_type": "code",
   "execution_count": 4,
   "metadata": {},
   "outputs": [],
   "source": [
    "import nibabel as nib\n",
    "import nilearn as nil\n",
    "import scipy.ndimage as ndi\n",
    "import matplotlib.pyplot as plt\n",
    "import os\n",
    "import pandas as pd\n",
    "import numpy as np\n",
    "\n",
    "from sklearn.model_selection import train_test_split, KFold, StratifiedKFold\n",
    "import tensorflow as tf\n",
    "from tensorflow import keras\n",
    "from tensorflow.keras import layers, regularizers, callbacks, initializers\n",
    "import keras_tuner as kt"
   ]
  },
  {
   "cell_type": "code",
   "execution_count": 5,
   "metadata": {},
   "outputs": [
    {
     "name": "stdout",
     "output_type": "stream",
     "text": [
      "posix.uname_result(sysname='Linux', nodename='dalcowks', release='5.13.0-40-generic', version='#45~20.04.1-Ubuntu SMP Mon Apr 4 09:38:31 UTC 2022', machine='x86_64')\n"
     ]
    }
   ],
   "source": [
    "# path to data\n",
    "#  - on Windows: C:/Users/tahendry/Desktop/Masterthesis_Reto/\n",
    "#  - on Linux:   ../data/\n",
    "\n",
    "try:\n",
    "    print(os.uname())\n",
    "    data_path = \"../data/\"\n",
    "except:\n",
    "    print(\"Windows\")\n",
    "    data_path = \"C:/Users/tahendry/Desktop/Masterthesis_Reto/\""
   ]
  },
  {
   "cell_type": "code",
   "execution_count": 6,
   "metadata": {},
   "outputs": [
    {
     "data": {
      "text/html": [
       "<div>\n",
       "<style scoped>\n",
       "    .dataframe tbody tr th:only-of-type {\n",
       "        vertical-align: middle;\n",
       "    }\n",
       "\n",
       "    .dataframe tbody tr th {\n",
       "        vertical-align: top;\n",
       "    }\n",
       "\n",
       "    .dataframe thead th {\n",
       "        text-align: right;\n",
       "    }\n",
       "</style>\n",
       "<table border=\"1\" class=\"dataframe\">\n",
       "  <thead>\n",
       "    <tr style=\"text-align: right;\">\n",
       "      <th></th>\n",
       "      <th>Conn_SubjNr</th>\n",
       "      <th>VPNr</th>\n",
       "      <th>Cond</th>\n",
       "    </tr>\n",
       "  </thead>\n",
       "  <tbody>\n",
       "    <tr>\n",
       "      <th>0</th>\n",
       "      <td>1</td>\n",
       "      <td>1</td>\n",
       "      <td>0</td>\n",
       "    </tr>\n",
       "    <tr>\n",
       "      <th>1</th>\n",
       "      <td>2</td>\n",
       "      <td>2</td>\n",
       "      <td>0</td>\n",
       "    </tr>\n",
       "    <tr>\n",
       "      <th>2</th>\n",
       "      <td>3</td>\n",
       "      <td>4</td>\n",
       "      <td>0</td>\n",
       "    </tr>\n",
       "    <tr>\n",
       "      <th>3</th>\n",
       "      <td>4</td>\n",
       "      <td>6</td>\n",
       "      <td>1</td>\n",
       "    </tr>\n",
       "    <tr>\n",
       "      <th>4</th>\n",
       "      <td>5</td>\n",
       "      <td>7</td>\n",
       "      <td>0</td>\n",
       "    </tr>\n",
       "  </tbody>\n",
       "</table>\n",
       "</div>"
      ],
      "text/plain": [
       "   Conn_SubjNr  VPNr  Cond\n",
       "0            1     1     0\n",
       "1            2     2     0\n",
       "2            3     4     0\n",
       "3            4     6     1\n",
       "4            5     7     0"
      ]
     },
     "execution_count": 6,
     "metadata": {},
     "output_type": "execute_result"
    }
   ],
   "source": [
    "# read in the excel-file with the labels\n",
    "label_file = \"Conn_IDs_Matching.xlsx\"\n",
    "\n",
    "# read excel with only the first three columns\n",
    "label_df = (pd.read_excel(os.path.join(data_path, label_file),\n",
    "                            usecols=[0, 1, 2])\n",
    "            .replace({\"Cond\": {1: 0}})\n",
    "            .replace({\"Cond\": {2: 1}})\n",
    "            )\n",
    "\n",
    "label_df.head()"
   ]
  },
  {
   "cell_type": "code",
   "execution_count": 7,
   "metadata": {},
   "outputs": [
    {
     "name": "stdout",
     "output_type": "stream",
     "text": [
      "['BETA_Subject001_Condition002_Measure002_Component001.nii', 'BETA_Subject002_Condition002_Measure002_Component001.nii', 'BETA_Subject003_Condition002_Measure002_Component001.nii', 'BETA_Subject004_Condition002_Measure002_Component001.nii', 'BETA_Subject005_Condition002_Measure002_Component001.nii']\n"
     ]
    }
   ],
   "source": [
    "# read MVPA data\n",
    "path_content = os.listdir(os.path.join(data_path, \"Denoised_Data_6mm\", \"MVPA_data\"))\n",
    "\n",
    "# make two lists with pre (Condition002) and post (Condition003) data of first component\n",
    "comp1_pre = sorted([x for x in path_content \n",
    "                    if \"Component001\" in x \n",
    "                    and \"Condition002\" in x])\n",
    "comp1_post = sorted([x for x in path_content \n",
    "                    if \"Component001\" in x \n",
    "                    and \"Condition003\" in x])\n",
    "\n",
    "print(comp1_pre[:5])"
   ]
  },
  {
   "attachments": {},
   "cell_type": "markdown",
   "metadata": {},
   "source": [
    "### Prepare data for keras"
   ]
  },
  {
   "cell_type": "code",
   "execution_count": 8,
   "metadata": {},
   "outputs": [
    {
     "name": "stdout",
     "output_type": "stream",
     "text": [
      "(91, 109, 91)\n",
      "<class 'numpy.ndarray'>\n"
     ]
    }
   ],
   "source": [
    "# create a dataset with the difference of pre and post data\n",
    "comp1_diff = []\n",
    "for pre, post in zip(comp1_pre, comp1_post):\n",
    "    pre_vol = nib.load(os.path.join(data_path, \"Denoised_Data_6mm\", \"MVPA_data\", pre))\n",
    "    post_vol = nib.load(os.path.join(data_path, \"Denoised_Data_6mm\", \"MVPA_data\", post))\n",
    "    pre_vol_data = pre_vol.get_fdata()\n",
    "    post_vol_data = post_vol.get_fdata()\n",
    "    diff_vol_data = post_vol_data - pre_vol_data\n",
    "    comp1_diff.append(diff_vol_data)\n",
    "\n",
    "# check the shape of the data\n",
    "print(comp1_diff[0].shape)\n",
    "\n",
    "# check the type of the data\n",
    "print(type(comp1_diff[0]))\n",
    "\n",
    "# takes about 4 mins to run on Dell"
   ]
  },
  {
   "cell_type": "code",
   "execution_count": 9,
   "metadata": {},
   "outputs": [
    {
     "name": "stdout",
     "output_type": "stream",
     "text": [
      "shape of one list element before stacking: comp1_diff[0].shape=(91, 109, 91)\n",
      "inpt_comp1_diff.shape=(68, 91, 109, 91, 1)\n",
      "inpt_comp1_diff.mean()=1.2019033790773762e-16\n",
      "inpt_comp1_diff.std()=0.9999999999999889\n"
     ]
    }
   ],
   "source": [
    "# stack the data to later use it as input for the CNN\n",
    "# note: the first dimension is the number of samples\n",
    "print(f\"shape of one list element before stacking: {comp1_diff[0].shape=}\")\n",
    "inpt_comp1_diff = np.stack(comp1_diff, axis=0)\n",
    "\n",
    "# expand the dimensions to fit the input shape of the CNN\n",
    "# note: the last dimension is the number of channels\n",
    "inpt_comp1_diff = np.expand_dims(inpt_comp1_diff, axis=-1)\n",
    "\n",
    "# normalize the input data (zero mean, unit variance)\n",
    "# note: a CNN works best with normalized data\n",
    "inpt_comp1_diff = (inpt_comp1_diff - inpt_comp1_diff.mean()) / inpt_comp1_diff.std()\n",
    "\n",
    "print(f\"{inpt_comp1_diff.shape=}\",\n",
    "      f\"{inpt_comp1_diff.mean()=}\",\n",
    "      f\"{inpt_comp1_diff.std()=}\", sep=\"\\n\")"
   ]
  },
  {
   "cell_type": "code",
   "execution_count": 10,
   "metadata": {},
   "outputs": [
    {
     "name": "stdout",
     "output_type": "stream",
     "text": [
      "x_train.shape=(54, 91, 109, 91, 1)\n",
      "x_test.shape=(14, 91, 109, 91, 1)\n",
      "y_train.shape=(54,)\n",
      "y_test.shape=(14,)\n"
     ]
    }
   ],
   "source": [
    "# split the data into training and test data\n",
    "# use 80% of the data for training and 20% for testing\n",
    "x_train, x_test, y_train, y_test = train_test_split(inpt_comp1_diff, \n",
    "                                                    label_df[\"Cond\"], \n",
    "                                                    test_size=0.2,\n",
    "                                                    random_state=42)\n",
    "\n",
    "# check the shape of the data\n",
    "print(f\"{x_train.shape=}\",\n",
    "        f\"{x_test.shape=}\",\n",
    "        f\"{y_train.shape=}\",\n",
    "        f\"{y_test.shape=}\", sep=\"\\n\")\n",
    "\n",
    "# prepare for k-fold cross-validation\n",
    "# note: StratifiedKFold ensures that the proportion of samples of each class is the same in each fold\n",
    "nbr_of_folds = 12\n",
    "kfold = StratifiedKFold(n_splits=nbr_of_folds, shuffle=True, random_state=42)"
   ]
  },
  {
   "attachments": {},
   "cell_type": "markdown",
   "metadata": {},
   "source": [
    "### Built some models"
   ]
  },
  {
   "attachments": {},
   "cell_type": "markdown",
   "metadata": {},
   "source": [
    "#### 3D-CNN"
   ]
  },
  {
   "cell_type": "code",
   "execution_count": 17,
   "metadata": {},
   "outputs": [
    {
     "name": "stdout",
     "output_type": "stream",
     "text": [
      "Model: \"model_4\"\n",
      "_________________________________________________________________\n",
      " Layer (type)                Output Shape              Param #   \n",
      "=================================================================\n",
      " input_7 (InputLayer)        [(None, 91, 109, 91, 1)]  0         \n",
      "                                                                 \n",
      " conv3d_9 (Conv3D)           (None, 89, 107, 89, 16)   448       \n",
      "                                                                 \n",
      " leaky_re_lu_11 (LeakyReLU)  (None, 89, 107, 89, 16)   0         \n",
      "                                                                 \n",
      " max_pooling3d_8 (MaxPooling  (None, 44, 53, 44, 16)   0         \n",
      " 3D)                                                             \n",
      "                                                                 \n",
      " batch_normalization_9 (Batc  (None, 44, 53, 44, 16)   64        \n",
      " hNormalization)                                                 \n",
      "                                                                 \n",
      " conv3d_10 (Conv3D)          (None, 42, 51, 42, 32)    13856     \n",
      "                                                                 \n",
      " leaky_re_lu_12 (LeakyReLU)  (None, 42, 51, 42, 32)    0         \n",
      "                                                                 \n",
      " max_pooling3d_9 (MaxPooling  (None, 21, 25, 21, 32)   0         \n",
      " 3D)                                                             \n",
      "                                                                 \n",
      " batch_normalization_10 (Bat  (None, 21, 25, 21, 32)   128       \n",
      " chNormalization)                                                \n",
      "                                                                 \n",
      " flatten_4 (Flatten)         (None, 352800)            0         \n",
      "                                                                 \n",
      " dense_9 (Dense)             (None, 128)               45158528  \n",
      "                                                                 \n",
      " leaky_re_lu_13 (LeakyReLU)  (None, 128)               0         \n",
      "                                                                 \n",
      " batch_normalization_11 (Bat  (None, 128)              512       \n",
      " chNormalization)                                                \n",
      "                                                                 \n",
      " dropout_3 (Dropout)         (None, 128)               0         \n",
      "                                                                 \n",
      " dense_10 (Dense)            (None, 1)                 129       \n",
      "                                                                 \n",
      "=================================================================\n",
      "Total params: 45,173,665\n",
      "Trainable params: 45,173,313\n",
      "Non-trainable params: 352\n",
      "_________________________________________________________________\n"
     ]
    },
    {
     "data": {
      "text/plain": [
       "<keras.engine.functional.Functional at 0x7fa749c3b100>"
      ]
     },
     "execution_count": 17,
     "metadata": {},
     "output_type": "execute_result"
    }
   ],
   "source": [
    "# identical 3D-CNN model to the M2DCNN Paper\n",
    "\n",
    "# built a keras CNN model with functional API\n",
    "def build_compile_3DCNN(summary=False):\n",
    "\n",
    "    # layer 1\n",
    "    inputs = keras.Input(shape=(inpt_comp1_diff.shape[1:]))\n",
    "    x = layers.Conv3D(filters=16, \n",
    "                      kernel_size=3, \n",
    "                      strides=1,\n",
    "                      kernel_initializer=initializers.glorot_normal()) (inputs)\n",
    "    x = keras.layers.LeakyReLU() (x)\n",
    "    x = layers.MaxPooling3D(pool_size=2, \n",
    "                            strides=2, \n",
    "                            padding='valid') (x)\n",
    "    x = keras.layers.BatchNormalization() (x)\n",
    "\n",
    "    # layer 2\n",
    "    x = layers.Conv3D(filters=32, \n",
    "                      kernel_size=3, \n",
    "                      strides=1,\n",
    "                      kernel_initializer=initializers.glorot_normal()) (x)\n",
    "    x = keras.layers.LeakyReLU() (x)\n",
    "    x = layers.MaxPooling3D(pool_size=2, \n",
    "                            strides=2, \n",
    "                            padding='valid') (x)\n",
    "    x = keras.layers.BatchNormalization()  (x)\n",
    "\n",
    "    # flatten and create dense layer\n",
    "    x = layers.Flatten() (x)\n",
    "    x = layers.Dense(units=128,\n",
    "                     kernel_initializer=initializers.glorot_normal()) (x)\n",
    "    x = keras.layers.LeakyReLU() (x)\n",
    "    x = keras.layers.BatchNormalization() (x)\n",
    "    x = keras.layers.Dropout(0.5) (x)\n",
    "    outputs = layers.Dense(1, activation=\"sigmoid\") (x)\n",
    "\n",
    "    # define the model\n",
    "    model = keras.Model(inputs=inputs, outputs=outputs)\n",
    "\n",
    "    if summary == True:\n",
    "        model.summary()\n",
    "\n",
    "    # compile the model\n",
    "    my_adam = keras.optimizers.Adam(learning_rate=0.0025, beta_1=0.9, beta_2=0.999, amsgrad=True)\n",
    "    model.compile(optimizer=my_adam,\n",
    "                    loss='binary_crossentropy',\n",
    "                    metrics=[keras.metrics.Accuracy(name=\"Accuracy\")])\n",
    "\n",
    "    return model\n",
    "\n",
    "build_compile_3DCNN(summary=True)"
   ]
  },
  {
   "attachments": {},
   "cell_type": "markdown",
   "metadata": {},
   "source": [
    "#### s2D-CNN"
   ]
  },
  {
   "cell_type": "code",
   "execution_count": null,
   "metadata": {},
   "outputs": [
    {
     "name": "stdout",
     "output_type": "stream",
     "text": [
      "Model: \"model_4\"\n",
      "_________________________________________________________________\n",
      " Layer (type)                Output Shape              Param #   \n",
      "=================================================================\n",
      " input_7 (InputLayer)        [(None, 91, 109, 91, 1)]  0         \n",
      "                                                                 \n",
      " conv3d_9 (Conv3D)           (None, 89, 107, 89, 16)   448       \n",
      "                                                                 \n",
      " leaky_re_lu_11 (LeakyReLU)  (None, 89, 107, 89, 16)   0         \n",
      "                                                                 \n",
      " max_pooling3d_8 (MaxPooling  (None, 44, 53, 44, 16)   0         \n",
      " 3D)                                                             \n",
      "                                                                 \n",
      " batch_normalization_9 (Batc  (None, 44, 53, 44, 16)   64        \n",
      " hNormalization)                                                 \n",
      "                                                                 \n",
      " conv3d_10 (Conv3D)          (None, 42, 51, 42, 32)    13856     \n",
      "                                                                 \n",
      " leaky_re_lu_12 (LeakyReLU)  (None, 42, 51, 42, 32)    0         \n",
      "                                                                 \n",
      " max_pooling3d_9 (MaxPooling  (None, 21, 25, 21, 32)   0         \n",
      " 3D)                                                             \n",
      "                                                                 \n",
      " batch_normalization_10 (Bat  (None, 21, 25, 21, 32)   128       \n",
      " chNormalization)                                                \n",
      "                                                                 \n",
      " flatten_4 (Flatten)         (None, 352800)            0         \n",
      "                                                                 \n",
      " dense_9 (Dense)             (None, 128)               45158528  \n",
      "                                                                 \n",
      " leaky_re_lu_13 (LeakyReLU)  (None, 128)               0         \n",
      "                                                                 \n",
      " batch_normalization_11 (Bat  (None, 128)              512       \n",
      " chNormalization)                                                \n",
      "                                                                 \n",
      " dropout_3 (Dropout)         (None, 128)               0         \n",
      "                                                                 \n",
      " dense_10 (Dense)            (None, 1)                 129       \n",
      "                                                                 \n",
      "=================================================================\n",
      "Total params: 45,173,665\n",
      "Trainable params: 45,173,313\n",
      "Non-trainable params: 352\n",
      "_________________________________________________________________\n"
     ]
    },
    {
     "data": {
      "text/plain": [
       "<keras.engine.functional.Functional at 0x7fa749c3b100>"
      ]
     },
     "metadata": {},
     "output_type": "display_data"
    }
   ],
   "source": [
    "# identical 3D-SepConv model to the M2DCNN Paper\n",
    "\n",
    "# built a keras CNN model with functional API\n",
    "def build_compile_3DCNN(summary=False):\n",
    "\n",
    "    # layer 1\n",
    "    inputs = keras.Input(shape=(inpt_comp1_diff.shape[1:]))\n",
    "    x = layers.Conv3D(filters=16, \n",
    "                      kernel_size=3, \n",
    "                      strides=1,\n",
    "                      kernel_initializer=initializers.glorot_normal()) (inputs)\n",
    "    x = keras.layers.LeakyReLU() (x)\n",
    "    x = layers.MaxPooling3D(pool_size=2, \n",
    "                            strides=2, \n",
    "                            padding='valid') (x)\n",
    "    x = keras.layers.BatchNormalization() (x)\n",
    "\n",
    "    # layer 2\n",
    "    x = layers.Conv3D(filters=32, \n",
    "                      kernel_size=3, \n",
    "                      strides=1,\n",
    "                      kernel_initializer=initializers.glorot_normal()) (x)\n",
    "    x = keras.layers.LeakyReLU() (x)\n",
    "    x = layers.MaxPooling3D(pool_size=2, \n",
    "                            strides=2, \n",
    "                            padding='valid') (x)\n",
    "    x = keras.layers.BatchNormalization()  (x)\n",
    "\n",
    "    # flatten and create dense layer\n",
    "    x = layers.Flatten() (x)\n",
    "    x = layers.Dense(units=128,\n",
    "                     kernel_initializer=initializers.glorot_normal()) (x)\n",
    "    x = keras.layers.LeakyReLU() (x)\n",
    "    x = keras.layers.BatchNormalization() (x)\n",
    "    x = keras.layers.Dropout(0.5) (x)\n",
    "    outputs = layers.Dense(1, activation=\"sigmoid\") (x)\n",
    "\n",
    "    # define the model\n",
    "    model = keras.Model(inputs=inputs, outputs=outputs)\n",
    "\n",
    "    if summary == True:\n",
    "        model.summary()\n",
    "\n",
    "    # compile the model\n",
    "    my_adam = keras.optimizers.Adam(learning_rate=0.0025, beta_1=0.9, beta_2=0.999, amsgrad=True)\n",
    "    model.compile(optimizer=my_adam,\n",
    "                    loss='binary_crossentropy',\n",
    "                    metrics=[keras.metrics.Accuracy(name=\"Accuracy\")])\n",
    "\n",
    "    return model\n",
    "\n",
    "build_compile_3DCNN(summary=True)"
   ]
  },
  {
   "attachments": {},
   "cell_type": "markdown",
   "metadata": {},
   "source": [
    "#### M2D-CNN"
   ]
  },
  {
   "cell_type": "code",
   "execution_count": null,
   "metadata": {},
   "outputs": [
    {
     "name": "stdout",
     "output_type": "stream",
     "text": [
      "Model: \"model_4\"\n",
      "_________________________________________________________________\n",
      " Layer (type)                Output Shape              Param #   \n",
      "=================================================================\n",
      " input_7 (InputLayer)        [(None, 91, 109, 91, 1)]  0         \n",
      "                                                                 \n",
      " conv3d_9 (Conv3D)           (None, 89, 107, 89, 16)   448       \n",
      "                                                                 \n",
      " leaky_re_lu_11 (LeakyReLU)  (None, 89, 107, 89, 16)   0         \n",
      "                                                                 \n",
      " max_pooling3d_8 (MaxPooling  (None, 44, 53, 44, 16)   0         \n",
      " 3D)                                                             \n",
      "                                                                 \n",
      " batch_normalization_9 (Batc  (None, 44, 53, 44, 16)   64        \n",
      " hNormalization)                                                 \n",
      "                                                                 \n",
      " conv3d_10 (Conv3D)          (None, 42, 51, 42, 32)    13856     \n",
      "                                                                 \n",
      " leaky_re_lu_12 (LeakyReLU)  (None, 42, 51, 42, 32)    0         \n",
      "                                                                 \n",
      " max_pooling3d_9 (MaxPooling  (None, 21, 25, 21, 32)   0         \n",
      " 3D)                                                             \n",
      "                                                                 \n",
      " batch_normalization_10 (Bat  (None, 21, 25, 21, 32)   128       \n",
      " chNormalization)                                                \n",
      "                                                                 \n",
      " flatten_4 (Flatten)         (None, 352800)            0         \n",
      "                                                                 \n",
      " dense_9 (Dense)             (None, 128)               45158528  \n",
      "                                                                 \n",
      " leaky_re_lu_13 (LeakyReLU)  (None, 128)               0         \n",
      "                                                                 \n",
      " batch_normalization_11 (Bat  (None, 128)              512       \n",
      " chNormalization)                                                \n",
      "                                                                 \n",
      " dropout_3 (Dropout)         (None, 128)               0         \n",
      "                                                                 \n",
      " dense_10 (Dense)            (None, 1)                 129       \n",
      "                                                                 \n",
      "=================================================================\n",
      "Total params: 45,173,665\n",
      "Trainable params: 45,173,313\n",
      "Non-trainable params: 352\n",
      "_________________________________________________________________\n"
     ]
    },
    {
     "data": {
      "text/plain": [
       "<keras.engine.functional.Functional at 0x7fa749c3b100>"
      ]
     },
     "metadata": {},
     "output_type": "display_data"
    }
   ],
   "source": [
    "# identical 3D-SepConv model to the M2DCNN Paper\n",
    "\n",
    "# built a keras CNN model with functional API\n",
    "def build_compile_3DCNN(summary=False):\n",
    "\n",
    "    # layer 1\n",
    "    inputs = keras.Input(shape=(inpt_comp1_diff.shape[1:]))\n",
    "    x = layers.Conv3D(filters=16, \n",
    "                      kernel_size=3, \n",
    "                      strides=1,\n",
    "                      kernel_initializer=initializers.glorot_normal()) (inputs)\n",
    "    x = keras.layers.LeakyReLU() (x)\n",
    "    x = layers.MaxPooling3D(pool_size=2, \n",
    "                            strides=2, \n",
    "                            padding='valid') (x)\n",
    "    x = keras.layers.BatchNormalization() (x)\n",
    "\n",
    "    # layer 2\n",
    "    x = layers.Conv3D(filters=32, \n",
    "                      kernel_size=3, \n",
    "                      strides=1,\n",
    "                      kernel_initializer=initializers.glorot_normal()) (x)\n",
    "    x = keras.layers.LeakyReLU() (x)\n",
    "    x = layers.MaxPooling3D(pool_size=2, \n",
    "                            strides=2, \n",
    "                            padding='valid') (x)\n",
    "    x = keras.layers.BatchNormalization()  (x)\n",
    "\n",
    "    # flatten and create dense layer\n",
    "    x = layers.Flatten() (x)\n",
    "    x = layers.Dense(units=128,\n",
    "                     kernel_initializer=initializers.glorot_normal()) (x)\n",
    "    x = keras.layers.LeakyReLU() (x)\n",
    "    x = keras.layers.BatchNormalization() (x)\n",
    "    x = keras.layers.Dropout(0.5) (x)\n",
    "    outputs = layers.Dense(1, activation=\"sigmoid\") (x)\n",
    "\n",
    "    # define the model\n",
    "    model = keras.Model(inputs=inputs, outputs=outputs)\n",
    "\n",
    "    if summary == True:\n",
    "        model.summary()\n",
    "\n",
    "    # compile the model\n",
    "    my_adam = keras.optimizers.Adam(learning_rate=0.0025, beta_1=0.9, beta_2=0.999, amsgrad=True)\n",
    "    model.compile(optimizer=my_adam,\n",
    "                    loss='binary_crossentropy',\n",
    "                    metrics=[keras.metrics.Accuracy(name=\"Accuracy\")])\n",
    "\n",
    "    return model\n",
    "\n",
    "build_compile_3DCNN(summary=True)"
   ]
  },
  {
   "attachments": {},
   "cell_type": "markdown",
   "metadata": {},
   "source": [
    "### cross validation"
   ]
  },
  {
   "cell_type": "code",
   "execution_count": null,
   "metadata": {},
   "outputs": [],
   "source": [
    "# callback to stop training when loss does not improve anymore and save the best model\n",
    "callback_list = [callbacks.EarlyStopping(monitor=\"val_loss\", patience=5),\n",
    "                 callbacks.ModelCheckpoint(filepath=\"./MVPA_CNN_model_cv.keras\", \n",
    "                                            monitor=\"val_loss\",\n",
    "                                            save_best_only=True)]\n",
    "\n",
    "# create empty lists to store the results of the k-fold cross-validation\n",
    "val_loss = []\n",
    "val_acc = []\n",
    "history_list = []\n",
    "\n",
    "# k-fold cross-validation\n",
    "for fold, (train_idx, test_idx) in enumerate(kfold.split(x_train, y_train)):\n",
    "    if fold == 0:\n",
    "        print(f\"cross validation started...\", \n",
    "                f\"size of the training data: {len(train_idx)}\",\n",
    "                f\"size of the test data: {len(test_idx)}\", \n",
    "                sep=\"\\n\")\n",
    "\n",
    "    # create the folds\n",
    "    print(f\"Fold {fold+1} of {nbr_of_folds}\")\n",
    "    x_train_fold = x_train[train_idx]\n",
    "    x_test_fold = x_train[test_idx]\n",
    "    y_train_fold = y_train.iloc[train_idx]\n",
    "    y_test_fold = y_train.iloc[test_idx]\n",
    "\n",
    "    # print shape of the folds\n",
    "    # print(f\"{x_train_fold.shape=}\",\n",
    "    #     f\"{x_test_fold.shape=}\",\n",
    "    #     f\"{y_train_fold.shape=}\",\n",
    "    #     f\"{y_test_fold.shape=}\", sep=\"\\n\")\n",
    "\n",
    "    # build and compile the model\n",
    "    model = build_and_compile_model()\n",
    "\n",
    "    # train the model\n",
    "    history = model.fit(x_train_fold, y_train_fold,\n",
    "                        epochs=20,\n",
    "                        batch_size=4,\n",
    "                        validation_data=(x_test_fold, y_test_fold),\n",
    "                        callbacks=callback_list,\n",
    "                        verbose=1)\n",
    "    history_list.append(history)\n",
    "\n",
    "    # evaluate the model\n",
    "    fold_loss = model.evaluate(x_test_fold, y_test_fold, verbose=0)[0]\n",
    "    fold_acc = model.evaluate(x_test_fold, y_test_fold, verbose=0)[1]\n",
    "    val_loss.append(fold_loss)\n",
    "    val_acc.append(fold_acc)\n",
    "    print(f\"Loss: {fold_loss}\", f\"Accuracy: {fold_acc}\", sep=\"\\n\")\n",
    "\n",
    "# print the mean of the validation loss and accuracy\n",
    "print(f\"Mean validation loss: {np.mean(val_loss)}\",\n",
    "        f\"Mean validation accuracy: {np.mean(val_acc)}\", sep=\"\\n\")\n",
    "        \n",
    "# save the model\n",
    "# model.save(\"X:/MasterThesis_Reto/3d_cnn_model\")"
   ]
  },
  {
   "cell_type": "code",
   "execution_count": null,
   "metadata": {},
   "outputs": [],
   "source": [
    "# create subplot to show all folds from cross-validation\n",
    "fig, axs = plt.subplots(3, 4, figsize=(12, 6))\n",
    "axs = axs.ravel()\n",
    "for i, history in enumerate(history_list):\n",
    "    axs[i].plot(history.history[\"loss\"][1:])\n",
    "    axs[i].plot(history.history[\"val_loss\"][1:])\n",
    "    axs[i].plot(history.history[\"Accuracy\"][1:])\n",
    "    axs[i].plot(history.history[\"val_Accuracy\"][1:])\n",
    "    axs[i].set_title(f\"Fold {i+1}\")\n",
    "    axs[i].set_ylabel(\"loss\")\n",
    "    axs[i].set_xlabel(\"epoch\")\n",
    "    axs[i].grid()\n",
    "\n",
    "fig.tight_layout()\n",
    "fig.legend([\"loss\", \"val_loss\", \"accuracy\", \"val_Accuracy\"])\n"
   ]
  },
  {
   "attachments": {},
   "cell_type": "markdown",
   "metadata": {},
   "source": [
    "### train model with the entire test data (no val. data)"
   ]
  },
  {
   "cell_type": "code",
   "execution_count": 18,
   "metadata": {},
   "outputs": [
    {
     "name": "stdout",
     "output_type": "stream",
     "text": [
      "Epoch 1/20\n",
      "14/14 [==============================] - ETA: 0s - loss: 2.4220 - Accuracy: 0.0000e+00WARNING:tensorflow:Can save best model only with val_Accuracy available, skipping.\n"
     ]
    },
    {
     "name": "stderr",
     "output_type": "stream",
     "text": [
      "WARNING:tensorflow:Can save best model only with val_Accuracy available, skipping.\n"
     ]
    },
    {
     "name": "stdout",
     "output_type": "stream",
     "text": [
      "14/14 [==============================] - 7s 368ms/step - loss: 2.4220 - Accuracy: 0.0000e+00\n",
      "Epoch 2/20\n",
      "14/14 [==============================] - ETA: 0s - loss: 0.7245 - Accuracy: 0.0000e+00WARNING:tensorflow:Can save best model only with val_Accuracy available, skipping.\n"
     ]
    },
    {
     "name": "stderr",
     "output_type": "stream",
     "text": [
      "WARNING:tensorflow:Can save best model only with val_Accuracy available, skipping.\n"
     ]
    },
    {
     "name": "stdout",
     "output_type": "stream",
     "text": [
      "14/14 [==============================] - 5s 360ms/step - loss: 0.7245 - Accuracy: 0.0000e+00\n",
      "Epoch 3/20\n",
      "14/14 [==============================] - ETA: 0s - loss: 0.4843 - Accuracy: 0.0000e+00WARNING:tensorflow:Can save best model only with val_Accuracy available, skipping.\n"
     ]
    },
    {
     "name": "stderr",
     "output_type": "stream",
     "text": [
      "WARNING:tensorflow:Can save best model only with val_Accuracy available, skipping.\n"
     ]
    },
    {
     "name": "stdout",
     "output_type": "stream",
     "text": [
      "14/14 [==============================] - 5s 364ms/step - loss: 0.4843 - Accuracy: 0.0000e+00\n",
      "Epoch 4/20\n",
      "14/14 [==============================] - ETA: 0s - loss: 0.4985 - Accuracy: 0.0000e+00WARNING:tensorflow:Can save best model only with val_Accuracy available, skipping.\n"
     ]
    },
    {
     "name": "stderr",
     "output_type": "stream",
     "text": [
      "WARNING:tensorflow:Can save best model only with val_Accuracy available, skipping.\n"
     ]
    },
    {
     "name": "stdout",
     "output_type": "stream",
     "text": [
      "14/14 [==============================] - 5s 362ms/step - loss: 0.4985 - Accuracy: 0.0000e+00\n",
      "Epoch 5/20\n",
      "14/14 [==============================] - ETA: 0s - loss: 0.4458 - Accuracy: 0.0000e+00WARNING:tensorflow:Can save best model only with val_Accuracy available, skipping.\n"
     ]
    },
    {
     "name": "stderr",
     "output_type": "stream",
     "text": [
      "WARNING:tensorflow:Can save best model only with val_Accuracy available, skipping.\n"
     ]
    },
    {
     "name": "stdout",
     "output_type": "stream",
     "text": [
      "14/14 [==============================] - 5s 346ms/step - loss: 0.4458 - Accuracy: 0.0000e+00\n",
      "Epoch 6/20\n",
      "14/14 [==============================] - ETA: 0s - loss: 0.3537 - Accuracy: 0.0000e+00WARNING:tensorflow:Can save best model only with val_Accuracy available, skipping.\n"
     ]
    },
    {
     "name": "stderr",
     "output_type": "stream",
     "text": [
      "WARNING:tensorflow:Can save best model only with val_Accuracy available, skipping.\n"
     ]
    },
    {
     "name": "stdout",
     "output_type": "stream",
     "text": [
      "14/14 [==============================] - 5s 355ms/step - loss: 0.3537 - Accuracy: 0.0000e+00\n",
      "Epoch 7/20\n",
      "14/14 [==============================] - ETA: 0s - loss: 0.1558 - Accuracy: 0.0000e+00WARNING:tensorflow:Can save best model only with val_Accuracy available, skipping.\n"
     ]
    },
    {
     "name": "stderr",
     "output_type": "stream",
     "text": [
      "WARNING:tensorflow:Can save best model only with val_Accuracy available, skipping.\n"
     ]
    },
    {
     "name": "stdout",
     "output_type": "stream",
     "text": [
      "14/14 [==============================] - 5s 344ms/step - loss: 0.1558 - Accuracy: 0.0000e+00\n",
      "Epoch 8/20\n",
      "14/14 [==============================] - ETA: 0s - loss: 0.3766 - Accuracy: 0.0000e+00WARNING:tensorflow:Can save best model only with val_Accuracy available, skipping.\n"
     ]
    },
    {
     "name": "stderr",
     "output_type": "stream",
     "text": [
      "WARNING:tensorflow:Can save best model only with val_Accuracy available, skipping.\n"
     ]
    },
    {
     "name": "stdout",
     "output_type": "stream",
     "text": [
      "14/14 [==============================] - 5s 350ms/step - loss: 0.3766 - Accuracy: 0.0000e+00\n",
      "Epoch 9/20\n",
      "14/14 [==============================] - ETA: 0s - loss: 0.1752 - Accuracy: 0.0000e+00WARNING:tensorflow:Can save best model only with val_Accuracy available, skipping.\n"
     ]
    },
    {
     "name": "stderr",
     "output_type": "stream",
     "text": [
      "WARNING:tensorflow:Can save best model only with val_Accuracy available, skipping.\n"
     ]
    },
    {
     "name": "stdout",
     "output_type": "stream",
     "text": [
      "14/14 [==============================] - 5s 352ms/step - loss: 0.1752 - Accuracy: 0.0000e+00\n",
      "Epoch 10/20\n",
      "14/14 [==============================] - ETA: 0s - loss: 0.3764 - Accuracy: 0.0000e+00WARNING:tensorflow:Can save best model only with val_Accuracy available, skipping.\n"
     ]
    },
    {
     "name": "stderr",
     "output_type": "stream",
     "text": [
      "WARNING:tensorflow:Can save best model only with val_Accuracy available, skipping.\n"
     ]
    },
    {
     "name": "stdout",
     "output_type": "stream",
     "text": [
      "14/14 [==============================] - 5s 354ms/step - loss: 0.3764 - Accuracy: 0.0000e+00\n",
      "Epoch 11/20\n",
      "14/14 [==============================] - ETA: 0s - loss: 0.1787 - Accuracy: 0.0000e+00WARNING:tensorflow:Can save best model only with val_Accuracy available, skipping.\n"
     ]
    },
    {
     "name": "stderr",
     "output_type": "stream",
     "text": [
      "WARNING:tensorflow:Can save best model only with val_Accuracy available, skipping.\n"
     ]
    },
    {
     "name": "stdout",
     "output_type": "stream",
     "text": [
      "14/14 [==============================] - 5s 350ms/step - loss: 0.1787 - Accuracy: 0.0000e+00\n",
      "Epoch 12/20\n",
      "14/14 [==============================] - ETA: 0s - loss: 0.1657 - Accuracy: 0.0000e+00WARNING:tensorflow:Can save best model only with val_Accuracy available, skipping.\n"
     ]
    },
    {
     "name": "stderr",
     "output_type": "stream",
     "text": [
      "WARNING:tensorflow:Can save best model only with val_Accuracy available, skipping.\n"
     ]
    },
    {
     "name": "stdout",
     "output_type": "stream",
     "text": [
      "14/14 [==============================] - 5s 344ms/step - loss: 0.1657 - Accuracy: 0.0000e+00\n",
      "Epoch 13/20\n",
      "14/14 [==============================] - ETA: 0s - loss: 0.1239 - Accuracy: 0.0000e+00WARNING:tensorflow:Can save best model only with val_Accuracy available, skipping.\n"
     ]
    },
    {
     "name": "stderr",
     "output_type": "stream",
     "text": [
      "WARNING:tensorflow:Can save best model only with val_Accuracy available, skipping.\n"
     ]
    },
    {
     "name": "stdout",
     "output_type": "stream",
     "text": [
      "14/14 [==============================] - 5s 348ms/step - loss: 0.1239 - Accuracy: 0.0000e+00\n",
      "Epoch 14/20\n",
      "14/14 [==============================] - ETA: 0s - loss: 0.1118 - Accuracy: 0.0000e+00WARNING:tensorflow:Can save best model only with val_Accuracy available, skipping.\n"
     ]
    },
    {
     "name": "stderr",
     "output_type": "stream",
     "text": [
      "WARNING:tensorflow:Can save best model only with val_Accuracy available, skipping.\n"
     ]
    },
    {
     "name": "stdout",
     "output_type": "stream",
     "text": [
      "14/14 [==============================] - 5s 341ms/step - loss: 0.1118 - Accuracy: 0.0000e+00\n",
      "Epoch 15/20\n",
      "14/14 [==============================] - ETA: 0s - loss: 0.2441 - Accuracy: 0.0000e+00WARNING:tensorflow:Can save best model only with val_Accuracy available, skipping.\n"
     ]
    },
    {
     "name": "stderr",
     "output_type": "stream",
     "text": [
      "WARNING:tensorflow:Can save best model only with val_Accuracy available, skipping.\n"
     ]
    },
    {
     "name": "stdout",
     "output_type": "stream",
     "text": [
      "14/14 [==============================] - 5s 344ms/step - loss: 0.2441 - Accuracy: 0.0000e+00\n",
      "Epoch 16/20\n",
      "14/14 [==============================] - ETA: 0s - loss: 0.2563 - Accuracy: 0.0000e+00WARNING:tensorflow:Can save best model only with val_Accuracy available, skipping.\n"
     ]
    },
    {
     "name": "stderr",
     "output_type": "stream",
     "text": [
      "WARNING:tensorflow:Can save best model only with val_Accuracy available, skipping.\n"
     ]
    },
    {
     "name": "stdout",
     "output_type": "stream",
     "text": [
      "14/14 [==============================] - 5s 355ms/step - loss: 0.2563 - Accuracy: 0.0000e+00\n",
      "Epoch 17/20\n",
      "14/14 [==============================] - ETA: 0s - loss: 0.6023 - Accuracy: 0.0000e+00WARNING:tensorflow:Can save best model only with val_Accuracy available, skipping.\n"
     ]
    },
    {
     "name": "stderr",
     "output_type": "stream",
     "text": [
      "WARNING:tensorflow:Can save best model only with val_Accuracy available, skipping.\n"
     ]
    },
    {
     "name": "stdout",
     "output_type": "stream",
     "text": [
      "14/14 [==============================] - 5s 379ms/step - loss: 0.6023 - Accuracy: 0.0000e+00\n",
      "Epoch 18/20\n",
      "14/14 [==============================] - ETA: 0s - loss: 0.3825 - Accuracy: 0.0000e+00WARNING:tensorflow:Can save best model only with val_Accuracy available, skipping.\n"
     ]
    },
    {
     "name": "stderr",
     "output_type": "stream",
     "text": [
      "WARNING:tensorflow:Can save best model only with val_Accuracy available, skipping.\n"
     ]
    },
    {
     "name": "stdout",
     "output_type": "stream",
     "text": [
      "14/14 [==============================] - 5s 373ms/step - loss: 0.3825 - Accuracy: 0.0000e+00\n",
      "Epoch 19/20\n",
      "14/14 [==============================] - ETA: 0s - loss: 0.1028 - Accuracy: 0.0000e+00WARNING:tensorflow:Can save best model only with val_Accuracy available, skipping.\n"
     ]
    },
    {
     "name": "stderr",
     "output_type": "stream",
     "text": [
      "WARNING:tensorflow:Can save best model only with val_Accuracy available, skipping.\n"
     ]
    },
    {
     "name": "stdout",
     "output_type": "stream",
     "text": [
      "14/14 [==============================] - 5s 331ms/step - loss: 0.1028 - Accuracy: 0.0000e+00\n",
      "Epoch 20/20\n",
      "14/14 [==============================] - ETA: 0s - loss: 0.1932 - Accuracy: 0.0000e+00WARNING:tensorflow:Can save best model only with val_Accuracy available, skipping.\n"
     ]
    },
    {
     "name": "stderr",
     "output_type": "stream",
     "text": [
      "WARNING:tensorflow:Can save best model only with val_Accuracy available, skipping.\n"
     ]
    },
    {
     "name": "stdout",
     "output_type": "stream",
     "text": [
      "14/14 [==============================] - 5s 339ms/step - loss: 0.1932 - Accuracy: 0.0000e+00\n"
     ]
    }
   ],
   "source": [
    "# train with entire training data (no validation data)\n",
    "# callback to stop training when loss does not improve anymore and save the best model\n",
    "early_stop = callbacks.EarlyStopping(monitor=\"loss\", patience=6, mode=\"auto\")\n",
    "checkpoint = callbacks.ModelCheckpoint(filepath=\"./MVPA_CNN_model.keras\", \n",
    "                                        monitor=\"val_Accuracy\",\n",
    "                                        save_best_only=True,\n",
    "                                        mode=\"auto\",\n",
    "                                        verbose=1)\n",
    "callback_list = [early_stop, checkpoint]\n",
    "\n",
    "# build and compile the model\n",
    "model = build_compile_3DCNN()\n",
    "\n",
    "# train the model\n",
    "history = model.fit(x_train, y_train,\n",
    "                    epochs=20,\n",
    "                    batch_size=4,\n",
    "                    callbacks=callback_list,\n",
    "                    verbose=1)"
   ]
  },
  {
   "cell_type": "code",
   "execution_count": 21,
   "metadata": {},
   "outputs": [
    {
     "name": "stdout",
     "output_type": "stream",
     "text": [
      "1/1 [==============================] - 0s 415ms/step - loss: 1.9603 - Accuracy: 0.5000\n"
     ]
    },
    {
     "data": {
      "image/png": "[encoded data removed]",
      "text/plain": [
       "<Figure size 800x400 with 1 Axes>"
      ]
     },
     "metadata": {},
     "output_type": "display_data"
    }
   ],
   "source": [
    "# load the best model\n",
    "model = keras.models.load_model(\"./MVPA_CNN_model.keras\")\n",
    "\n",
    "# evaluate the model\n",
    "model.evaluate(x_test, y_test, verbose=1)\n",
    "\n",
    "# plot the training history\n",
    "fig = plt.figure(figsize=(8, 4))\n",
    "plt.plot(history.history[\"loss\"])\n",
    "# plt.plot(history.history[\"val_loss\"])\n",
    "plt.plot(history.history[\"Accuracy\"])\n",
    "# plt.plot(history.history[\"val_Accuracy\"])\n",
    "plt.title(\"training history\")\n",
    "plt.ylabel(\"loss\")\n",
    "plt.xlabel(\"epoch\")\n",
    "plt.legend([\"loss\", \"val_loss\", \"accuracy\", \"val_Accuracy\"], loc=\"upper left\")\n",
    "plt.grid()\n",
    "plt.show()"
   ]
  },
  {
   "attachments": {},
   "cell_type": "markdown",
   "metadata": {},
   "source": [
    "### hyperparameter tuning"
   ]
  },
  {
   "cell_type": "code",
   "execution_count": null,
   "metadata": {},
   "outputs": [],
   "source": [
    "# create a function to build and compile the model for hyperparameter tuning\n",
    "\n",
    "def build_and_compile_model_test(hp):\n",
    "    \"\"\"\n",
    "    Builds model and sets up hyperparameter space to search. Model is compiled.\n",
    "    \n",
    "    Parameters\n",
    "    ----------\n",
    "    hp : HyperParameter object\n",
    "        Configures hyperparameters to tune.\n",
    "        \n",
    "    Returns\n",
    "    -------\n",
    "    model : model\n",
    "        Compiled keras model with hyperparameters to tune.\n",
    "    \"\"\"\n",
    "    inputs = keras.Input(shape=(inpt_comp1_diff.shape[1:]))\n",
    "    \n",
    "    # Tune the number of hidden CNN layers (pair of Conv3D and MaxPool) and filters + kernel_size in each hidden layer.\n",
    "    # Number of hidden layers: 1 - 5\n",
    "    # Number of filters: 16 - 512 with stepsize of 32\n",
    "    # Kernel size: 3 - 5 with stepsize of 2\n",
    "        \n",
    "    x = keras.layers.Conv3D(\n",
    "        filters=hp.Int(\"filters\", min_value=16, max_value=512, step=32),\n",
    "        kernel_size=3,\n",
    "        activation=\"relu\", \n",
    "        padding=\"same\")(inputs)\n",
    "\n",
    "    x = keras.layers.MaxPooling3D(pool_size=(2, 2, 2))(x)\n",
    "    \n",
    "    # Flatten the output of the last hidden layer\n",
    "    x = keras.layers.Flatten()(x)\n",
    "\n",
    "    # Tune the number and units in the dense layer including dropout\n",
    "    # Number of dense layers: 1 - 3\n",
    "    # Number of units: 16 - 512 with stepsize of 32\n",
    "    x = keras.layers.Dense(units=64,\n",
    "                            activation=\"relu\")(x)\n",
    "\n",
    "    # Add output layer\n",
    "    outputs = keras.layers.Dense(1, activation=\"sigmoid\")(x)\n",
    "    # TODO: maybe try with a softmax activation function\n",
    "\n",
    "    # define the model\n",
    "    model = keras.Model(inputs=inputs, outputs=outputs)\n",
    "    \n",
    "    # Define optimizer, loss, and metrics\n",
    "    model.compile(optimizer=keras.optimizers.Adam(learning_rate=0.001),\n",
    "                  loss='binary_crossentropy',\n",
    "                  metrics=[\"Accuracy\"])\n",
    "    \n",
    "    return model"
   ]
  },
  {
   "cell_type": "code",
   "execution_count": null,
   "metadata": {},
   "outputs": [],
   "source": [
    "# create a function to build and compile the model for hyperparameter tuning\n",
    "\n",
    "def build_and_compile_model(hp):\n",
    "    \"\"\"\n",
    "    Builds model and sets up hyperparameter space to search. Model is compiled.\n",
    "    \n",
    "    Parameters\n",
    "    ----------\n",
    "    hp : HyperParameter object\n",
    "        Configures hyperparameters to tune.\n",
    "        \n",
    "    Returns\n",
    "    -------\n",
    "    model : model\n",
    "        Compiled keras model with hyperparameters to tune.\n",
    "    \"\"\"\n",
    "    inputs = keras.Input(shape=(inpt_comp1_diff.shape[1:]))\n",
    "    \n",
    "    # Tune the number of hidden CNN layers (pair of Conv3D and MaxPool) and filters + kernel_size in each hidden layer.\n",
    "    # Number of hidden layers: 1 - 5\n",
    "    # Number of filters: 16 - 512 with stepsize of 32\n",
    "    # Kernel size: 3 - 5 with stepsize of 2\n",
    "    for i in range(1, hp.Int(\"num_layers\", 2, 6)):\n",
    "        \n",
    "        x = keras.layers.Conv3D(\n",
    "            filters=hp.Int(\"filters_\" + str(i), min_value=16, max_value=512, step=32),\n",
    "            kernel_size=hp.Int(\"kernel_size_\" + str(i), min_value=3, max_value=5, step=2),\n",
    "            # kernel_regularizer=hp.Float(\"l2_regularization_\" + str(i), min_value=0.0001, max_value=0.01, step=0.0001),\n",
    "            activation=\"relu\", \n",
    "            padding=\"same\")(inputs)\n",
    "\n",
    "        x = keras.layers.MaxPooling3D(pool_size=(2, 2, 2))(x)\n",
    "\n",
    "        # tune dropout layer with values from 0 - 0.3 with stepsize of 0.1\n",
    "        x = keras.layers.Dropout(hp.Float(\"dropout_\" + str(i), \n",
    "                                    min_value=0, max_value=0.3, step=0.1))(x)\n",
    "    \n",
    "    # Flatten the output of the last hidden layer\n",
    "    x = keras.layers.Flatten()(x)\n",
    "\n",
    "    # Tune the number and units in the dense layer including dropout\n",
    "    # Number of dense layers: 1 - 3\n",
    "    # Number of units: 16 - 512 with stepsize of 32\n",
    "    for i in range(1, hp.Int(\"num_dense_layers\", 2, 4)):\n",
    "        x = keras.layers.Dense(units=hp.Int(\"units_\" + str(i), min_value=16, max_value=512, step=32),\n",
    "                               activation=\"relu\")(x)\n",
    "        \n",
    "        # tune dropout layer with values from 0 - 0.3 with stepsize of 0.1\n",
    "        x = keras.layers.Dropout(hp.Float(\"dense_dropout_\" + str(i), \n",
    "                                    min_value=0, max_value=0.3, step=0.1))(x)\n",
    "\n",
    "    # Add output layer\n",
    "    outputs = keras.layers.Dense(1, activation=\"sigmoid\")(x)\n",
    "    # TODO: maybe try with a softmax activation function\n",
    "\n",
    "    # define the model\n",
    "    model = keras.Model(inputs=inputs, outputs=outputs)\n",
    "\n",
    "    # Tune learning rate for Adam optimizer with values from 0.01, 0.001, or 0.00001\n",
    "    hp_learning_rate = hp.Choice(\"learning_rate\", values=[1e-2, 1e-3, 1e-5])\n",
    "    \n",
    "    # Define optimizer, loss, and metrics\n",
    "    model.compile(optimizer=keras.optimizers.Adam(learning_rate=hp_learning_rate),\n",
    "                  loss='binary_crossentropy',\n",
    "                  metrics=[\"Accuracy\"])\n",
    "    \n",
    "    return model"
   ]
  },
  {
   "cell_type": "code",
   "execution_count": null,
   "metadata": {},
   "outputs": [],
   "source": [
    "# Instantiate the tuner\n",
    "tuner = kt.BayesianOptimization(build_and_compile_model_test,\n",
    "                                objective=\"val_Accuracy\",\n",
    "                                max_trials=10,\n",
    "                                executions_per_trial=2,\n",
    "                                directory=\"kt_dir\",\n",
    "                                project_name=\"kt_BayesianOptimization\",\n",
    "                                overwrite=True)\n",
    "\n",
    "# Display search space summary\n",
    "tuner.search_space_summary()"
   ]
  },
  {
   "cell_type": "code",
   "execution_count": null,
   "metadata": {},
   "outputs": [],
   "source": [
    "# start the search for the best hyperparameters\n",
    "\n",
    "stop_early = tf.keras.callbacks.EarlyStopping(monitor='val_Accuracy', patience=5)\n",
    "\n",
    "tuner.search(x_train, y_train, \n",
    "                epochs=20, \n",
    "                batch_size=4,\n",
    "                validation_data=(x_test, y_test),\n",
    "                callbacks=[stop_early], \n",
    "                verbose=2)"
   ]
  },
  {
   "cell_type": "code",
   "execution_count": null,
   "metadata": {},
   "outputs": [],
   "source": [
    "# Get the optimal hyperparameters from the results\n",
    "best_hps = tuner.get_best_hyperparameters()[0]\n",
    "\n",
    "# Build model\n",
    "h_model = tuner.hypermodel.build(best_hps)\n",
    "\n",
    "# Train the hypertuned model\n",
    "h_model.fit(x_train, y_train, epochs=20, validation_split=0.2, callbacks=[stop_early], verbose=2)\n",
    "\n",
    "# Evaluate model on test set\n",
    "h_model.evaluate(x_test, y_test)\n"
   ]
  },
  {
   "cell_type": "code",
   "execution_count": null,
   "metadata": {},
   "outputs": [],
   "source": [
    "best_hps = tuner.get_best_hyperparameters()\n",
    "best_hps"
   ]
  },
  {
   "cell_type": "code",
   "execution_count": null,
   "metadata": {},
   "outputs": [],
   "source": [
    "# train with entire training data (no validation data)\n",
    "# callback to stop training when loss does not improve anymore and save the best model\n",
    "callback_list = [callbacks.EarlyStopping(monitor=\"loss\", patience=5),\n",
    "                 callbacks.ModelCheckpoint(filepath=\"./MVPA_CNN_model.keras\", \n",
    "                                            monitor=\"loss\",\n",
    "                                            save_best_only=True)]\n",
    "\n",
    "# build and compile the model\n",
    "model = build_and_compile_model()\n",
    "\n",
    "# train the model\n",
    "history = model.fit(x_train, y_train,\n",
    "                    epochs=20,\n",
    "                    batch_size=4,\n",
    "                    callbacks=callback_list,\n",
    "                    verbose=1)"
   ]
  },
  {
   "cell_type": "code",
   "execution_count": null,
   "metadata": {},
   "outputs": [],
   "source": []
  },
  {
   "cell_type": "code",
   "execution_count": null,
   "metadata": {},
   "outputs": [],
   "source": []
  },
  {
   "cell_type": "code",
   "execution_count": null,
   "metadata": {},
   "outputs": [],
   "source": []
  }
 ],
 "metadata": {
  "kernelspec": {
   "display_name": "Python 3",
   "language": "python",
   "name": "python3"
  },
  "language_info": {
   "codemirror_mode": {
    "name": "ipython",
    "version": 3
   },
   "file_extension": ".py",
   "mimetype": "text/x-python",
   "name": "python",
   "nbconvert_exporter": "python",
   "pygments_lexer": "ipython3",
   "version": "3.10.8"
  },
  "orig_nbformat": 4,
  "vscode": {
   "interpreter": {
    "hash": "695fa3b5085d3a33b386b9e0bb002d8067f80de939df75f6fbc1e8a95582c89a"
   }
  }
 },
 "nbformat": 4,
 "nbformat_minor": 2
}
