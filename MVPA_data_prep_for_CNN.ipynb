{
 "cells": [
  {
   "cell_type": "code",
   "execution_count": 1,
   "metadata": {},
   "outputs": [],
   "source": [
    "# TODO: use cross-validation to get a better estimate of the model performance\n",
    "\n",
    "# NOTE: bath normalization and residual connection are especially important for deep networks\n",
    "\n",
    "# TODO: save the best model and load it again to make predictions on the test data\n",
    "\n",
    "# TODO: do I only need to normalize the test data? \n",
    "#       Or only take the mean and std of the training data and apply it to all data?\n",
    "\n",
    "# TODO: add hyperparameter tuning\n",
    "\n",
    "# TODO: maybe data augmentation helps to improve the model performance"
   ]
  },
  {
   "cell_type": "code",
   "execution_count": 2,
   "metadata": {},
   "outputs": [],
   "source": [
    "import nibabel as nib\n",
    "import nilearn as nil\n",
    "import scipy.ndimage as ndi\n",
    "import matplotlib.pyplot as plt\n",
    "import os\n",
    "import pandas as pd\n",
    "import numpy as np\n",
    "\n",
    "from sklearn.model_selection import train_test_split, KFold, StratifiedKFold\n",
    "import tensorflow as tf\n",
    "from tensorflow import keras\n",
    "from tensorflow.keras import layers, regularizers, callbacks"
   ]
  },
  {
   "cell_type": "code",
   "execution_count": 3,
   "metadata": {},
   "outputs": [
    {
     "data": {
      "text/html": [
       "<div>\n",
       "<style scoped>\n",
       "    .dataframe tbody tr th:only-of-type {\n",
       "        vertical-align: middle;\n",
       "    }\n",
       "\n",
       "    .dataframe tbody tr th {\n",
       "        vertical-align: top;\n",
       "    }\n",
       "\n",
       "    .dataframe thead th {\n",
       "        text-align: right;\n",
       "    }\n",
       "</style>\n",
       "<table border=\"1\" class=\"dataframe\">\n",
       "  <thead>\n",
       "    <tr style=\"text-align: right;\">\n",
       "      <th></th>\n",
       "      <th>Conn_SubjNr</th>\n",
       "      <th>VPNr</th>\n",
       "      <th>Cond</th>\n",
       "    </tr>\n",
       "  </thead>\n",
       "  <tbody>\n",
       "    <tr>\n",
       "      <th>63</th>\n",
       "      <td>64</td>\n",
       "      <td>80</td>\n",
       "      <td>0</td>\n",
       "    </tr>\n",
       "    <tr>\n",
       "      <th>64</th>\n",
       "      <td>65</td>\n",
       "      <td>83</td>\n",
       "      <td>0</td>\n",
       "    </tr>\n",
       "    <tr>\n",
       "      <th>65</th>\n",
       "      <td>66</td>\n",
       "      <td>86</td>\n",
       "      <td>1</td>\n",
       "    </tr>\n",
       "    <tr>\n",
       "      <th>66</th>\n",
       "      <td>67</td>\n",
       "      <td>87</td>\n",
       "      <td>1</td>\n",
       "    </tr>\n",
       "    <tr>\n",
       "      <th>67</th>\n",
       "      <td>68</td>\n",
       "      <td>88</td>\n",
       "      <td>0</td>\n",
       "    </tr>\n",
       "  </tbody>\n",
       "</table>\n",
       "</div>"
      ],
      "text/plain": [
       "    Conn_SubjNr  VPNr  Cond\n",
       "63           64    80     0\n",
       "64           65    83     0\n",
       "65           66    86     1\n",
       "66           67    87     1\n",
       "67           68    88     0"
      ]
     },
     "execution_count": 3,
     "metadata": {},
     "output_type": "execute_result"
    }
   ],
   "source": [
    "# read in the excel-file with the labels\n",
    "label_path = \"X:/MasterThesis_Reto\"\n",
    "label_file = \"Conn_IDs_Matching.xlsx\"\n",
    "# read excel with only the first three columns\n",
    "label_df = (pd.read_excel(os.path.join(label_path, label_file),\n",
    "                            usecols=[0, 1, 2])\n",
    "            .replace({\"Cond\": {1: 0}})\n",
    "            .replace({\"Cond\": {2: 1}})\n",
    "            )\n",
    "\n",
    "label_df[-5:]"
   ]
  },
  {
   "cell_type": "code",
   "execution_count": 4,
   "metadata": {},
   "outputs": [
    {
     "name": "stdout",
     "output_type": "stream",
     "text": [
      "['BETA_Subject001_Condition002_Measure002_Component001.nii', 'BETA_Subject002_Condition002_Measure002_Component001.nii', 'BETA_Subject003_Condition002_Measure002_Component001.nii', 'BETA_Subject004_Condition002_Measure002_Component001.nii', 'BETA_Subject005_Condition002_Measure002_Component001.nii']\n"
     ]
    }
   ],
   "source": [
    "# read MVPA data\n",
    "file_path = \"X:/MasterThesis_Reto/Denoised_Data_6mm\"\n",
    "path_content = os.listdir(os.path.join(file_path, \"MVPA_data\"))\n",
    "\n",
    "# make two lists with pre (Condition002) and post (Condition003) data of first component\n",
    "comp1_pre = sorted([x for x in path_content \n",
    "                    if \"Component001\" in x \n",
    "                    and \"Condition002\" in x])\n",
    "comp1_post = sorted([x for x in path_content \n",
    "                    if \"Component001\" in x \n",
    "                    and \"Condition003\" in x])\n",
    "\n",
    "print(comp1_pre[:5])"
   ]
  },
  {
   "cell_type": "code",
   "execution_count": 5,
   "metadata": {},
   "outputs": [
    {
     "name": "stdout",
     "output_type": "stream",
     "text": [
      "(91, 109, 91)\n",
      "<class 'numpy.ndarray'>\n"
     ]
    }
   ],
   "source": [
    "# create a dataset with the difference of pre and post data\n",
    "comp1_diff = []\n",
    "for pre, post in zip(comp1_pre, comp1_post):\n",
    "    pre_vol = nib.load(os.path.join(file_path, \"MVPA_data\", pre))\n",
    "    post_vol = nib.load(os.path.join(file_path, \"MVPA_data\", post))\n",
    "    pre_vol_data = pre_vol.get_fdata()\n",
    "    post_vol_data = post_vol.get_fdata()\n",
    "    diff_vol_data = post_vol_data - pre_vol_data\n",
    "    comp1_diff.append(diff_vol_data)\n",
    "\n",
    "# check the shape of the data\n",
    "print(comp1_diff[0].shape)\n",
    "\n",
    "# check the type of the data\n",
    "print(type(comp1_diff[0]))\n",
    "\n",
    "# takes about 4 mins to run on Dell"
   ]
  },
  {
   "cell_type": "code",
   "execution_count": 6,
   "metadata": {},
   "outputs": [
    {
     "name": "stdout",
     "output_type": "stream",
     "text": [
      "shape of one list element before stacking: comp1_diff[0].shape=(91, 109, 91)\n",
      "inpt_comp1_diff.shape=(68, 91, 109, 91, 1)\n",
      "inpt_comp1_diff.mean()=1.2019033790773762e-16\n",
      "inpt_comp1_diff.std()=0.9999999999999889\n"
     ]
    }
   ],
   "source": [
    "# stack the data to later use it as input for the CNN\n",
    "# note: the first dimension is the number of samples\n",
    "print(f\"shape of one list element before stacking: {comp1_diff[0].shape=}\")\n",
    "inpt_comp1_diff = np.stack(comp1_diff, axis=0)\n",
    "\n",
    "# expand the dimensions to fit the input shape of the CNN\n",
    "# note: the last dimension is the number of channels\n",
    "inpt_comp1_diff = np.expand_dims(inpt_comp1_diff, axis=-1)\n",
    "\n",
    "# normalize the input data (zero mean, unit variance)\n",
    "# note: a CNN works best with normalized data\n",
    "inpt_comp1_diff = (inpt_comp1_diff - inpt_comp1_diff.mean()) / inpt_comp1_diff.std()\n",
    "\n",
    "print(f\"{inpt_comp1_diff.shape=}\",\n",
    "      f\"{inpt_comp1_diff.mean()=}\",\n",
    "      f\"{inpt_comp1_diff.std()=}\", sep=\"\\n\")"
   ]
  },
  {
   "cell_type": "code",
   "execution_count": 7,
   "metadata": {},
   "outputs": [
    {
     "name": "stdout",
     "output_type": "stream",
     "text": [
      "x_train.shape=(54, 91, 109, 91, 1)\n",
      "x_test.shape=(14, 91, 109, 91, 1)\n",
      "y_train.shape=(54,)\n",
      "y_test.shape=(14,)\n"
     ]
    }
   ],
   "source": [
    "# split the data into training and test data\n",
    "# use 80% of the data for training and 20% for testing\n",
    "x_train, x_test, y_train, y_test = train_test_split(inpt_comp1_diff, \n",
    "                                                    label_df[\"Cond\"], \n",
    "                                                    test_size=0.2,\n",
    "                                                    random_state=42)\n",
    "\n",
    "# check the shape of the data\n",
    "print(f\"{x_train.shape=}\",\n",
    "        f\"{x_test.shape=}\",\n",
    "        f\"{y_train.shape=}\",\n",
    "        f\"{y_test.shape=}\", sep=\"\\n\")\n",
    "\n",
    "# prepare for k-fold cross-validation\n",
    "# note: StratifiedKFold ensures that the proportion of samples of each class is the same in each fold\n",
    "nbr_of_folds = 12\n",
    "kfold = StratifiedKFold(n_splits=nbr_of_folds, shuffle=True, random_state=42)"
   ]
  },
  {
   "cell_type": "code",
   "execution_count": 8,
   "metadata": {},
   "outputs": [],
   "source": [
    "# built a keras CNN model with functional API\n",
    "def build_and_compile_model(summary=False):\n",
    "    inputs = keras.Input(shape=(inpt_comp1_diff.shape[1:]))\n",
    "    x = layers.Conv3D(filters=16, kernel_size=3, \n",
    "                        kernel_regularizer=regularizers.l2(0.002),\n",
    "                        activation=\"relu\") (inputs)\n",
    "    x = layers.MaxPooling3D(pool_size=3, \n",
    "                            strides=3, \n",
    "                            padding='valid') (x)\n",
    "    x = layers.Conv3D(filters=32, kernel_size=3, \n",
    "                        kernel_regularizer=regularizers.l2(0.002), \n",
    "                        activation=\"relu\") (x)\n",
    "    # x = layers.MaxPooling3D(pool_size=3, \n",
    "    #                         strides=3, \n",
    "    #                         padding='valid')(x)\n",
    "    # x = layers.Conv3D(filters=32, kernel_size=3, \n",
    "    #                     kernel_regularizer=regularizers.l2(0.002), \n",
    "    #                     activation=\"relu\")(x)\n",
    "    x = layers.Flatten() (x)\n",
    "    x = layers.Dense(128, activation=\"relu\",\n",
    "                        kernel_regularizer=regularizers.l2(0.002)) (x)\n",
    "    x = layers.Dense(64, activation=\"relu\",\n",
    "                        kernel_regularizer=regularizers.l2(0.002)) (x)\n",
    "    outputs = layers.Dense(1, activation=\"sigmoid\") (x)\n",
    "\n",
    "    # define the model\n",
    "    model = keras.Model(inputs=inputs, outputs=outputs)\n",
    "\n",
    "    if summary == True:\n",
    "        model.summary()\n",
    "\n",
    "    # compile the model\n",
    "    my_optimizer = keras.optimizers.RMSprop(learning_rate=0.0001)\n",
    "    model.compile(optimizer=my_optimizer,\n",
    "                    loss='binary_crossentropy',\n",
    "                    metrics=[\"Accuracy\"])\n",
    "\n",
    "    return model"
   ]
  },
  {
   "cell_type": "code",
   "execution_count": null,
   "metadata": {},
   "outputs": [],
   "source": [
    "# callback to stop training when loss does not improve anymore and save the best model\n",
    "callback_list = [callbacks.EarlyStopping(monitor=\"val_loss\", patience=5),\n",
    "                 callbacks.ModelCheckpoint(filepath=\"./MVPA_CNN_model_cv.keras\", \n",
    "                                            monitor=\"val_loss\",\n",
    "                                            save_best_only=True)]\n",
    "\n",
    "# create empty lists to store the results of the k-fold cross-validation\n",
    "val_loss = []\n",
    "val_acc = []\n",
    "history_list = []\n",
    "\n",
    "# k-fold cross-validation\n",
    "for fold, (train_idx, test_idx) in enumerate(kfold.split(x_train, y_train)):\n",
    "    if fold == 0:\n",
    "        print(f\"cross validation started...\", \n",
    "                f\"size of the training data: {len(train_idx)}\",\n",
    "                f\"size of the test data: {len(test_idx)}\", \n",
    "                sep=\"\\n\")\n",
    "\n",
    "    # create the folds\n",
    "    print(f\"Fold {fold+1} of {nbr_of_folds}\")\n",
    "    x_train_fold = x_train[train_idx]\n",
    "    x_test_fold = x_train[test_idx]\n",
    "    y_train_fold = y_train.iloc[train_idx]\n",
    "    y_test_fold = y_train.iloc[test_idx]\n",
    "\n",
    "    # print shape of the folds\n",
    "    # print(f\"{x_train_fold.shape=}\",\n",
    "    #     f\"{x_test_fold.shape=}\",\n",
    "    #     f\"{y_train_fold.shape=}\",\n",
    "    #     f\"{y_test_fold.shape=}\", sep=\"\\n\")\n",
    "\n",
    "    # build and compile the model\n",
    "    model = build_and_compile_model()\n",
    "\n",
    "    # train the model\n",
    "    history = model.fit(x_train_fold, y_train_fold,\n",
    "                        epochs=20,\n",
    "                        batch_size=4,\n",
    "                        validation_data=(x_test_fold, y_test_fold),\n",
    "                        callbacks=callback_list,\n",
    "                        verbose=1)\n",
    "    history_list.append(history)\n",
    "\n",
    "    # evaluate the model\n",
    "    fold_loss = model.evaluate(x_test_fold, y_test_fold, verbose=0)[0]\n",
    "    fold_acc = model.evaluate(x_test_fold, y_test_fold, verbose=0)[1]\n",
    "    val_loss.append(fold_loss)\n",
    "    val_acc.append(fold_acc)\n",
    "    print(f\"Loss: {fold_loss}\", f\"Accuracy: {fold_acc}\", sep=\"\\n\")\n",
    "\n",
    "# print the mean of the validation loss and accuracy\n",
    "print(f\"Mean validation loss: {np.mean(val_loss)}\",\n",
    "        f\"Mean validation accuracy: {np.mean(val_acc)}\", sep=\"\\n\")\n",
    "        \n",
    "# save the model\n",
    "# model.save(\"X:/MasterThesis_Reto/3d_cnn_model\")"
   ]
  },
  {
   "cell_type": "code",
   "execution_count": null,
   "metadata": {},
   "outputs": [],
   "source": [
    "# create subplot to show all folds\n",
    "fig, axs = plt.subplots(3, 4, figsize=(12, 6))\n",
    "axs = axs.ravel()\n",
    "for i, history in enumerate(history_list):\n",
    "    axs[i].plot(history.history[\"loss\"][1:])\n",
    "    axs[i].plot(history.history[\"val_loss\"][1:])\n",
    "    axs[i].plot(history.history[\"Accuracy\"][1:])\n",
    "    axs[i].plot(history.history[\"val_Accuracy\"][1:])\n",
    "    axs[i].set_title(f\"Fold {i+1}\")\n",
    "    axs[i].set_ylabel(\"loss\")\n",
    "    axs[i].set_xlabel(\"epoch\")\n",
    "    axs[i].grid()\n",
    "\n",
    "fig.tight_layout()\n",
    "fig.legend([\"loss\", \"val_loss\", \"accuracy\", \"val_Accuracy\"])\n"
   ]
  },
  {
   "cell_type": "code",
   "execution_count": null,
   "metadata": {},
   "outputs": [],
   "source": [
    "\n",
    "# plot the training history\n",
    "fig = plt.figure(figsize=(8, 4))\n",
    "plt.plot(history.history[\"loss\"])\n",
    "plt.plot(history.history[\"val_loss\"])\n",
    "plt.plot(history.history[\"Accuracy\"])\n",
    "plt.plot(history.history[\"val_Accuracy\"])\n",
    "plt.title(\"training history\")\n",
    "plt.ylabel(\"loss\")\n",
    "plt.xlabel(\"epoch\")\n",
    "plt.legend([\"loss\", \"val_loss\", \"accuracy\", \"val_Accuracy\"], loc=\"upper left\")\n",
    "plt.grid()\n",
    "plt.show()"
   ]
  },
  {
   "cell_type": "code",
   "execution_count": 134,
   "metadata": {},
   "outputs": [
    {
     "name": "stdout",
     "output_type": "stream",
     "text": [
      "Epoch 1/20\n",
      "14/14 [==============================] - 19s 1s/step - loss: 63.1418 - Accuracy: 0.4444\n",
      "Epoch 2/20\n",
      "14/14 [==============================] - 21s 2s/step - loss: 0.8762 - Accuracy: 0.7037\n",
      "Epoch 3/20\n",
      "14/14 [==============================] - 19s 1s/step - loss: 0.3974 - Accuracy: 0.8889\n",
      "Epoch 4/20\n",
      "14/14 [==============================] - 24s 2s/step - loss: 0.0551 - Accuracy: 1.0000\n",
      "Epoch 5/20\n",
      "14/14 [==============================] - 27s 2s/step - loss: 0.0471 - Accuracy: 1.0000\n",
      "Epoch 6/20\n",
      "14/14 [==============================] - 29s 2s/step - loss: 0.0464 - Accuracy: 1.0000\n",
      "Epoch 7/20\n",
      "14/14 [==============================] - 26s 2s/step - loss: 0.0458 - Accuracy: 1.0000\n",
      "Epoch 8/20\n",
      "14/14 [==============================] - 24s 2s/step - loss: 0.0451 - Accuracy: 1.0000\n",
      "Epoch 9/20\n",
      "14/14 [==============================] - 19s 1s/step - loss: 0.0440 - Accuracy: 1.0000\n",
      "Epoch 10/20\n",
      "14/14 [==============================] - 20s 1s/step - loss: 0.0423 - Accuracy: 1.0000\n",
      "Epoch 11/20\n",
      "14/14 [==============================] - 20s 1s/step - loss: 0.0397 - Accuracy: 1.0000\n",
      "Epoch 12/20\n",
      "14/14 [==============================] - 21s 2s/step - loss: 0.0359 - Accuracy: 1.0000\n",
      "Epoch 13/20\n",
      "14/14 [==============================] - 21s 1s/step - loss: 0.0305 - Accuracy: 1.0000\n",
      "Epoch 14/20\n",
      "14/14 [==============================] - 22s 2s/step - loss: 0.0236 - Accuracy: 1.0000\n",
      "Epoch 15/20\n",
      "14/14 [==============================] - 23s 2s/step - loss: 0.0160 - Accuracy: 1.0000\n",
      "Epoch 16/20\n",
      "14/14 [==============================] - 20s 1s/step - loss: 2.8566 - Accuracy: 0.8519\n",
      "Epoch 17/20\n",
      "14/14 [==============================] - 18s 1s/step - loss: 0.1423 - Accuracy: 0.9815\n",
      "Epoch 18/20\n",
      "14/14 [==============================] - 21s 1s/step - loss: 0.0124 - Accuracy: 1.0000\n",
      "Epoch 19/20\n",
      "14/14 [==============================] - 17s 1s/step - loss: 0.0103 - Accuracy: 1.0000\n",
      "Epoch 20/20\n",
      "14/14 [==============================] - 18s 1s/step - loss: 0.0101 - Accuracy: 1.0000\n"
     ]
    },
    {
     "data": {
      "text/plain": [
       "[1.3211796283721924, 0.5714285969734192]"
      ]
     },
     "execution_count": 134,
     "metadata": {},
     "output_type": "execute_result"
    }
   ],
   "source": [
    "# train with entire training data (no validation data)\n",
    "# callback to stop training when loss does not improve anymore and save the best model\n",
    "callback_list = [callbacks.EarlyStopping(monitor=\"loss\", patience=5),\n",
    "                 callbacks.ModelCheckpoint(filepath=\"./MVPA_CNN_model.keras\", \n",
    "                                            monitor=\"loss\",\n",
    "                                            save_best_only=True)]\n",
    "\n",
    "# build and compile the model\n",
    "model = build_and_compile_model()\n",
    "\n",
    "# train the model\n",
    "history = model.fit(x_train, y_train,\n",
    "                    epochs=20,\n",
    "                    batch_size=4,\n",
    "                    callbacks=callback_list,\n",
    "                    verbose=1)\n",
    "\n",
    "# load the best model\n",
    "model = keras.models.load_model(\"./MVPA_CNN_model.keras\")\n",
    "\n",
    "# evaluate the model\n",
    "model.evaluate(x_test, y_test, verbose=0)"
   ]
  },
  {
   "cell_type": "code",
   "execution_count": null,
   "metadata": {},
   "outputs": [],
   "source": []
  },
  {
   "cell_type": "code",
   "execution_count": null,
   "metadata": {},
   "outputs": [],
   "source": []
  },
  {
   "cell_type": "code",
   "execution_count": null,
   "metadata": {},
   "outputs": [],
   "source": []
  },
  {
   "cell_type": "code",
   "execution_count": null,
   "metadata": {},
   "outputs": [],
   "source": []
  },
  {
   "cell_type": "code",
   "execution_count": null,
   "metadata": {},
   "outputs": [],
   "source": []
  },
  {
   "cell_type": "code",
   "execution_count": null,
   "metadata": {},
   "outputs": [],
   "source": []
  },
  {
   "cell_type": "code",
   "execution_count": null,
   "metadata": {},
   "outputs": [],
   "source": []
  },
  {
   "cell_type": "code",
   "execution_count": null,
   "metadata": {},
   "outputs": [],
   "source": []
  }
 ],
 "metadata": {
  "kernelspec": {
   "display_name": "Python 3",
   "language": "python",
   "name": "python3"
  },
  "language_info": {
   "codemirror_mode": {
    "name": "ipython",
    "version": 3
   },
   "file_extension": ".py",
   "mimetype": "text/x-python",
   "name": "python",
   "nbconvert_exporter": "python",
   "pygments_lexer": "ipython3",
   "version": "3.10.9"
  },
  "orig_nbformat": 4,
  "vscode": {
   "interpreter": {
    "hash": "ce8e642e0bab70a01c7f1eb29cf94eaf490dba07737c04ff0bc7c578db285ada"
   }
  }
 },
 "nbformat": 4,
 "nbformat_minor": 2
}
