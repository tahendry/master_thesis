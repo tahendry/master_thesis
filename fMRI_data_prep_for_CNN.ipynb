{
 "cells": [
  {
   "cell_type": "code",
   "execution_count": 1,
   "metadata": {},
   "outputs": [],
   "source": [
    "import nibabel as nib\n",
    "import nilearn as nil\n",
    "import scipy.ndimage as ndi\n",
    "import matplotlib.pyplot as plt\n",
    "import os\n",
    "import pandas as pd"
   ]
  },
  {
   "cell_type": "code",
   "execution_count": 2,
   "metadata": {},
   "outputs": [],
   "source": [
    "# path to data\n",
    "#  - on Windows: C:/Users/tahendry/Desktop/Masterthesis_Reto/\n",
    "#  - on Linux:   ../data/\n",
    "\n",
    "try:\n",
    "    print(os.uname())\n",
    "    data_path = \"../data/\"\n",
    "except:\n",
    "    print(\"Windows\")\n",
    "    data_path = \"C:/Users/tahendry/Desktop/Masterthesis_Reto/\"\n",
    "\n",
    "\n",
    "# fMRI file\n",
    "path_content = os.listdir(os.path.join(data_path, \"Denoised_Data_6mm\"))\n",
    "brain_vol = nib.load(os.path.join(data_path, \"Denoised_Data_6mm\", path_content[-1]))"
   ]
  },
  {
   "cell_type": "code",
   "execution_count": 3,
   "metadata": {},
   "outputs": [
    {
     "name": "stdout",
     "output_type": "stream",
     "text": [
      "<class 'numpy.memmap'>\n",
      "(91, 109, 91, 1200)\n"
     ]
    }
   ],
   "source": [
    "# load data into numpy array (numpy.memmap)\n",
    "brain_vol_data = brain_vol.get_fdata()\n",
    "print(type(brain_vol_data))\n",
    "print(brain_vol_data.shape)\n"
   ]
  },
  {
   "cell_type": "code",
   "execution_count": 4,
   "metadata": {},
   "outputs": [
    {
     "name": "stdout",
     "output_type": "stream",
     "text": [
      "(91, 109, 91, 600)\n",
      "(91, 109, 91, 600)\n"
     ]
    }
   ],
   "source": [
    "# separate data into pre and post\n",
    "brain_vol_data_pre = brain_vol_data[:,:,:,0:600]\n",
    "brain_vol_data_post = brain_vol_data[:,:,:,600:1200]\n",
    "print(brain_vol_data_pre.shape)\n",
    "print(brain_vol_data_post.shape)"
   ]
  },
  {
   "cell_type": "code",
   "execution_count": null,
   "metadata": {},
   "outputs": [],
   "source": [
    "# "
   ]
  },
  {
   "cell_type": "code",
   "execution_count": null,
   "metadata": {},
   "outputs": [],
   "source": []
  },
  {
   "cell_type": "code",
   "execution_count": null,
   "metadata": {},
   "outputs": [],
   "source": []
  }
 ],
 "metadata": {
  "kernelspec": {
   "display_name": "Python 3",
   "language": "python",
   "name": "python3"
  },
  "language_info": {
   "codemirror_mode": {
    "name": "ipython",
    "version": 3
   },
   "file_extension": ".py",
   "mimetype": "text/x-python",
   "name": "python",
   "nbconvert_exporter": "python",
   "pygments_lexer": "ipython3",
   "version": "3.10.8 (main, Nov 24 2022, 14:13:03) [GCC 11.2.0]"
  },
  "orig_nbformat": 4,
  "vscode": {
   "interpreter": {
    "hash": "695fa3b5085d3a33b386b9e0bb002d8067f80de939df75f6fbc1e8a95582c89a"
   }
  }
 },
 "nbformat": 4,
 "nbformat_minor": 2
}
