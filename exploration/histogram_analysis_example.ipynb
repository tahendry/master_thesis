{
 "cells": [
  {
   "attachments": {},
   "cell_type": "markdown",
   "metadata": {},
   "source": [
    "## What is this notebook for?\n",
    "\n",
    "This scripts it to test:\n",
    "- the reshaping of the 3d array\n",
    "- test of histogram calculations\n",
    "- test of cumulative histogram comparison\n",
    "- select best feature\n"
   ]
  },
  {
   "attachments": {},
   "cell_type": "markdown",
   "metadata": {},
   "source": [
    "#### Import libraries"
   ]
  },
  {
   "cell_type": "code",
   "execution_count": 858,
   "metadata": {},
   "outputs": [],
   "source": [
    "import numpy as np\n",
    "import pandas as pd\n",
    "import matplotlib.pyplot as plt\n",
    "from matplotlib.lines import Line2D\n",
    "import matplotlib.patches as mpatches\n",
    "from scipy.stats import norm\n",
    "from mpl_toolkits.mplot3d import Axes3D\n",
    "import sys\n",
    "import os\n",
    "\n",
    "sys.path.append(os.path.abspath(os.path.join(os.getcwd(), os.pardir)))\n",
    "from functions.function_resample_4d_array import resample_4d_array\n",
    "from functions.function_plot_3d_array_colored import plot_3d_array_colored\n",
    "from functions.function_get_feature_positions import get_feature_positions"
   ]
  },
  {
   "attachments": {},
   "cell_type": "markdown",
   "metadata": {},
   "source": [
    "#### create an entire list of arrays\n",
    "\n",
    "the shape should be the following (sample, x, y, z)\n"
   ]
  },
  {
   "cell_type": "code",
   "execution_count": 859,
   "metadata": {},
   "outputs": [
    {
     "name": "stdout",
     "output_type": "stream",
     "text": [
      "Resampling in progress...\n"
     ]
    },
    {
     "name": "stderr",
     "output_type": "stream",
     "text": [
      "100%|██████████| 100/100 [00:00<00:00, 165.52it/s]\n"
     ]
    },
    {
     "data": {
      "text/plain": [
       "<function matplotlib.pyplot.show(close=None, block=None)>"
      ]
     },
     "execution_count": 859,
     "metadata": {},
     "output_type": "execute_result"
    },
    {
     "data": {
      "image/png": "[encoded data removed]",
      "text/plain": [
       "<Figure size 800x400 with 2 Axes>"
      ]
     },
     "metadata": {},
     "output_type": "display_data"
    }
   ],
   "source": [
    "# create an entire list of arrays\n",
    "# the shape should be the following (sample, x, y, z) = (100, 91, 109, 91)\n",
    "arr_big = np.random.rand(100, 91, 109, 91)\n",
    "\n",
    "# reshape the list of arrays\n",
    "arr_small = resample_4d_array(arr_big, 5)\n",
    "\n",
    "# plot histogram of big and small arr\n",
    "fig = plt.figure(figsize=(8, 4))\n",
    "ax1 = fig.add_subplot(121)\n",
    "ax1.hist(arr_big.flatten(), bins=100)\n",
    "ax2 = fig.add_subplot(122)\n",
    "ax2.hist(arr_small.flatten(), bins=100)\n",
    "plt.show"
   ]
  },
  {
   "cell_type": "code",
   "execution_count": 860,
   "metadata": {},
   "outputs": [
    {
     "data": {
      "text/plain": [
       "(100, 19, 22, 19)"
      ]
     },
     "execution_count": 860,
     "metadata": {},
     "output_type": "execute_result"
    }
   ],
   "source": [
    "arr_small.shape"
   ]
  },
  {
   "attachments": {},
   "cell_type": "markdown",
   "metadata": {},
   "source": [
    "#### ground truth array"
   ]
  },
  {
   "cell_type": "code",
   "execution_count": 861,
   "metadata": {},
   "outputs": [
    {
     "name": "stdout",
     "output_type": "stream",
     "text": [
      "number of 0: 43 number of 1: 57\n"
     ]
    }
   ],
   "source": [
    "# array which represents the ground truth with 0 and 1\n",
    "np.random.seed(20)\n",
    "arr_gt = np.random.rand(100)\n",
    "arr_gt[arr_gt < 0.5] = 0\n",
    "arr_gt[arr_gt >= 0.5] = 1\n",
    "\n",
    "# count the number of 0 and 1 in the ground truth\n",
    "print(f\"number of 0: {np.count_nonzero(arr_gt == 0)}\",\n",
    "      f\"number of 1: {np.count_nonzero(arr_gt == 1)}\")"
   ]
  },
  {
   "cell_type": "code",
   "execution_count": 862,
   "metadata": {},
   "outputs": [
    {
     "data": {
      "image/png": "[encoded data removed]",
      "text/plain": [
       "<Figure size 800x400 with 1 Axes>"
      ]
     },
     "metadata": {},
     "output_type": "display_data"
    }
   ],
   "source": [
    "# plot histogram of arr_small, colors are different for 0 and 1\n",
    "fig = plt.figure(figsize=(8, 4))\n",
    "ax = fig.add_subplot(121)\n",
    "ax.hist(arr_small[arr_gt == 0].flatten(), bins=100, color='blue')\n",
    "ax.hist(arr_small[arr_gt == 1].flatten(), bins=100, color='red', alpha=0.5)\n",
    "plt.show()"
   ]
  },
  {
   "attachments": {},
   "cell_type": "markdown",
   "metadata": {},
   "source": [
    "### manipulate data to see importance of a feature"
   ]
  },
  {
   "cell_type": "code",
   "execution_count": 863,
   "metadata": {},
   "outputs": [
    {
     "name": "stdout",
     "output_type": "stream",
     "text": [
      "shape of arr_small_2d: (100, 7942)\n"
     ]
    }
   ],
   "source": [
    "# flatten the arr_small into a 2d array (keep the sample dimension)\n",
    "arr_small_2d = arr_small.reshape(arr_small.shape[0], -1)\n",
    "print(f\"shape of arr_small_2d: {arr_small_2d.shape}\")"
   ]
  },
  {
   "cell_type": "code",
   "execution_count": 864,
   "metadata": {},
   "outputs": [
    {
     "data": {
      "text/html": [
       "<div>\n",
       "<style scoped>\n",
       "    .dataframe tbody tr th:only-of-type {\n",
       "        vertical-align: middle;\n",
       "    }\n",
       "\n",
       "    .dataframe tbody tr th {\n",
       "        vertical-align: top;\n",
       "    }\n",
       "\n",
       "    .dataframe thead th {\n",
       "        text-align: right;\n",
       "    }\n",
       "</style>\n",
       "<table border=\"1\" class=\"dataframe\">\n",
       "  <thead>\n",
       "    <tr style=\"text-align: right;\">\n",
       "      <th></th>\n",
       "      <th>0</th>\n",
       "      <th>1</th>\n",
       "      <th>2</th>\n",
       "      <th>3</th>\n",
       "      <th>4</th>\n",
       "      <th>5</th>\n",
       "      <th>6</th>\n",
       "      <th>7</th>\n",
       "      <th>8</th>\n",
       "      <th>9</th>\n",
       "      <th>...</th>\n",
       "      <th>7933</th>\n",
       "      <th>7934</th>\n",
       "      <th>7935</th>\n",
       "      <th>7936</th>\n",
       "      <th>7937</th>\n",
       "      <th>7938</th>\n",
       "      <th>7939</th>\n",
       "      <th>7940</th>\n",
       "      <th>7941</th>\n",
       "      <th>ground_truth</th>\n",
       "    </tr>\n",
       "  </thead>\n",
       "  <tbody>\n",
       "    <tr>\n",
       "      <th>0</th>\n",
       "      <td>0.169612</td>\n",
       "      <td>0.287115</td>\n",
       "      <td>0.267216</td>\n",
       "      <td>0.275974</td>\n",
       "      <td>0.292110</td>\n",
       "      <td>0.309563</td>\n",
       "      <td>0.317175</td>\n",
       "      <td>0.317421</td>\n",
       "      <td>0.318605</td>\n",
       "      <td>0.314156</td>\n",
       "      <td>...</td>\n",
       "      <td>0.252146</td>\n",
       "      <td>0.246157</td>\n",
       "      <td>0.248025</td>\n",
       "      <td>0.224416</td>\n",
       "      <td>0.272355</td>\n",
       "      <td>0.237474</td>\n",
       "      <td>0.225354</td>\n",
       "      <td>0.249329</td>\n",
       "      <td>0.148723</td>\n",
       "      <td>1.0</td>\n",
       "    </tr>\n",
       "    <tr>\n",
       "      <th>1</th>\n",
       "      <td>0.174351</td>\n",
       "      <td>0.312157</td>\n",
       "      <td>0.327182</td>\n",
       "      <td>0.299184</td>\n",
       "      <td>0.318027</td>\n",
       "      <td>0.297137</td>\n",
       "      <td>0.307573</td>\n",
       "      <td>0.300818</td>\n",
       "      <td>0.300708</td>\n",
       "      <td>0.293664</td>\n",
       "      <td>...</td>\n",
       "      <td>0.214095</td>\n",
       "      <td>0.247493</td>\n",
       "      <td>0.249782</td>\n",
       "      <td>0.228567</td>\n",
       "      <td>0.204650</td>\n",
       "      <td>0.273847</td>\n",
       "      <td>0.222434</td>\n",
       "      <td>0.255746</td>\n",
       "      <td>0.142763</td>\n",
       "      <td>1.0</td>\n",
       "    </tr>\n",
       "    <tr>\n",
       "      <th>2</th>\n",
       "      <td>0.193988</td>\n",
       "      <td>0.290224</td>\n",
       "      <td>0.265105</td>\n",
       "      <td>0.288137</td>\n",
       "      <td>0.269287</td>\n",
       "      <td>0.269702</td>\n",
       "      <td>0.311207</td>\n",
       "      <td>0.259355</td>\n",
       "      <td>0.309963</td>\n",
       "      <td>0.319975</td>\n",
       "      <td>...</td>\n",
       "      <td>0.250615</td>\n",
       "      <td>0.224553</td>\n",
       "      <td>0.217835</td>\n",
       "      <td>0.226266</td>\n",
       "      <td>0.208134</td>\n",
       "      <td>0.237345</td>\n",
       "      <td>0.222377</td>\n",
       "      <td>0.243450</td>\n",
       "      <td>0.153754</td>\n",
       "      <td>1.0</td>\n",
       "    </tr>\n",
       "    <tr>\n",
       "      <th>3</th>\n",
       "      <td>0.204246</td>\n",
       "      <td>0.321680</td>\n",
       "      <td>0.307463</td>\n",
       "      <td>0.295943</td>\n",
       "      <td>0.309413</td>\n",
       "      <td>0.272664</td>\n",
       "      <td>0.284972</td>\n",
       "      <td>0.288657</td>\n",
       "      <td>0.273974</td>\n",
       "      <td>0.280432</td>\n",
       "      <td>...</td>\n",
       "      <td>0.243889</td>\n",
       "      <td>0.265660</td>\n",
       "      <td>0.216987</td>\n",
       "      <td>0.233821</td>\n",
       "      <td>0.219136</td>\n",
       "      <td>0.245737</td>\n",
       "      <td>0.234042</td>\n",
       "      <td>0.250238</td>\n",
       "      <td>0.130056</td>\n",
       "      <td>1.0</td>\n",
       "    </tr>\n",
       "    <tr>\n",
       "      <th>4</th>\n",
       "      <td>0.164443</td>\n",
       "      <td>0.280707</td>\n",
       "      <td>0.308290</td>\n",
       "      <td>0.263307</td>\n",
       "      <td>0.323898</td>\n",
       "      <td>0.281310</td>\n",
       "      <td>0.320523</td>\n",
       "      <td>0.335187</td>\n",
       "      <td>0.328307</td>\n",
       "      <td>0.300530</td>\n",
       "      <td>...</td>\n",
       "      <td>0.202840</td>\n",
       "      <td>0.237048</td>\n",
       "      <td>0.227414</td>\n",
       "      <td>0.214180</td>\n",
       "      <td>0.214628</td>\n",
       "      <td>0.267634</td>\n",
       "      <td>0.216995</td>\n",
       "      <td>0.238549</td>\n",
       "      <td>0.143976</td>\n",
       "      <td>0.0</td>\n",
       "    </tr>\n",
       "    <tr>\n",
       "      <th>...</th>\n",
       "      <td>...</td>\n",
       "      <td>...</td>\n",
       "      <td>...</td>\n",
       "      <td>...</td>\n",
       "      <td>...</td>\n",
       "      <td>...</td>\n",
       "      <td>...</td>\n",
       "      <td>...</td>\n",
       "      <td>...</td>\n",
       "      <td>...</td>\n",
       "      <td>...</td>\n",
       "      <td>...</td>\n",
       "      <td>...</td>\n",
       "      <td>...</td>\n",
       "      <td>...</td>\n",
       "      <td>...</td>\n",
       "      <td>...</td>\n",
       "      <td>...</td>\n",
       "      <td>...</td>\n",
       "      <td>...</td>\n",
       "      <td>...</td>\n",
       "    </tr>\n",
       "    <tr>\n",
       "      <th>95</th>\n",
       "      <td>0.193887</td>\n",
       "      <td>0.311407</td>\n",
       "      <td>0.295306</td>\n",
       "      <td>0.306601</td>\n",
       "      <td>0.309750</td>\n",
       "      <td>0.262811</td>\n",
       "      <td>0.308039</td>\n",
       "      <td>0.253587</td>\n",
       "      <td>0.299421</td>\n",
       "      <td>0.300691</td>\n",
       "      <td>...</td>\n",
       "      <td>0.236482</td>\n",
       "      <td>0.205081</td>\n",
       "      <td>0.243518</td>\n",
       "      <td>0.245286</td>\n",
       "      <td>0.244349</td>\n",
       "      <td>0.251241</td>\n",
       "      <td>0.260278</td>\n",
       "      <td>0.221804</td>\n",
       "      <td>0.124396</td>\n",
       "      <td>1.0</td>\n",
       "    </tr>\n",
       "    <tr>\n",
       "      <th>96</th>\n",
       "      <td>0.170302</td>\n",
       "      <td>0.309465</td>\n",
       "      <td>0.305120</td>\n",
       "      <td>0.326540</td>\n",
       "      <td>0.266642</td>\n",
       "      <td>0.276798</td>\n",
       "      <td>0.312877</td>\n",
       "      <td>0.278921</td>\n",
       "      <td>0.303688</td>\n",
       "      <td>0.306108</td>\n",
       "      <td>...</td>\n",
       "      <td>0.234012</td>\n",
       "      <td>0.255663</td>\n",
       "      <td>0.260661</td>\n",
       "      <td>0.240933</td>\n",
       "      <td>0.239136</td>\n",
       "      <td>0.241369</td>\n",
       "      <td>0.249543</td>\n",
       "      <td>0.244317</td>\n",
       "      <td>0.131487</td>\n",
       "      <td>1.0</td>\n",
       "    </tr>\n",
       "    <tr>\n",
       "      <th>97</th>\n",
       "      <td>0.182120</td>\n",
       "      <td>0.310193</td>\n",
       "      <td>0.316029</td>\n",
       "      <td>0.310702</td>\n",
       "      <td>0.299148</td>\n",
       "      <td>0.253041</td>\n",
       "      <td>0.313074</td>\n",
       "      <td>0.305207</td>\n",
       "      <td>0.295551</td>\n",
       "      <td>0.297633</td>\n",
       "      <td>...</td>\n",
       "      <td>0.246526</td>\n",
       "      <td>0.216176</td>\n",
       "      <td>0.224410</td>\n",
       "      <td>0.222098</td>\n",
       "      <td>0.252650</td>\n",
       "      <td>0.224410</td>\n",
       "      <td>0.233877</td>\n",
       "      <td>0.232398</td>\n",
       "      <td>0.143704</td>\n",
       "      <td>1.0</td>\n",
       "    </tr>\n",
       "    <tr>\n",
       "      <th>98</th>\n",
       "      <td>0.179467</td>\n",
       "      <td>0.296477</td>\n",
       "      <td>0.295687</td>\n",
       "      <td>0.279144</td>\n",
       "      <td>0.313435</td>\n",
       "      <td>0.265706</td>\n",
       "      <td>0.303281</td>\n",
       "      <td>0.310336</td>\n",
       "      <td>0.268573</td>\n",
       "      <td>0.265657</td>\n",
       "      <td>...</td>\n",
       "      <td>0.236000</td>\n",
       "      <td>0.218042</td>\n",
       "      <td>0.218620</td>\n",
       "      <td>0.226480</td>\n",
       "      <td>0.263035</td>\n",
       "      <td>0.239088</td>\n",
       "      <td>0.247684</td>\n",
       "      <td>0.219875</td>\n",
       "      <td>0.113825</td>\n",
       "      <td>1.0</td>\n",
       "    </tr>\n",
       "    <tr>\n",
       "      <th>99</th>\n",
       "      <td>0.191617</td>\n",
       "      <td>0.268169</td>\n",
       "      <td>0.290841</td>\n",
       "      <td>0.274200</td>\n",
       "      <td>0.307253</td>\n",
       "      <td>0.279024</td>\n",
       "      <td>0.299957</td>\n",
       "      <td>0.301959</td>\n",
       "      <td>0.296282</td>\n",
       "      <td>0.288969</td>\n",
       "      <td>...</td>\n",
       "      <td>0.233244</td>\n",
       "      <td>0.220671</td>\n",
       "      <td>0.233571</td>\n",
       "      <td>0.240547</td>\n",
       "      <td>0.232636</td>\n",
       "      <td>0.272158</td>\n",
       "      <td>0.230000</td>\n",
       "      <td>0.230572</td>\n",
       "      <td>0.139056</td>\n",
       "      <td>0.0</td>\n",
       "    </tr>\n",
       "  </tbody>\n",
       "</table>\n",
       "<p>100 rows × 7943 columns</p>\n",
       "</div>"
      ],
      "text/plain": [
       "           0         1         2         3         4         5         6  \\\n",
       "0   0.169612  0.287115  0.267216  0.275974  0.292110  0.309563  0.317175   \n",
       "1   0.174351  0.312157  0.327182  0.299184  0.318027  0.297137  0.307573   \n",
       "2   0.193988  0.290224  0.265105  0.288137  0.269287  0.269702  0.311207   \n",
       "3   0.204246  0.321680  0.307463  0.295943  0.309413  0.272664  0.284972   \n",
       "4   0.164443  0.280707  0.308290  0.263307  0.323898  0.281310  0.320523   \n",
       "..       ...       ...       ...       ...       ...       ...       ...   \n",
       "95  0.193887  0.311407  0.295306  0.306601  0.309750  0.262811  0.308039   \n",
       "96  0.170302  0.309465  0.305120  0.326540  0.266642  0.276798  0.312877   \n",
       "97  0.182120  0.310193  0.316029  0.310702  0.299148  0.253041  0.313074   \n",
       "98  0.179467  0.296477  0.295687  0.279144  0.313435  0.265706  0.303281   \n",
       "99  0.191617  0.268169  0.290841  0.274200  0.307253  0.279024  0.299957   \n",
       "\n",
       "           7         8         9  ...      7933      7934      7935      7936  \\\n",
       "0   0.317421  0.318605  0.314156  ...  0.252146  0.246157  0.248025  0.224416   \n",
       "1   0.300818  0.300708  0.293664  ...  0.214095  0.247493  0.249782  0.228567   \n",
       "2   0.259355  0.309963  0.319975  ...  0.250615  0.224553  0.217835  0.226266   \n",
       "3   0.288657  0.273974  0.280432  ...  0.243889  0.265660  0.216987  0.233821   \n",
       "4   0.335187  0.328307  0.300530  ...  0.202840  0.237048  0.227414  0.214180   \n",
       "..       ...       ...       ...  ...       ...       ...       ...       ...   \n",
       "95  0.253587  0.299421  0.300691  ...  0.236482  0.205081  0.243518  0.245286   \n",
       "96  0.278921  0.303688  0.306108  ...  0.234012  0.255663  0.260661  0.240933   \n",
       "97  0.305207  0.295551  0.297633  ...  0.246526  0.216176  0.224410  0.222098   \n",
       "98  0.310336  0.268573  0.265657  ...  0.236000  0.218042  0.218620  0.226480   \n",
       "99  0.301959  0.296282  0.288969  ...  0.233244  0.220671  0.233571  0.240547   \n",
       "\n",
       "        7937      7938      7939      7940      7941  ground_truth  \n",
       "0   0.272355  0.237474  0.225354  0.249329  0.148723           1.0  \n",
       "1   0.204650  0.273847  0.222434  0.255746  0.142763           1.0  \n",
       "2   0.208134  0.237345  0.222377  0.243450  0.153754           1.0  \n",
       "3   0.219136  0.245737  0.234042  0.250238  0.130056           1.0  \n",
       "4   0.214628  0.267634  0.216995  0.238549  0.143976           0.0  \n",
       "..       ...       ...       ...       ...       ...           ...  \n",
       "95  0.244349  0.251241  0.260278  0.221804  0.124396           1.0  \n",
       "96  0.239136  0.241369  0.249543  0.244317  0.131487           1.0  \n",
       "97  0.252650  0.224410  0.233877  0.232398  0.143704           1.0  \n",
       "98  0.263035  0.239088  0.247684  0.219875  0.113825           1.0  \n",
       "99  0.232636  0.272158  0.230000  0.230572  0.139056           0.0  \n",
       "\n",
       "[100 rows x 7943 columns]"
      ]
     },
     "execution_count": 864,
     "metadata": {},
     "output_type": "execute_result"
    }
   ],
   "source": [
    "# create a histogram along the sample dimension \n",
    "df_small = (pd.DataFrame(arr_small_2d)\n",
    "            # add a column \"ground_truth\" as categorical which contains the ground truth\n",
    "            .assign(ground_truth=pd.Categorical(arr_gt))\n",
    "            )\n",
    "# df_small.hist(bins=100, figsize=(8, 4))\n",
    "df_small"
   ]
  },
  {
   "cell_type": "code",
   "execution_count": 865,
   "metadata": {},
   "outputs": [
    {
     "data": {
      "text/plain": [
       "<Axes: >"
      ]
     },
     "execution_count": 865,
     "metadata": {},
     "output_type": "execute_result"
    },
    {
     "data": {
      "image/png": "[encoded data removed]",
      "text/plain": [
       "<Figure size 800x400 with 1 Axes>"
      ]
     },
     "metadata": {},
     "output_type": "display_data"
    }
   ],
   "source": [
    "# create histogram for one column\n",
    "col_nr = 501\n",
    "df_small.loc[df_small[\"ground_truth\"]==1 , col_nr].hist(bins=100, figsize=(8, 4), color='red')\n",
    "df_small.loc[df_small[\"ground_truth\"]==0 , col_nr].hist(bins=100, figsize=(8, 4), color='blue')\n"
   ]
  },
  {
   "cell_type": "code",
   "execution_count": 866,
   "metadata": {},
   "outputs": [
    {
     "data": {
      "text/plain": [
       "<Axes: >"
      ]
     },
     "execution_count": 866,
     "metadata": {},
     "output_type": "execute_result"
    },
    {
     "data": {
      "image/png": "[encoded data removed]",
      "text/plain": [
       "<Figure size 800x400 with 1 Axes>"
      ]
     },
     "metadata": {},
     "output_type": "display_data"
    }
   ],
   "source": [
    "# increase two values of the column for the ground truth 1\n",
    "changed_col = [col_nr, col_nr * 2 + 123]\n",
    "df_small.loc[df_small[\"ground_truth\"]==1 , changed_col] *= 1.05\n",
    "\n",
    "# create histogram for one column\n",
    "df_small.loc[df_small[\"ground_truth\"]==1 , col_nr].hist(bins=100, figsize=(8, 4), color='red')\n",
    "df_small.loc[df_small[\"ground_truth\"]==0 , col_nr].hist(bins=100, figsize=(8, 4), color='blue')"
   ]
  },
  {
   "attachments": {},
   "cell_type": "markdown",
   "metadata": {},
   "source": [
    "### Analysis with mean of histogram"
   ]
  },
  {
   "cell_type": "code",
   "execution_count": 867,
   "metadata": {},
   "outputs": [
    {
     "name": "stdout",
     "output_type": "stream",
     "text": [
      "difference between the two histograms: 0.03054008231390254\n"
     ]
    }
   ],
   "source": [
    "# calculate difference between the two histograms\n",
    "diff = np.abs(df_small.loc[df_small[\"ground_truth\"]==1 , col_nr].mean() \n",
    "              - df_small.loc[df_small[\"ground_truth\"]==0 , col_nr].mean())\n",
    "print(f\"difference between the two histograms: {diff}\")"
   ]
  },
  {
   "cell_type": "code",
   "execution_count": 868,
   "metadata": {},
   "outputs": [
    {
     "name": "stdout",
     "output_type": "stream",
     "text": [
      "column number = 501, difference = 0.03054008231390254\n",
      "column number = 1125, difference = 0.02542575445385059\n",
      "column number = 802, difference = 0.02068403998065127\n",
      "column number = 1988, difference = 0.020633522766124512\n",
      "column number = 2330, difference = 0.01884953434527814\n",
      "column number = 2711, difference = 0.018078110036117145\n",
      "column number = 3051, difference = 0.018065071409874622\n",
      "column number = 3568, difference = 0.017942092350066552\n",
      "column number = 4232, difference = 0.017605651958501056\n",
      "column number = 6727, difference = 0.017462655658897652\n"
     ]
    },
    {
     "data": {
      "image/png": "[encoded data removed]",
      "text/plain": [
       "<Figure size 1000x250 with 4 Axes>"
      ]
     },
     "metadata": {},
     "output_type": "display_data"
    }
   ],
   "source": [
    "# find the columns with the biggest difference\n",
    "diff_dict = {}\n",
    "for col in range(df_small.shape[1] - 1):  # -1 because the last column is the ground truth\n",
    "    diff = np.abs(df_small.loc[df_small[\"ground_truth\"]==1 , col].mean() \n",
    "                  - df_small.loc[df_small[\"ground_truth\"]==0 , col].mean())\n",
    "    diff_dict[col] = diff\n",
    "diff_list = sorted(diff_dict.items(), key=lambda x:x[1], reverse=True)  # creates a list of tuples\n",
    "\n",
    "# print the first 10 pairs of the diff_dict\n",
    "for i in range(10):\n",
    "    print(f\"column number = {diff_list[i][0]}, difference = {diff_list[i][1]}\")\n",
    "\n",
    "fig, axs = plt.subplots(1, 4, figsize=(10, 2.5))  # Simplify subplot creation\n",
    "for i in range(4):\n",
    "    col = diff_list[i][0]\n",
    "    ax = axs[i]\n",
    "    line1, _, patches1 = ax.hist(df_small.loc[df_small[\"ground_truth\"]==1 , col], bins=100, color='red')\n",
    "    line2, _, patches2 = ax.hist(df_small.loc[df_small[\"ground_truth\"]==0 , col], bins=100, color='blue')\n",
    "\n",
    "    ax.set_title(f\"feature {col}\", fontsize=10)\n",
    "    ax.set_xlabel(f\"value [-]\")\n",
    "    ax.set_ylabel(f\"count\")\n",
    "    ax.set_ylim([0, 4])\n",
    "\n",
    "# Create patches for the legend\n",
    "patches = [mpatches.Patch(color='red', label='verum class'),\n",
    "           mpatches.Patch(color='blue', label='sham class')]\n",
    "\n",
    "# Add the legend to the plot\n",
    "fig.legend(handles=patches, loc='lower center', ncol=2, bbox_to_anchor=(0.5, -0.1))\n",
    "\n",
    "plt.tight_layout()\n",
    "plt.subplots_adjust(wspace=0.6)\n",
    "plt.show()\n",
    "\n",
    "# save the figure as svg\n",
    "fig.savefig(\"../figures/histogram.svg\", format=\"svg\", bbox_inches=\"tight\", pad_inches=0.05)"
   ]
  },
  {
   "attachments": {},
   "cell_type": "markdown",
   "metadata": {},
   "source": [
    "### Analysis with diff of cumulative histogram"
   ]
  },
  {
   "cell_type": "code",
   "execution_count": 869,
   "metadata": {},
   "outputs": [
    {
     "data": {
      "image/png": "[encoded data removed]",
      "text/plain": [
       "<Figure size 1000x250 with 4 Axes>"
      ]
     },
     "metadata": {},
     "output_type": "display_data"
    }
   ],
   "source": [
    "# min and max values of the entire array to set the same range for all histograms (to make sure the binning is the same)\n",
    "max_value = np.max(df_small.iloc[:, :-1].values)\n",
    "min_value = np.min(df_small.iloc[:, :-1].values)\n",
    "\n",
    "# create a cumulative histogram\n",
    "fig, axs = plt.subplots(1, 4, figsize=(10, 2.5))\n",
    "for i in range(4):\n",
    "    col = diff_list[i][0]\n",
    "    ax = axs[i]\n",
    "    ax.hist(df_small.loc[df_small[\"ground_truth\"]==1 , col], density=True,\n",
    "            bins=100, color='red', cumulative=True, range=(min_value, max_value))\n",
    "    ax.hist(df_small.loc[df_small[\"ground_truth\"]==0 , col], density=True,\n",
    "            bins=100, color='blue', cumulative=True, range=(min_value, max_value), alpha=0.5)\n",
    "    # add title, x and y label\n",
    "    ax.set_title(f\"feature {col}\", fontsize=10)\n",
    "    ax.set_xlabel(f\"value [-]\")\n",
    "    ax.set_ylabel(f\"cumulative probability [-]\")\n",
    "\n",
    "# Create patches for the legend\n",
    "patches = [mpatches.Patch(color='red', label='verum class'),\n",
    "           mpatches.Patch(color='blue', label='sham class')]\n",
    "\n",
    "# Add the legend to the plot\n",
    "fig.legend(handles=patches, loc='lower center', ncol=2, bbox_to_anchor=(0.5, -0.1))\n",
    "\n",
    "# add horizontal space between the subplots\n",
    "\n",
    "plt.tight_layout()\n",
    "plt.subplots_adjust(wspace=0.6)\n",
    "plt.show()\n",
    "\n",
    "fig.savefig(\"../figures/cumulative_histogram.svg\", format=\"svg\", bbox_inches=\"tight\", pad_inches=0.05)\n"
   ]
  },
  {
   "cell_type": "code",
   "execution_count": 870,
   "metadata": {},
   "outputs": [
    {
     "name": "stdout",
     "output_type": "stream",
     "text": [
      "column number = 501, area of diff. = 1153.9363757513402\n",
      "column number = 1125, area of diff. = 939.377443024769\n",
      "column number = 802, area of diff. = 804.9321110545651\n",
      "column number = 1988, area of diff. = 800.5033236484858\n",
      "column number = 2330, area of diff. = 740.714693666441\n",
      "column number = 4232, area of diff. = 714.3792256981596\n",
      "column number = 3051, area of diff. = 685.4339365798683\n",
      "column number = 3568, area of diff. = 672.0684888722421\n",
      "column number = 6727, area of diff. = 661.9455462297799\n",
      "column number = 2711, area of diff. = 658.228528228251\n"
     ]
    }
   ],
   "source": [
    "# calculate the difference between the two cumulative histograms including \n",
    "# a resampling (done with the range argument) so that the two histograms have the same bins\n",
    "cum_diff_dict = {}\n",
    "for col in df_small.columns[:-1]:  # -1 because the last column is the ground truth\n",
    "    cum_diff = np.abs(np.cumsum(np.histogram(df_small.loc[df_small[\"ground_truth\"]==1 , col],\n",
    "                                                bins=100, density=True,\n",
    "                                                range=(min_value, max_value)  # resample to have same binning\n",
    "                                                )[0])\n",
    "                    - np.cumsum(np.histogram(df_small.loc[df_small[\"ground_truth\"]==0 , col],\n",
    "                                                bins=100, density=True,\n",
    "                                                range=(min_value, max_value)  # resample to have same binning\n",
    "                                                )[0]))\n",
    "    cum_diff_dict[col] = cum_diff.sum()\n",
    "cum_diff_list = sorted(cum_diff_dict.items(), key=lambda x:x[1], reverse=True)  # creates a list of tuples\n",
    "\n",
    "# print the first 10 pairs of the diff_dict\n",
    "for i in range(10):\n",
    "    print(f\"column number = {cum_diff_list[i][0]}, area of diff. = {cum_diff_list[i][1]}\")"
   ]
  },
  {
   "cell_type": "code",
   "execution_count": 871,
   "metadata": {},
   "outputs": [
    {
     "data": {
      "image/png": "[encoded data removed]",
      "text/plain": [
       "<Figure size 1000x250 with 4 Axes>"
      ]
     },
     "metadata": {},
     "output_type": "display_data"
    }
   ],
   "source": [
    "fig = plt.figure(figsize=(10, 2.5))\n",
    "for i in range(4):\n",
    "    col = cum_diff_list[i][0]\n",
    "    ax = fig.add_subplot(1, 4, i+1)\n",
    "    diff = np.abs(np.cumsum(np.histogram(df_small.loc[df_small[\"ground_truth\"]==1 , col], \n",
    "                                         bins=100, density=True, \n",
    "                                         range=(min_value, max_value)  # resample to have same binning\n",
    "                                         )[0]) \n",
    "                  - np.cumsum(np.histogram(df_small.loc[df_small[\"ground_truth\"]==0 , col], \n",
    "                                           bins=100, density=True,\n",
    "                                           range=(min_value, max_value)  # resample to have same binning\n",
    "                                           )[0]))\n",
    "    ax.plot(diff, color='black')\n",
    "    ax.set_ylim(0, 120)\n",
    "\n",
    "    ax.grid(alpha=0.5)\n",
    "    ax.set_title(f\"feature {col}\\n  cumsum = {diff.sum():.2f}\", fontsize=10)\n",
    "    ax.set_xlabel(f\"bin number\")\n",
    "    ax.set_ylabel(f\"sum of each bin [-]\")\n",
    "\n",
    "\n",
    "plt.tight_layout()\n",
    "plt.subplots_adjust(wspace=0.6)\n",
    "plt.show()\n",
    "\n",
    "fig.savefig(\"../figures/cumulative_histogram_diff.svg\", format=\"svg\", bbox_inches=\"tight\", pad_inches=0.05)"
   ]
  },
  {
   "cell_type": "code",
   "execution_count": 872,
   "metadata": {},
   "outputs": [
    {
     "data": {
      "image/png": "[encoded data removed]",
      "text/plain": [
       "<Figure size 640x480 with 1 Axes>"
      ]
     },
     "metadata": {},
     "output_type": "display_data"
    }
   ],
   "source": [
    "# plot histogram of cum_diff_list\n",
    "plt.hist([x[1] for x in cum_diff_list], bins=100, log=True);"
   ]
  },
  {
   "cell_type": "code",
   "execution_count": 873,
   "metadata": {},
   "outputs": [
    {
     "name": "stdout",
     "output_type": "stream",
     "text": [
      "[501, 1125, 802, 1988, 2330, 4232, 3051, 3568, 6727, 2711, 1161, 6408, 7316, 1445]\n",
      "[1153.9363757513402, 939.377443024769, 804.9321110545651, 800.5033236484858, 740.714693666441, 714.3792256981596, 685.4339365798683, 672.0684888722421, 661.9455462297799, 658.228528228251, 644.4676530736524, 641.5414899660661, 631.6558037917868, 630.3904359614803]\n"
     ]
    }
   ],
   "source": [
    "# create and print list of columns with the biggest difference\n",
    "feature_list = [cum_diff_list[i][0] for i in range(14)]\n",
    "print(feature_list)\n",
    "\n",
    "feature_list_values = [cum_diff_list[i][1] for i in range(14)]\n",
    "print(feature_list_values)\n"
   ]
  },
  {
   "cell_type": "code",
   "execution_count": null,
   "metadata": {},
   "outputs": [],
   "source": []
  },
  {
   "cell_type": "code",
   "execution_count": null,
   "metadata": {},
   "outputs": [],
   "source": []
  }
 ],
 "metadata": {
  "kernelspec": {
   "display_name": "env_tpot_pip",
   "language": "python",
   "name": "python3"
  },
  "language_info": {
   "codemirror_mode": {
    "name": "ipython",
    "version": 3
   },
   "file_extension": ".py",
   "mimetype": "text/x-python",
   "name": "python",
   "nbconvert_exporter": "python",
   "pygments_lexer": "ipython3",
   "version": "3.10.9 (main, Mar  1 2023, 18:23:06) [GCC 11.2.0]"
  },
  "orig_nbformat": 4,
  "vscode": {
   "interpreter": {
    "hash": "b4d54ec3bd672709454c9a9b79935a93959c78963a0f798583835c6bddec5b34"
   }
  }
 },
 "nbformat": 4,
 "nbformat_minor": 2
}
