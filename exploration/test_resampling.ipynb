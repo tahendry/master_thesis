{
 "cells": [
  {
   "attachments": {},
   "cell_type": "markdown",
   "metadata": {},
   "source": [
    "This notebook is used to compare the old vs. the new resampling function.\n",
    "\n",
    "The old one used nested for loops which was inefficient.\n",
    "\n",
    "The new one uses numpy method which are much faster. \n",
    "\n",
    "The comparison showed that the results are the same and therefore the resample function was updated."
   ]
  },
  {
   "cell_type": "code",
   "execution_count": 16,
   "metadata": {},
   "outputs": [],
   "source": [
    "import numpy as np\n",
    "import pandas as pd\n",
    "import os\n",
    "import nibabel as nib\n",
    "\n",
    "# add path to search for functions\n",
    "import sys\n",
    "sys.path.append(\"../\")\n",
    "\n",
    "from functions.function_get_label_df import get_label_df\n",
    "from functions.function_get_component_array import get_component_array\n",
    "from functions.function_get_best_features import get_best_features\n"
   ]
  },
  {
   "cell_type": "code",
   "execution_count": 17,
   "metadata": {},
   "outputs": [],
   "source": [
    "# since in a Jupyter notebook, the functions would be called from a wrong directory\n",
    "# the functions are copied here to be able to run the notebook\n",
    "\n",
    "def get_label_df():\n",
    "    \"\"\"\n",
    "    Returns a dataframe with the labels data.\n",
    "    \"\"\"\n",
    "    # read in the excel-file with the labels\n",
    "    data_path = \"../../data/\"\n",
    "    label_file = \"Conn_IDs_Matching_90_subjects.xlsx\"\n",
    "\n",
    "    # read excel with only the first three columns\n",
    "    # Sham = 1, Verum = 2\n",
    "    df_label = (pd.read_excel(os.path.join(data_path, label_file),\n",
    "                                usecols=[0, 1, 2])\n",
    "                .replace({\"Cond\": {1: 0}})\n",
    "                .replace({\"Cond\": {2: 1}})\n",
    "                )\n",
    "\n",
    "    df_label[\"Cond\"] = df_label[\"Cond\"].astype(\"category\")\n",
    "\n",
    "    return df_label\n",
    "\n",
    "def get_component_array(components, print_info=False):\n",
    "    \"\"\"\n",
    "    Returns an arrays with the stacked components of the MVPA data.\n",
    "\n",
    "    Parameters\n",
    "    ----------\n",
    "    component : list of components\n",
    "    \"\"\"\n",
    "\n",
    "    # read MVPA data\n",
    "    data_path = \"../../data/\"\n",
    "    path_content = os.listdir(os.path.join(data_path, \"Denoised_MVPA_8mm\"))\n",
    "\n",
    "    components = sorted(components)\n",
    "    comp_diff_list = []\n",
    "\n",
    "    for component in components:\n",
    "        sample_diff_list = []\n",
    "        # make two lists with pre (Condition002) and post (Condition003) data \n",
    "        # of component in loop\n",
    "        pre = sorted([x for x in path_content \n",
    "                            if f\"Component00{component}\" in x \n",
    "                            and \"Condition001\" in x])\n",
    "        post = sorted([x for x in path_content \n",
    "                            if f\"Component00{component}\" in x \n",
    "                            and \"Condition002\" in x])\n",
    "        \n",
    "        if print_info:\n",
    "            print(f\"there are {len(pre)} pre and {len(post)} post samples for component {component}\")\n",
    "\n",
    "        # loop over pre and post samples and calculate difference\n",
    "        for pre, post in zip(pre, post):\n",
    "            pre_vol = nib.load(\n",
    "                os.path.join(data_path, \"Denoised_MVPA_8mm\", pre)\n",
    "            )\n",
    "            post_vol = nib.load(\n",
    "                os.path.join(data_path, \"Denoised_MVPA_8mm\", post)\n",
    "            )\n",
    "            pre_vol_data = pre_vol.get_fdata()\n",
    "            post_vol_data = post_vol.get_fdata()\n",
    "            diff_vol_data = post_vol_data - pre_vol_data  # type = array\n",
    "            sample_diff_list.append(diff_vol_data)\n",
    "\n",
    "        comp_diff_list.append(sample_diff_list)\n",
    "\n",
    "    # this stacks the two lists on top of each other\n",
    "    # resulting in [component, sample, x, y, z]\n",
    "    inpt_diff_stacked = np.stack(comp_diff_list, axis=0)\n",
    "\n",
    "    if print_info:\n",
    "        print(f\"type of single volume array {type(diff_vol_data)}\")\n",
    "        print(f\"shape of single volume array {diff_vol_data.shape}\")\n",
    "        print(f\"shape of stacked array {inpt_diff_stacked.shape}\")\n",
    "\n",
    "    return inpt_diff_stacked"
   ]
  },
  {
   "cell_type": "code",
   "execution_count": 18,
   "metadata": {},
   "outputs": [
    {
     "name": "stderr",
     "output_type": "stream",
     "text": [
      "/tmp/ipykernel_709942/323295258.py:14: FutureWarning: Defining usecols with out of bounds indices is deprecated and will raise a ParserError in a future version.\n",
      "  df_label = (pd.read_excel(os.path.join(data_path, label_file),\n"
     ]
    },
    {
     "name": "stdout",
     "output_type": "stream",
     "text": [
      "shape of component_array_5d: (1, 90, 91, 109, 91)\n"
     ]
    }
   ],
   "source": [
    "# get the label data\n",
    "df_label = get_label_df()\n",
    "\n",
    "# get the MVPA data arrays\n",
    "component_array_5d = get_component_array([1])\n",
    "print(f\"shape of component_array_5d: {component_array_5d.shape}\")"
   ]
  },
  {
   "cell_type": "code",
   "execution_count": 19,
   "metadata": {},
   "outputs": [],
   "source": [
    "def reshape_3d_array(big_array, volume_size):\n",
    "    big_array_size = big_array.shape\n",
    "    \n",
    "    # Calculate the padding needed to make the big array a multiple of the volume size\n",
    "    padding = [((volume_size[i] - big_array_size[i] % volume_size[i]) % volume_size[i]) // 2 for i in range(3)]\n",
    "    \n",
    "    # Pad the big array\n",
    "    padded_big_array = np.pad(big_array, [(padding[0], padding[0]), \n",
    "                                        (padding[1], padding[1]), \n",
    "                                        (padding[2], padding[2])])\n",
    "    \n",
    "    # Calculate the size of the small array\n",
    "    small_array_size = tuple(int(padded_big_array.shape[i] / volume_size[i]) for i in range(3))\n",
    "    small_array = np.zeros(small_array_size)\n",
    "    \n",
    "    # Iterate over each element of the smaller array\n",
    "    for i in range(small_array_size[0]):\n",
    "        for j in range(small_array_size[1]):\n",
    "            for k in range(small_array_size[2]):\n",
    "                # Calculate the mean of the volume from the bigger array\n",
    "                volume_mean = np.mean(padded_big_array[i*volume_size[0]:(i+1)*volume_size[0],\n",
    "                                                    j*volume_size[1]:(j+1)*volume_size[1],\n",
    "                                                    k*volume_size[2]:(k+1)*volume_size[2]])\n",
    "                # Assign the mean to the corresponding index in the smaller array\n",
    "                small_array[i, j, k] = volume_mean\n",
    "    \n",
    "    return small_array"
   ]
  },
  {
   "cell_type": "code",
   "execution_count": 31,
   "metadata": {},
   "outputs": [],
   "source": [
    "def resample_3d_array(big_array, volume_size):\n",
    "    big_array_size = big_array.shape\n",
    "    \n",
    "    # Calculate the padding needed to make the big array a multiple of the volume size\n",
    "    padding = [((volume_size[i] - big_array_size[i] % volume_size[i]) % volume_size[i]) // 2 for i in range(3)]\n",
    "    \n",
    "    # Pad the big array\n",
    "    padded_big_array = np.pad(big_array, [(padding[0], padding[0]), \n",
    "                                        (padding[1], padding[1]), \n",
    "                                        (padding[2], padding[2])])\n",
    "    \n",
    "    # Calculate the size of the small array\n",
    "    small_4d_array_size = tuple(int(padded_big_array.shape[i] / volume_size[i]) for i in range(3))\n",
    "    \n",
    "    # Create a view of the bigger array with the desired volume size and the proper strides\n",
    "    strides = tuple(padded_big_array.strides[i] * volume_size[i] for i in range(3)) + padded_big_array.strides\n",
    "    window_view = np.lib.stride_tricks.as_strided(padded_big_array, shape=small_4d_array_size + volume_size, strides=strides)\n",
    "    \n",
    "    # Calculate the mean of each volume and reshape the result to the desired small array size\n",
    "    small_4d_array = np.mean(window_view, axis=(-3, -2, -1)).reshape(small_4d_array_size)\n",
    "    \n",
    "    return small_4d_array\n"
   ]
  },
  {
   "cell_type": "code",
   "execution_count": 33,
   "metadata": {},
   "outputs": [],
   "source": [
    "a = resample_3d_array(component_array_5d[0, 0], (1, 1, 1))"
   ]
  },
  {
   "cell_type": "code",
   "execution_count": 34,
   "metadata": {},
   "outputs": [],
   "source": [
    "b = reshape_3d_array(component_array_5d[0, 0], (1, 1, 1))"
   ]
  },
  {
   "cell_type": "code",
   "execution_count": 35,
   "metadata": {},
   "outputs": [
    {
     "data": {
      "text/plain": [
       "True"
      ]
     },
     "execution_count": 35,
     "metadata": {},
     "output_type": "execute_result"
    }
   ],
   "source": [
    "# compare if a and b are the same\n",
    "np.array_equal(a, b)"
   ]
  },
  {
   "cell_type": "code",
   "execution_count": 40,
   "metadata": {},
   "outputs": [
    {
     "data": {
      "text/plain": [
       "True"
      ]
     },
     "execution_count": 40,
     "metadata": {},
     "output_type": "execute_result"
    }
   ],
   "source": [
    "resample_cube = 3\n",
    "\n",
    "b = reshape_3d_array(component_array_5d[0, 0], (resample_cube, resample_cube, resample_cube))\n",
    "a = resample_3d_array(component_array_5d[0, 0], (resample_cube, resample_cube, resample_cube))\n",
    "\n",
    "# compare if a and b are the same\n",
    "np.array_equal(a, b)"
   ]
  },
  {
   "cell_type": "code",
   "execution_count": null,
   "metadata": {},
   "outputs": [],
   "source": []
  }
 ],
 "metadata": {
  "kernelspec": {
   "display_name": "env_pycaret",
   "language": "python",
   "name": "python3"
  },
  "language_info": {
   "codemirror_mode": {
    "name": "ipython",
    "version": 3
   },
   "file_extension": ".py",
   "mimetype": "text/x-python",
   "name": "python",
   "nbconvert_exporter": "python",
   "pygments_lexer": "ipython3",
   "version": "3.10.10 (main, Mar 21 2023, 18:45:11) [GCC 11.2.0]"
  },
  "orig_nbformat": 4,
  "vscode": {
   "interpreter": {
    "hash": "c97c13aa97b182b67cdded577eb76e26b03cf0015112a1451fb0bb2c78800eca"
   }
  }
 },
 "nbformat": 4,
 "nbformat_minor": 2
}
